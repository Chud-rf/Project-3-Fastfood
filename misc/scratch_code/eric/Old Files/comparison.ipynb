{
 "cells": [
  {
   "cell_type": "markdown",
   "id": "55854ef8-e8c8-4de5-a552-7697d5441241",
   "metadata": {},
   "source": [
    "# Compare Nutrition in Fast Food Items"
   ]
  },
  {
   "cell_type": "code",
   "execution_count": 9,
   "id": "03c14300-c8b5-4e71-bed6-7d44af4684c2",
   "metadata": {},
   "outputs": [],
   "source": [
    "# Import Libraries\n",
    "import pandas as pd\n",
    "import matplotlib.pyplot as plt\n",
    "import numpy as np\n",
    "from scipy.stats import linregress, ttest_ind\n",
    "import scipy.stats as stats\n",
    "from scipy import stats\n",
    "import pygwalker as pyg\n",
    "import sys\n",
    "import requests\n",
    "from ipywidgets import interact, widgets, fixed\n",
    "from IPython.display import display\n",
    "import matplotlib.patheffects as path_effects\n",
    "import altair as alt\n"
   ]
  },
  {
   "cell_type": "code",
   "execution_count": 10,
   "id": "9f21647c-b64c-43a7-ae3c-4ffc5ae1e228",
   "metadata": {},
   "outputs": [
    {
     "data": {
      "text/html": [
       "<div>\n",
       "<style scoped>\n",
       "    .dataframe tbody tr th:only-of-type {\n",
       "        vertical-align: middle;\n",
       "    }\n",
       "\n",
       "    .dataframe tbody tr th {\n",
       "        vertical-align: top;\n",
       "    }\n",
       "\n",
       "    .dataframe thead th {\n",
       "        text-align: right;\n",
       "    }\n",
       "</style>\n",
       "<table border=\"1\" class=\"dataframe\">\n",
       "  <thead>\n",
       "    <tr style=\"text-align: right;\">\n",
       "      <th></th>\n",
       "      <th>restaurant</th>\n",
       "      <th>item</th>\n",
       "      <th>calories</th>\n",
       "      <th>cal_fat</th>\n",
       "      <th>total_fat</th>\n",
       "      <th>sat_fat</th>\n",
       "      <th>trans_fat</th>\n",
       "      <th>cholesterol</th>\n",
       "      <th>sodium</th>\n",
       "      <th>total_carb</th>\n",
       "      <th>fiber</th>\n",
       "      <th>sugar</th>\n",
       "      <th>protein</th>\n",
       "      <th>vit_a</th>\n",
       "      <th>vit_c</th>\n",
       "      <th>calcium</th>\n",
       "      <th>salad</th>\n",
       "    </tr>\n",
       "  </thead>\n",
       "  <tbody>\n",
       "    <tr>\n",
       "      <th>0</th>\n",
       "      <td>Mcdonalds</td>\n",
       "      <td>Artisan Grilled Chicken Sandwich</td>\n",
       "      <td>380</td>\n",
       "      <td>60</td>\n",
       "      <td>7</td>\n",
       "      <td>2.0</td>\n",
       "      <td>0.0</td>\n",
       "      <td>95</td>\n",
       "      <td>1110</td>\n",
       "      <td>44</td>\n",
       "      <td>3.0</td>\n",
       "      <td>11</td>\n",
       "      <td>37.0</td>\n",
       "      <td>4.0</td>\n",
       "      <td>20.0</td>\n",
       "      <td>20.0</td>\n",
       "      <td>Other</td>\n",
       "    </tr>\n",
       "    <tr>\n",
       "      <th>1</th>\n",
       "      <td>Mcdonalds</td>\n",
       "      <td>Single Bacon Smokehouse Burger</td>\n",
       "      <td>840</td>\n",
       "      <td>410</td>\n",
       "      <td>45</td>\n",
       "      <td>17.0</td>\n",
       "      <td>1.5</td>\n",
       "      <td>130</td>\n",
       "      <td>1580</td>\n",
       "      <td>62</td>\n",
       "      <td>2.0</td>\n",
       "      <td>18</td>\n",
       "      <td>46.0</td>\n",
       "      <td>6.0</td>\n",
       "      <td>20.0</td>\n",
       "      <td>20.0</td>\n",
       "      <td>Other</td>\n",
       "    </tr>\n",
       "    <tr>\n",
       "      <th>2</th>\n",
       "      <td>Mcdonalds</td>\n",
       "      <td>Double Bacon Smokehouse Burger</td>\n",
       "      <td>1130</td>\n",
       "      <td>600</td>\n",
       "      <td>67</td>\n",
       "      <td>27.0</td>\n",
       "      <td>3.0</td>\n",
       "      <td>220</td>\n",
       "      <td>1920</td>\n",
       "      <td>63</td>\n",
       "      <td>3.0</td>\n",
       "      <td>18</td>\n",
       "      <td>70.0</td>\n",
       "      <td>10.0</td>\n",
       "      <td>20.0</td>\n",
       "      <td>50.0</td>\n",
       "      <td>Other</td>\n",
       "    </tr>\n",
       "    <tr>\n",
       "      <th>3</th>\n",
       "      <td>Mcdonalds</td>\n",
       "      <td>Grilled Bacon Smokehouse Chicken Sandwich</td>\n",
       "      <td>750</td>\n",
       "      <td>280</td>\n",
       "      <td>31</td>\n",
       "      <td>10.0</td>\n",
       "      <td>0.5</td>\n",
       "      <td>155</td>\n",
       "      <td>1940</td>\n",
       "      <td>62</td>\n",
       "      <td>2.0</td>\n",
       "      <td>18</td>\n",
       "      <td>55.0</td>\n",
       "      <td>6.0</td>\n",
       "      <td>25.0</td>\n",
       "      <td>20.0</td>\n",
       "      <td>Other</td>\n",
       "    </tr>\n",
       "    <tr>\n",
       "      <th>4</th>\n",
       "      <td>Mcdonalds</td>\n",
       "      <td>Crispy Bacon Smokehouse Chicken Sandwich</td>\n",
       "      <td>920</td>\n",
       "      <td>410</td>\n",
       "      <td>45</td>\n",
       "      <td>12.0</td>\n",
       "      <td>0.5</td>\n",
       "      <td>120</td>\n",
       "      <td>1980</td>\n",
       "      <td>81</td>\n",
       "      <td>4.0</td>\n",
       "      <td>18</td>\n",
       "      <td>46.0</td>\n",
       "      <td>6.0</td>\n",
       "      <td>20.0</td>\n",
       "      <td>20.0</td>\n",
       "      <td>Other</td>\n",
       "    </tr>\n",
       "  </tbody>\n",
       "</table>\n",
       "</div>"
      ],
      "text/plain": [
       "  restaurant                                       item  calories  cal_fat  \\\n",
       "0  Mcdonalds           Artisan Grilled Chicken Sandwich       380       60   \n",
       "1  Mcdonalds             Single Bacon Smokehouse Burger       840      410   \n",
       "2  Mcdonalds             Double Bacon Smokehouse Burger      1130      600   \n",
       "3  Mcdonalds  Grilled Bacon Smokehouse Chicken Sandwich       750      280   \n",
       "4  Mcdonalds   Crispy Bacon Smokehouse Chicken Sandwich       920      410   \n",
       "\n",
       "   total_fat  sat_fat  trans_fat  cholesterol  sodium  total_carb  fiber  \\\n",
       "0          7      2.0        0.0           95    1110          44    3.0   \n",
       "1         45     17.0        1.5          130    1580          62    2.0   \n",
       "2         67     27.0        3.0          220    1920          63    3.0   \n",
       "3         31     10.0        0.5          155    1940          62    2.0   \n",
       "4         45     12.0        0.5          120    1980          81    4.0   \n",
       "\n",
       "   sugar  protein  vit_a  vit_c  calcium  salad  \n",
       "0     11     37.0    4.0   20.0     20.0  Other  \n",
       "1     18     46.0    6.0   20.0     20.0  Other  \n",
       "2     18     70.0   10.0   20.0     50.0  Other  \n",
       "3     18     55.0    6.0   25.0     20.0  Other  \n",
       "4     18     46.0    6.0   20.0     20.0  Other  "
      ]
     },
     "execution_count": 10,
     "metadata": {},
     "output_type": "execute_result"
    }
   ],
   "source": [
    "# Load CSVs\n",
    "menu_df = pd.read_csv('Data/fastfood.csv')\n",
    "menu_df.head()"
   ]
  },
  {
   "cell_type": "code",
   "execution_count": 11,
   "id": "53fc1dd5-35c8-428c-835b-73ae3139ee7f",
   "metadata": {},
   "outputs": [
    {
     "name": "stdout",
     "output_type": "stream",
     "text": [
      "<class 'pandas.core.frame.DataFrame'>\n",
      "RangeIndex: 515 entries, 0 to 514\n",
      "Data columns (total 17 columns):\n",
      " #   Column       Non-Null Count  Dtype  \n",
      "---  ------       --------------  -----  \n",
      " 0   restaurant   515 non-null    object \n",
      " 1   item         515 non-null    object \n",
      " 2   calories     515 non-null    int64  \n",
      " 3   cal_fat      515 non-null    int64  \n",
      " 4   total_fat    515 non-null    int64  \n",
      " 5   sat_fat      515 non-null    float64\n",
      " 6   trans_fat    515 non-null    float64\n",
      " 7   cholesterol  515 non-null    int64  \n",
      " 8   sodium       515 non-null    int64  \n",
      " 9   total_carb   515 non-null    int64  \n",
      " 10  fiber        503 non-null    float64\n",
      " 11  sugar        515 non-null    int64  \n",
      " 12  protein      514 non-null    float64\n",
      " 13  vit_a        301 non-null    float64\n",
      " 14  vit_c        305 non-null    float64\n",
      " 15  calcium      305 non-null    float64\n",
      " 16  salad        515 non-null    object \n",
      "dtypes: float64(7), int64(7), object(3)\n",
      "memory usage: 68.5+ KB\n"
     ]
    }
   ],
   "source": [
    "# Get information on df\n",
    "menu_df.info()"
   ]
  },
  {
   "cell_type": "code",
   "execution_count": 12,
   "id": "23555ba0-dadc-49c3-b87a-499ad3ad3187",
   "metadata": {},
   "outputs": [
    {
     "name": "stdout",
     "output_type": "stream",
     "text": [
      "<class 'pandas.core.frame.DataFrame'>\n",
      "RangeIndex: 515 entries, 0 to 514\n",
      "Data columns (total 13 columns):\n",
      " #   Column       Non-Null Count  Dtype  \n",
      "---  ------       --------------  -----  \n",
      " 0   restaurant   515 non-null    object \n",
      " 1   item         515 non-null    object \n",
      " 2   calories     515 non-null    int64  \n",
      " 3   cal_fat      515 non-null    int64  \n",
      " 4   total_fat    515 non-null    int64  \n",
      " 5   sat_fat      515 non-null    float64\n",
      " 6   trans_fat    515 non-null    float64\n",
      " 7   cholesterol  515 non-null    int64  \n",
      " 8   sodium       515 non-null    int64  \n",
      " 9   total_carb   515 non-null    int64  \n",
      " 10  fiber        503 non-null    float64\n",
      " 11  sugar        515 non-null    int64  \n",
      " 12  protein      514 non-null    float64\n",
      "dtypes: float64(4), int64(7), object(2)\n",
      "memory usage: 52.4+ KB\n"
     ]
    }
   ],
   "source": [
    "# Drop Columns missing several values\n",
    "# Dropping Salad because it's not a useful field\n",
    "menu_df = menu_df.drop(labels=['vit_a', 'vit_c', 'calcium', 'salad'], axis=1)\n",
    "\n",
    "# Check to ensure it worked\n",
    "menu_df.info()"
   ]
  },
  {
   "cell_type": "code",
   "execution_count": 13,
   "id": "d1bb7d8b-0ca6-4f57-aa8c-bf0032b66253",
   "metadata": {},
   "outputs": [
    {
     "name": "stdout",
     "output_type": "stream",
     "text": [
      "<class 'pandas.core.frame.DataFrame'>\n",
      "RangeIndex: 515 entries, 0 to 514\n",
      "Data columns (total 13 columns):\n",
      " #   Column       Non-Null Count  Dtype  \n",
      "---  ------       --------------  -----  \n",
      " 0   restaurant   515 non-null    object \n",
      " 1   item         515 non-null    object \n",
      " 2   calories     515 non-null    int64  \n",
      " 3   cal_fat      515 non-null    int64  \n",
      " 4   total_fat    515 non-null    int64  \n",
      " 5   sat_fat      515 non-null    float64\n",
      " 6   trans_fat    515 non-null    float64\n",
      " 7   cholesterol  515 non-null    int64  \n",
      " 8   sodium       515 non-null    int64  \n",
      " 9   total_carb   515 non-null    int64  \n",
      " 10  fiber        515 non-null    float64\n",
      " 11  sugar        515 non-null    int64  \n",
      " 12  protein      515 non-null    float64\n",
      "dtypes: float64(4), int64(7), object(2)\n",
      "memory usage: 52.4+ KB\n"
     ]
    }
   ],
   "source": [
    "# Clean Fiber and Protien missing values\n",
    "# Calculate column averages\n",
    "fiber_avg = menu_df['fiber'].mean()\n",
    "protein_avg = menu_df['protein'].mean()\n",
    "\n",
    "# Fill missing values with averages\n",
    "menu_df['fiber'].fillna(fiber_avg, inplace=True)\n",
    "menu_df['protein'].fillna(protein_avg, inplace=True)\n",
    "\n",
    "# Verify the changes\n",
    "menu_df.info()"
   ]
  },
  {
   "cell_type": "code",
   "execution_count": 14,
   "id": "45e3edd3-44bb-4f4b-9211-d2295bda904d",
   "metadata": {},
   "outputs": [
    {
     "name": "stdout",
     "output_type": "stream",
     "text": [
      "<class 'pandas.core.frame.DataFrame'>\n",
      "RangeIndex: 515 entries, 0 to 514\n",
      "Data columns (total 14 columns):\n",
      " #   Column           Non-Null Count  Dtype  \n",
      "---  ------           --------------  -----  \n",
      " 0   restaurant       515 non-null    object \n",
      " 1   item             515 non-null    object \n",
      " 2   item_with_chain  515 non-null    object \n",
      " 3   calories         515 non-null    float64\n",
      " 4   cal_fat          515 non-null    float64\n",
      " 5   total_fat        515 non-null    float64\n",
      " 6   sat_fat          515 non-null    float64\n",
      " 7   trans_fat        515 non-null    float64\n",
      " 8   cholesterol      515 non-null    float64\n",
      " 9   sodium           515 non-null    float64\n",
      " 10  total_carb       515 non-null    float64\n",
      " 11  fiber            515 non-null    float64\n",
      " 12  sugar            515 non-null    float64\n",
      " 13  protein          515 non-null    float64\n",
      "dtypes: float64(11), object(3)\n",
      "memory usage: 56.5+ KB\n"
     ]
    }
   ],
   "source": [
    "# Convert all integer columns to floats to make it easier to compare\n",
    "int_columns = menu_df.select_dtypes(include='int64').columns\n",
    "menu_df[int_columns] = menu_df[int_columns].astype(float)\n",
    "\n",
    "# Create a new column to display the item with the chain name after, making it easier to read the drop down menus\n",
    "menu_df.insert(2, 'item_with_chain', menu_df['item'] + ' (' + menu_df['restaurant'] + ')')\n",
    "\n",
    "# Verify the changes\n",
    "menu_df.info()"
   ]
  },
  {
   "cell_type": "code",
   "execution_count": 15,
   "id": "64ed618e-ce68-4288-9c70-b0b8e77a7401",
   "metadata": {},
   "outputs": [
    {
     "data": {
      "text/html": [
       "<div>\n",
       "<style scoped>\n",
       "    .dataframe tbody tr th:only-of-type {\n",
       "        vertical-align: middle;\n",
       "    }\n",
       "\n",
       "    .dataframe tbody tr th {\n",
       "        vertical-align: top;\n",
       "    }\n",
       "\n",
       "    .dataframe thead th {\n",
       "        text-align: right;\n",
       "    }\n",
       "</style>\n",
       "<table border=\"1\" class=\"dataframe\">\n",
       "  <thead>\n",
       "    <tr style=\"text-align: right;\">\n",
       "      <th></th>\n",
       "      <th>restaurant</th>\n",
       "      <th>item</th>\n",
       "      <th>item_with_chain</th>\n",
       "      <th>calories</th>\n",
       "      <th>cal_fat</th>\n",
       "      <th>total_fat</th>\n",
       "      <th>sat_fat</th>\n",
       "      <th>trans_fat</th>\n",
       "      <th>cholesterol</th>\n",
       "      <th>sodium</th>\n",
       "      <th>total_carb</th>\n",
       "      <th>fiber</th>\n",
       "      <th>sugar</th>\n",
       "      <th>protein</th>\n",
       "    </tr>\n",
       "  </thead>\n",
       "  <tbody>\n",
       "    <tr>\n",
       "      <th>0</th>\n",
       "      <td>Mcdonalds</td>\n",
       "      <td>Artisan Grilled Chicken Sandwich</td>\n",
       "      <td>Artisan Grilled Chicken Sandwich (Mcdonalds)</td>\n",
       "      <td>380.0</td>\n",
       "      <td>60.0</td>\n",
       "      <td>7.0</td>\n",
       "      <td>2.0</td>\n",
       "      <td>0.0</td>\n",
       "      <td>95.0</td>\n",
       "      <td>1110.0</td>\n",
       "      <td>44.0</td>\n",
       "      <td>3.0</td>\n",
       "      <td>11.0</td>\n",
       "      <td>37.0</td>\n",
       "    </tr>\n",
       "    <tr>\n",
       "      <th>1</th>\n",
       "      <td>Mcdonalds</td>\n",
       "      <td>Single Bacon Smokehouse Burger</td>\n",
       "      <td>Single Bacon Smokehouse Burger (Mcdonalds)</td>\n",
       "      <td>840.0</td>\n",
       "      <td>410.0</td>\n",
       "      <td>45.0</td>\n",
       "      <td>17.0</td>\n",
       "      <td>1.5</td>\n",
       "      <td>130.0</td>\n",
       "      <td>1580.0</td>\n",
       "      <td>62.0</td>\n",
       "      <td>2.0</td>\n",
       "      <td>18.0</td>\n",
       "      <td>46.0</td>\n",
       "    </tr>\n",
       "    <tr>\n",
       "      <th>2</th>\n",
       "      <td>Mcdonalds</td>\n",
       "      <td>Double Bacon Smokehouse Burger</td>\n",
       "      <td>Double Bacon Smokehouse Burger (Mcdonalds)</td>\n",
       "      <td>1130.0</td>\n",
       "      <td>600.0</td>\n",
       "      <td>67.0</td>\n",
       "      <td>27.0</td>\n",
       "      <td>3.0</td>\n",
       "      <td>220.0</td>\n",
       "      <td>1920.0</td>\n",
       "      <td>63.0</td>\n",
       "      <td>3.0</td>\n",
       "      <td>18.0</td>\n",
       "      <td>70.0</td>\n",
       "    </tr>\n",
       "  </tbody>\n",
       "</table>\n",
       "</div>"
      ],
      "text/plain": [
       "  restaurant                              item  \\\n",
       "0  Mcdonalds  Artisan Grilled Chicken Sandwich   \n",
       "1  Mcdonalds    Single Bacon Smokehouse Burger   \n",
       "2  Mcdonalds    Double Bacon Smokehouse Burger   \n",
       "\n",
       "                                item_with_chain  calories  cal_fat  total_fat  \\\n",
       "0  Artisan Grilled Chicken Sandwich (Mcdonalds)     380.0     60.0        7.0   \n",
       "1    Single Bacon Smokehouse Burger (Mcdonalds)     840.0    410.0       45.0   \n",
       "2    Double Bacon Smokehouse Burger (Mcdonalds)    1130.0    600.0       67.0   \n",
       "\n",
       "   sat_fat  trans_fat  cholesterol  sodium  total_carb  fiber  sugar  protein  \n",
       "0      2.0        0.0         95.0  1110.0        44.0    3.0   11.0     37.0  \n",
       "1     17.0        1.5        130.0  1580.0        62.0    2.0   18.0     46.0  \n",
       "2     27.0        3.0        220.0  1920.0        63.0    3.0   18.0     70.0  "
      ]
     },
     "execution_count": 15,
     "metadata": {},
     "output_type": "execute_result"
    }
   ],
   "source": [
    "menu_df.head(3)"
   ]
  },
  {
   "cell_type": "code",
   "execution_count": 16,
   "id": "85c90d36-1c31-40e8-ba00-ae7ae962c9d8",
   "metadata": {},
   "outputs": [
    {
     "name": "stdout",
     "output_type": "stream",
     "text": [
      "Express Taco Salad w/ Chips (Taco Bell)         2\n",
      "Chili Cheese Burrito (Taco Bell)                2\n",
      "Artisan Grilled Chicken Sandwich (Mcdonalds)    1\n",
      "6\" Sweet Onion Chicken Teriyaki (Subway)        1\n",
      "Footlong Subway Seafood Sensation (Subway)      1\n",
      "                                               ..\n",
      "Roast Turkey & Swiss Sandwich (Arbys)           1\n",
      "Roast Beef Gyro (Arbys)                         1\n",
      "Reuben Sandwich (Arbys)                         1\n",
      "5 piece Prime-Cut Chicken Tenders (Arbys)       1\n",
      "Fiesta Taco Salad-Steak (Taco Bell)             1\n",
      "Name: item_with_chain, Length: 513, dtype: int64\n",
      "                             item_with_chain  calories  cal_fat  sat_fat  \\\n",
      "414         Chili Cheese Burrito (Taco Bell)     380.0    150.0      8.0   \n",
      "492         Chili Cheese Burrito (Taco Bell)     380.0    150.0      8.0   \n",
      "497  Express Taco Salad w/ Chips (Taco Bell)     580.0    260.0      9.0   \n",
      "511  Express Taco Salad w/ Chips (Taco Bell)     580.0    260.0      9.0   \n",
      "\n",
      "     trans_fat  cholesterol  sodium  total_carb  fiber  sugar  protein  \n",
      "414        1.0         35.0   930.0        41.0    5.0    2.0     16.0  \n",
      "492        1.0         35.0   930.0        41.0    5.0    2.0     16.0  \n",
      "497        1.0         60.0  1270.0        59.0    8.0    7.0     23.0  \n",
      "511        1.0         60.0  1270.0        59.0    8.0    7.0     23.0  \n"
     ]
    }
   ],
   "source": [
    "# Find duplicate items in 'item_with_chain'\n",
    "print(menu_df['item_with_chain'].value_counts())\n",
    "\n",
    "duplicate_items = menu_df[menu_df.duplicated(subset='item_with_chain', keep=False)]\n",
    "\n",
    "# Display duplicate items\n",
    "print(duplicate_items[['item_with_chain', 'calories', 'cal_fat', 'sat_fat', \\\n",
    "                       'trans_fat', 'cholesterol', 'sodium', 'total_carb', 'fiber', 'sugar', 'protein']])\n",
    "\n",
    "# Remove one of the duplicates (you can choose 'first' or 'last')\n",
    "menu_df = menu_df.drop_duplicates(subset='item_with_chain', keep='first')"
   ]
  },
  {
   "cell_type": "code",
   "execution_count": 17,
   "id": "5424057a-f723-443e-91ea-65b54611290b",
   "metadata": {},
   "outputs": [
    {
     "name": "stdout",
     "output_type": "stream",
     "text": [
      "Empty DataFrame\n",
      "Columns: [restaurant, item, item_with_chain, calories, cal_fat, total_fat, sat_fat, trans_fat, cholesterol, sodium, total_carb, fiber, sugar, protein]\n",
      "Index: []\n"
     ]
    }
   ],
   "source": [
    "duplicate_items2 = menu_df[menu_df.duplicated(subset='item_with_chain', keep=False)]\n",
    "print(duplicate_items2)"
   ]
  },
  {
   "cell_type": "code",
   "execution_count": 18,
   "id": "e9fbae09-44f1-4749-a447-ad861ad11f31",
   "metadata": {},
   "outputs": [
    {
     "data": {
      "text/plain": [
       "Index(['restaurant', 'item', 'item_with_chain', 'calories', 'cal_fat',\n",
       "       'total_fat', 'sat_fat', 'trans_fat', 'cholesterol', 'sodium',\n",
       "       'total_carb', 'fiber', 'sugar', 'protein'],\n",
       "      dtype='object')"
      ]
     },
     "execution_count": 18,
     "metadata": {},
     "output_type": "execute_result"
    }
   ],
   "source": [
    "# Look at columns\n",
    "menu_df.columns"
   ]
  },
  {
   "cell_type": "code",
   "execution_count": 19,
   "id": "99005beb-b25c-4bed-a053-8e15f3d7230b",
   "metadata": {},
   "outputs": [
    {
     "data": {
      "text/plain": [
       "array(['Mcdonalds', 'Chick Fil-A', 'Sonic', 'Arbys', 'Burger King',\n",
       "       'Dairy Queen', 'Subway', 'Taco Bell'], dtype=object)"
      ]
     },
     "execution_count": 19,
     "metadata": {},
     "output_type": "execute_result"
    }
   ],
   "source": [
    "# Look at restaurants \n",
    "menu_df.restaurant.unique()"
   ]
  },
  {
   "cell_type": "code",
   "execution_count": 20,
   "id": "ddd56204-e09e-471f-90f9-2c3a8b6f3fc9",
   "metadata": {},
   "outputs": [
    {
     "data": {
      "text/plain": [
       "array(['Artisan Grilled Chicken Sandwich',\n",
       "       'Single Bacon Smokehouse Burger', 'Double Bacon Smokehouse Burger',\n",
       "       'Grilled Bacon Smokehouse Chicken Sandwich',\n",
       "       'Crispy Bacon Smokehouse Chicken Sandwich', 'Big Mac',\n",
       "       'Cheeseburger', 'Classic Chicken Sandwich', 'Double Cheeseburger',\n",
       "       'Double Quarter Pounder® with Cheese', 'Filet-O-Fish®',\n",
       "       'Garlic White Cheddar Burger',\n",
       "       'Grilled Garlic White Cheddar Chicken Sandwich',\n",
       "       'Crispy Garlic White Cheddar Chicken Sandwich', 'Hamburger',\n",
       "       'Lobster Roll', 'Maple Bacon Dijon 1/4 lb Burger',\n",
       "       'Grilled Maple Bacon Dijon Chicken Sandwich',\n",
       "       'Crispy Maple Bacon Dijon Chicken Sandwich', 'McChicken',\n",
       "       'McDouble', 'McRib', 'Pico Guacamole 1/4 lb Burger',\n",
       "       'Grilled Pico Guacamole Chicken Sandwich',\n",
       "       'Crispy Pico Guacamole Chicken Sandwich',\n",
       "       'Premium Buttermilk Crispy Chicken Deluxe Sandwich',\n",
       "       'Premium Crispy Chicken Deluxe Sandwich',\n",
       "       'Quarter Pounder® with Cheese', 'Signature Sriracha Burger',\n",
       "       'Grilled Signature Sriracha Chicken Sandwich',\n",
       "       'Crispy Signature Sriracha Chicken Sandwich',\n",
       "       'Sweet BBQ Bacon 1/4 lb Burger',\n",
       "       'Grilled Sweet BBQ Bacon Chicken Sandwich',\n",
       "       'Crispy Sweet BBQ Bacon Chicken Sandwich',\n",
       "       '3 piece Buttermilk Crispy Chicken Tenders',\n",
       "       '4 piece Buttermilk Crispy Chicken Tenders',\n",
       "       '6 piece Buttermilk Crispy Chicken Tenders',\n",
       "       '10 piece Buttermilk Crispy Chicken Tenders',\n",
       "       '12 piece Buttermilk Crispy Chicken Tenders',\n",
       "       '20 piece Buttermilk Crispy Chicken Tenders',\n",
       "       '4 Piece Chicken McNuggets', '6 Piece Chicken McNuggets',\n",
       "       '10 Piece Chicken McNuggets', '20 Piece Chicken McNuggets',\n",
       "       '40 piece Chicken McNuggets',\n",
       "       \"4 piece Sweet N' Spicy Honey BBQ Glazed Tenders\",\n",
       "       \"6 piece Sweet N' Spicy Honey BBQ Glazed Tenders\",\n",
       "       \"10 piece Sweet N' Spicy Honey BBQ Glazed Tenders\",\n",
       "       'Premium Asian Salad w/o Chicken',\n",
       "       'Premium Asian Salad w/ Grilled Chicken',\n",
       "       'Premium Asian Salad w/ Crispy Chicken',\n",
       "       'Premium Bacon Ranch Salad w/o Chicken',\n",
       "       'Premium Bacon Ranch Salad w/ Grilled Chicken',\n",
       "       'Premium Bacon Ranch Salad w/ Crispy Chicken',\n",
       "       'Premium Southwest Salad w/o Chicken',\n",
       "       'Premium Southwest Salad w/ Grilled Chicken',\n",
       "       'Premium Southwest Salad w/ Crispy Chicken',\n",
       "       'Chargrilled Chicken Club Sandwich',\n",
       "       'Chargrilled Chicken Sandwich', 'Chick-n-Slider',\n",
       "       '1 Piece Chick-n-Strips', '2 Piece Chick-n-Strips',\n",
       "       '3 Piece Chick-n-Strips', '4 piece Chick-n-Strips',\n",
       "       'Chicken Deluxe', '4 piece Chicken Nuggets',\n",
       "       '6 piece Chicken Nuggets', '8 piece Chicken Nuggets',\n",
       "       '12 piece Chicken Nuggets', '30 piece Chicken Nuggets',\n",
       "       'Chicken Salad Sandwich', 'Chicken Sandwich',\n",
       "       '4 Piece Grilled Chicken Nuggets',\n",
       "       '6 Piece Grilled Chicken Nuggets',\n",
       "       '8 piece Grilled Chicken Nuggets',\n",
       "       '12 Piece Grilled Chicken Nuggets',\n",
       "       'Spicy Grilled Chicken Sub Sandwich',\n",
       "       'Regular Grilled Chicken Sub Sandwich',\n",
       "       'Smokehouse BBQ Bacon Sandwich', 'Spicy Chicken Sandwich',\n",
       "       'Spicy Deluxe', 'Chargrilled Chicken Cool Wrap',\n",
       "       'Chicken Enchiladas Meal Kit', 'Chicken Parmesan Meal Kit',\n",
       "       'Hatch Green Chile Cheeseburger', 'Jalapeno Burger', 'Jr. Burger',\n",
       "       'Jr. Chili Cheeseburger', 'Jr. Deluxe Burger',\n",
       "       'Jr. Deluxe Cheeseburger', 'Jr. Double Cheeseburger',\n",
       "       'Sonic Bacon Cheeseburger (w/mayo)', 'Sonic Burger W/ Mustard',\n",
       "       'Sonic Burger W/ Ketchup', 'Sonic Burger W/ Mayonnaise',\n",
       "       'Sonic Cheeseburger W/ Mustard', 'Sonic Cheeseburger W/ Ketchup',\n",
       "       'Sonic Cheeseburger W/ Mayonnaise',\n",
       "       'Super Sonic Bacon Double Cheeseburger (w/mayo)',\n",
       "       'Super Sonic Double Cheeseburger W/ Mustard',\n",
       "       'Super Sonic Double Cheeseburger W/ Ketchup',\n",
       "       'Super Sonic Double Cheeseburger W/ Mayo',\n",
       "       'Super Sonic Jalapeno Double Cheeseburger',\n",
       "       'Veggie Burger W/ Ketchup', 'Veggie Burger With Mustard',\n",
       "       'Veggie Burger W/ Mustard',\n",
       "       'Grilled Asiago Caesar Chicken Club Sandwich',\n",
       "       'Crispy Asiago Caesar Chicken Club Sandwich',\n",
       "       'Grilled Chicken Sandwich', 'Crispy Chicken Sandwich',\n",
       "       'Chicken Strip Sandwich', '3 Piece Crispy Chicken Tender Dinner',\n",
       "       '5 Piece Crispy Chicken Tender Dinner',\n",
       "       'Deluxe Ultimate Chicken Sandwich',\n",
       "       'Buffalo Dunked Ultimate Chicken Sandwich',\n",
       "       'Garlic Parmesan Dunked Ultimate Chicken Sandwich',\n",
       "       'Small Jumbo Popcorn Chicken', 'Large Jumbo Popcorn Chicken',\n",
       "       'Small Spicy Jumbo Popcorn Chicken',\n",
       "       'Large Spicy Jumbo Popcorn Chicken',\n",
       "       '3 Piece Super Crunch Chicken Strip Dinner',\n",
       "       '4 Piece Super Crunch Chicken Strip Dinner',\n",
       "       '5 Piece Super Crunch Chicken Strip Dinner',\n",
       "       '3 Piece Super Crunch Chicken Strips',\n",
       "       '4 Piece Super Crunch Chicken Strips',\n",
       "       '5 Piece Super Crunch Chicken Strips',\n",
       "       'Traditional Ultimate Chicken Sandwich', 'Ultimate Chicken Club',\n",
       "       'All Beef All-american Style Dog – 6\"',\n",
       "       'All Beef Chicago Dog – 6\"', 'All Beef Chili Cheese Coney – 6\"',\n",
       "       'All Beef New York Dog – 6\"', 'All Beef Regular Hot Dog – 6\"',\n",
       "       'Cheesy Bacon Pretzel Dog - 6 In.', 'Corn Dog',\n",
       "       'Footlong Quarter Pound Coney', 'The Original Pretzel Dog',\n",
       "       \"Arby's Melt\", 'Arby-Q Sandwich', \"Beef 'n Cheddar Classic\",\n",
       "       \"Beef 'n Cheddar Mid\", 'Bourbon BBQ Brisket Sandwich',\n",
       "       'Bourbon BBQ Chicken Sandwich', 'Bourbon BBQ Steak Sandwich',\n",
       "       'Buttermilk Buffalo Chicken Sandwich',\n",
       "       'Buttermilk Chicken Bacon & Swiss',\n",
       "       'Buttermilk Chicken Cordon Bleu Sandwich',\n",
       "       'Buttermilk Crispy Chicken Sandwich',\n",
       "       'Classic French Dip & Swiss/Au Jus', 'Classic Roast Beef',\n",
       "       'Double Roast Beef', 'Fire-Roasted Philly Steak',\n",
       "       'Grand Turkey Club', 'Greek Gyro',\n",
       "       \"Half Pound Beef 'n Cheddar Sandwich\",\n",
       "       'Half Pound French Dip & Swiss', 'Half Pound Roast Beef Sandwich',\n",
       "       'Ham & Swiss Melt', 'Loaded Italian Sandwich',\n",
       "       'Pecan Chicken Salad Flatbread', 'Pecan Chicken Salad Sandwich',\n",
       "       '2 piece Prime-Cut Chicken Tenders',\n",
       "       '3 piece Prime-Cut Chicken Tenders',\n",
       "       '5 piece Prime-Cut Chicken Tenders', 'Reuben Sandwich',\n",
       "       'Roast Beef Gyro', 'Roast Turkey & Swiss Sandwich',\n",
       "       'Roast Turkey & Swiss Wrap',\n",
       "       'Roast Turkey, Ranch & Bacon Sandwich',\n",
       "       'Roast Turkey, Ranch & Bacon Wrap',\n",
       "       'Smoke Mountain w/ Beef Short Rib',\n",
       "       'Smokehouse Beef Short Rib Sandwich', 'Smokehouse Brisket',\n",
       "       'Super Roast Beef', 'Three Cheese Steak Sandwich',\n",
       "       'Triple Decker Sandwich', 'Turkey Avocado Club', 'Turkey Gyro',\n",
       "       'Ultimate BLT', 'Buffalo Chicken Slider',\n",
       "       \"Chicken Tender 'n Cheese Slider\", \"Corned Beef 'n Cheese Slider\",\n",
       "       \"Ham 'n Cheese Slider\", \"Jalapeno Roast Beef 'n Cheese Slider\",\n",
       "       'Pizza Slider', \"Roast Beef 'n Cheese Slider\",\n",
       "       \"Turkey 'n Cheese Slider\", 'Chopped Side Salad',\n",
       "       'Crispy Chicken Farmhouse Salad', 'Greek Gyro Salad',\n",
       "       'Roast Turkey Farmhouse Salad', 'Super Greek Salad',\n",
       "       'American Brewhouse King', 'Bacon & Swiss Sourdough King',\n",
       "       'Bacon Cheeseburger', 'Bacon Cheeseburger Deluxe', 'Bacon King',\n",
       "       'Bacon King Jr', 'BBQ Bacon King', 'Double Bacon Cheeseburger',\n",
       "       'Double Hamburger', 'Double Quarter Pound King',\n",
       "       'Extra Long Cheeseburger', 'Farmhouse King',\n",
       "       'Homestyle Cheeseburger', 'Jalapeno King Sandwich',\n",
       "       'Mushroom & Swiss King', 'Rodeo Burger', 'Rodeo King',\n",
       "       'Sourdough King Single', 'Sourdough King Double',\n",
       "       'Steakhouse King', 'Bacon & Cheese Whopper',\n",
       "       'DOUBLE WHOPPER w/o Cheese', 'DOUBLE WHOPPER w/ Cheese',\n",
       "       'WHOPPER w/o Cheese', 'WHOPPER w/ Cheese',\n",
       "       'WHOPPER JR. w/o Cheese', 'WHOPPER JR. w/ Cheese',\n",
       "       'Bacon Cheddar Ranch Chicken Salad w/ grilled Chicken & Dressing',\n",
       "       'Bacon Cheddar Ranch Chicken Salad w/ crispy Chicken & Dressing',\n",
       "       'Chicken BLT Salad w/ Grilled Chicken',\n",
       "       'Chicken BLT Salad w/ Crispy Chicken',\n",
       "       'Chicken Caesar Salad w/ Grilled Chicken',\n",
       "       'Chicken Caesar Salad w/ Crispy Chicken',\n",
       "       'Chicken, Apple & Cranberry Salad w/ Grilled Chicken',\n",
       "       'Chicken, Apple & Cranberry Salad w/ Crispy Chicken',\n",
       "       'Garden Grilled Chicken Salad w/ Grilled Chicken, no dressing',\n",
       "       'Garden Grilled Chicken Salad w/ Crispy Chicken, no dressing',\n",
       "       'Side Caesar Salad with dressing',\n",
       "       'Side Garden Salad and Avocado Ranch Dressing',\n",
       "       'Bacon Cheddar Ranch Crispy Chicken Sandwich',\n",
       "       'BBQ Bacon Crispy Chicken Sandwich', 'Big Fish Sandwich',\n",
       "       'BK VEGGIE Burger', 'Chicken Burger',\n",
       "       'Chicken Cordon Bleu Sandwich', 'Chicken Fries',\n",
       "       '4 Piece Chicken Nuggets', '6 Piece Chicken Nuggets',\n",
       "       '20 Piece Chicken Nuggets', 'Chicken Nuggets (10pc)',\n",
       "       'Chicken Parmesan Sandwich', 'Crispy Buffalo Chicken Melt',\n",
       "       'Crispy Chicken Jr.', 'Grilled Chili Cheese Dog',\n",
       "       'Grilled Hot Dog', 'Jalapeno Chicken Fries',\n",
       "       'Original Chicken Sandwich', 'Pretzel Chicken Fries',\n",
       "       'Rodeo Crispy Chicken Sandwich', 'Sourdough Chicken Club',\n",
       "       '4 Piece Spicy Chicken Nuggets', 'Spicy Chicken Nuggets',\n",
       "       'Spicy Crispy Chicken Jr.', 'Spicy Crispy Chicken Sandwich',\n",
       "       'Spicy Crispy Jalapeno Chicken Sandwich',\n",
       "       '1/2 lb. FlameThrower® GrillBurger',\n",
       "       '1/2 lb. GrillBurger with Cheese',\n",
       "       '1/4 lb. Bacon Cheese GrillBurger',\n",
       "       '1/4 lb. GrillBurger with Cheese',\n",
       "       '1/4 lb. Mushroom Swiss GrillBurger', 'Original Cheeseburger',\n",
       "       'Original Double Cheeseburger',\n",
       "       '4 Piece Chicken Strip Basket w/ Country Gravy',\n",
       "       '6 Piece Chicken Strip Basket w/ Country Gravy',\n",
       "       'Bacon Cheese Dog', 'Cheese Dog', 'Chili Cheese Dog', 'Chili Dog',\n",
       "       'Hot Dog', 'Relish Dog', 'Barbecue Pork Sandwich',\n",
       "       'Breaded Mushrooms', 'Regular Cheese Curds', 'Large Cheese Curds',\n",
       "       'Chili Cheese Mega Dog', 'Crispy Fish Sandwich',\n",
       "       'Deluxe Cheeseburger', 'Deluxe Double Cheeseburger',\n",
       "       'Deluxe Double Hamburger', 'Deluxe Hamburger',\n",
       "       'DQ Ultimate® Burger', 'Pork Tenderloin Sandwich',\n",
       "       'Steak Finger Basket', '3 chicken strips Chicken Strips',\n",
       "       'Chicken Bacon Ranch Sandwich', 'Chicken Mozzarella Sandwich',\n",
       "       'Crispy Chicken BLT Salad', 'Crispy Chicken Garden Greens Salad',\n",
       "       'Crispy Chicken Wrap', 'Grilled Chicken BLT Salad',\n",
       "       'Grilled Chicken Garden Greens Salad', 'Grilled Chicken Wrap',\n",
       "       'Side Salad', 'Turkey BLT Sandwich', '6\" B.L.T.',\n",
       "       'Footlong B.L.T.', '6\" BBQ Rib Sandwich',\n",
       "       'Footlong BBQ Rib Sandwich', '6\" Big Hot Pastrami',\n",
       "       'Footlong Big Hot Pastrami', '6\" Big Philly Cheesesteak',\n",
       "       'Footlong Big Philly Cheesesteak',\n",
       "       'Kids Mini Sub Black Forest Ham', '6\" Black Forest Ham',\n",
       "       'Footlong Black Forest Ham', '6\" Carved Turkey',\n",
       "       'Footlong Carved Turkey', '6\" Carved Turkey & Bacon w/ Cheese',\n",
       "       'Footlong Carved Turkey & Bacon w/ Cheese',\n",
       "       '6\" Chicken & Bacon Ranch Melt',\n",
       "       'Footlong Chicken & Bacon Ranch Melt', '6\" Chicken Pizziola Melt',\n",
       "       'Footlong Chicken Pizziola Melt', '6\" Cold Cut Combo',\n",
       "       'Footlong Cold Cut Combo', '6\" Corned Beef Reuben',\n",
       "       'Footlong Corned Beef Reuben', '6\" Italian B.M.T.',\n",
       "       'Footlong Italian B.M.T.', '6\" Italian Hero',\n",
       "       'Footlong Italian Hero', '6\" Meatball Marinara',\n",
       "       'Footlong Meatball Marinara', '6\" Oven Roasted Chicken',\n",
       "       'Footlong Oven Roasted Chicken', 'Kids Mini Sub Roast Beef',\n",
       "       '6\" Roast Beef', 'Footlong Roast Beef',\n",
       "       '6\" Rotisserie Style Chicken', 'Footlong Rotisserie Style Chicken',\n",
       "       '6\" Spicy Italian', 'Footlong Spicy Italian',\n",
       "       '6\" Steak and Cheese', 'Footlong Steak and Cheese',\n",
       "       '6\" Subway Club', 'Footlong Subway Club',\n",
       "       '6\" Subway Melt (includes cheese)',\n",
       "       'Footlong Subway Melt (includes cheese)',\n",
       "       '6\" Subway Seafood Sensation', 'Footlong Subway Seafood Sensation',\n",
       "       '6\" Sweet Onion Chicken Teriyaki',\n",
       "       'Footlong Sweet Onion Chicken Teriyaki', '6\" Tuna',\n",
       "       'Footlong Tuna', '6\" Turkey & Bacon Avocado',\n",
       "       'Footlong Turkey & Bacon Avocado', 'Kids Mini Sub Turkey Breast',\n",
       "       '6\" Turkey Breast', 'Footlong Turkey Breast',\n",
       "       '6\" Turkey Breast & Ham', 'Footlong Turkey Breast & Ham',\n",
       "       '6\" Turkey Italiano Melt (with Provolone)',\n",
       "       'Footlong Turkey Italiano Melt (with Provolone)',\n",
       "       'Kids Mini Sub Veggie Delite', '6\" Veggie Delite',\n",
       "       'Footlong Veggie Delite', '6\" Veggie Patty',\n",
       "       'Footlong Veggie Patty', 'Autumn Carved Turkey Salad',\n",
       "       'B.L.T. Salad', 'Big Hot Pastrami Melt Salad',\n",
       "       'Big Philly Cheesesteak Salad', 'Black Forest Ham Salad',\n",
       "       'Buffalo Chicken Salad (with Ranch dressing)',\n",
       "       'Carved Turkey & Bacon w/ Cheese Salad', 'Carved Turkey Salad',\n",
       "       'Chicken & Bacon Ranch Melt Salad (includes Ranch dressing)',\n",
       "       'Cold Cut Combo Salad', 'Double Chicken Salad',\n",
       "       'Italian B.M.T.® Salad', 'Italian Hero Salad',\n",
       "       'Meatball Marinara Salad', 'Oven Roasted Chicken Salad',\n",
       "       'Roast Beef Salad', 'Spicy Italian Salad', 'Steak & Cheese Salad',\n",
       "       'Subway Club Salad', 'Subway Melt® Salad',\n",
       "       'Sweet Onion Chicken Teriyaki Salad', 'Tuna Salad',\n",
       "       'Turkey Breast & Ham Salad', 'Turkey Breast Salad',\n",
       "       'Veggie Delite Salad', 'Chipotle Southwest Steak & Cheese Wrap',\n",
       "       'Rotisserie-Style Chicken Caesar Wrap',\n",
       "       'Turkey, Bacon & Guacamole Wrap', 'Cheese & Veggies Pizza',\n",
       "       'Cheese Pizza', 'Pepperoni Pizza', 'Sausage Pizza',\n",
       "       '1/2 lb.* Cheesy Potato Burrito', '1/2 lb.* Combo Burrito',\n",
       "       '7-Layer Burrito', 'Bean Burrito', 'Beefy 5-Layer Burrito',\n",
       "       'Beefy Fritos® Burrito', 'Black Bean Burrito',\n",
       "       'Burrito Supreme® – Beef', 'Burrito Supreme® - Chicken',\n",
       "       'Burrito Supreme® - Steak', 'Cantina Power Burrito - Chicken',\n",
       "       'Cantina Power Burrito - Steak', 'Cantina Power Burrito - Veggie',\n",
       "       'Cheesy Bean and Rice Burrito', 'Chili Cheese Burrito',\n",
       "       'Chicken Crunchy Cheesy Core Burrito',\n",
       "       'Steak Crunchy Cheesy Core Burrito',\n",
       "       'Beef Crunchy Cheesy Core Burrito', 'Loaded Taco Burrito',\n",
       "       'Chicken Quesarito', 'Steak Quesarito', 'Beef Quesarito',\n",
       "       'Shredded Chicken Burrito', 'Smothered Burrito - Beef',\n",
       "       'Smothered Burrito - Shredded Chicken',\n",
       "       'Smothered Burrito - Steak', 'Chicken Spicy Cheesy Core Burrito',\n",
       "       'Steak Spicy Cheesy Core Burrito',\n",
       "       'Beef Spicy Cheesy Core Burrito', 'Triple Melt Burrito',\n",
       "       'XXL Grilled Stuft Burrito - Beef',\n",
       "       'XXL Grilled Stuft Burrito - Chicken',\n",
       "       'XXL Grilled Stuft Burrito - Steak', 'Chicken Soft Taco',\n",
       "       'Cool Ranch® Doritos® Double Decker® Taco',\n",
       "       'Cool Ranch® Doritos® Locos Taco',\n",
       "       'Cool Ranch® Doritos® Locos Taco Supreme', 'Crunchy Taco',\n",
       "       'Crunchy Taco Supreme®', 'Double Decker® Taco',\n",
       "       'DOUBLE DECKER® Taco Supreme®', 'Spicy Sweet Double Stacked Taco',\n",
       "       'Cool Ranch Habanero Double Stacked Taco',\n",
       "       'Nacho Crunch Double Stacked Taco',\n",
       "       'Fiery Doritos® Double Decker® Taco', 'Fiery Doritos® Locos Taco',\n",
       "       'Fiery Doritos® Locos Taco Supreme', 'Grilled Steak Soft Taco',\n",
       "       'Nacho Cheese Doritos® Double Decker® Taco',\n",
       "       'Nacho Cheese Doritos® Locos Tacos',\n",
       "       'Nacho Cheese Doritos® Locos Tacos Supreme',\n",
       "       'Soft Taco Supreme® – Beef', 'Soft Taco-Beef',\n",
       "       'Spicy Potato Soft Taco', 'Chalupa Supreme® - Chicken',\n",
       "       'Chalupa Supreme® - Steak', 'Chalupa Supreme®–Beef',\n",
       "       'Double Chalupa', 'Wild Naked Chicken Chalupa',\n",
       "       'Mild Naked Chicken Chalupa', 'Spicy Double Chalupa',\n",
       "       'Fresco Bean Burrito', 'Fresco Burrito Supreme® – Chicken',\n",
       "       'Fresco Burrito Supreme® – Steak', 'Fresco Chicken Soft Taco',\n",
       "       'Fresco Crunchy Taco', 'Fresco Grilled Steak Soft Taco',\n",
       "       'Fresco Soft Taco', 'Cheesy Gordita Crunch',\n",
       "       'Doritos® Cheesy Gordita Crunch - Cool Ranch',\n",
       "       'Doritos® Cheesy Gordita Crunch - Fiery',\n",
       "       'Doritos® Cheesy Gordita Crunch - Nacho Cheese',\n",
       "       'Double Cheesy Gordita Crunch', 'Gordita Supreme® – Beef',\n",
       "       'Gordita Supreme® - Chicken', 'Gordita Supreme® - Steak',\n",
       "       'Nacho Fries Bellgrande', 'Nachos BellGrande®', 'Nachos Supreme',\n",
       "       'Triple Layer Nachos', 'Triple Melt Nachos',\n",
       "       'Beefy Cheddar Crunchwrap Slider', 'Beefy Mini Quesadilla',\n",
       "       'Beefy Nacho Griller', 'BLT Crunchwrap Slider',\n",
       "       'Cantina Power Bowl - Chicken', 'Cantina Power Bowl - Steak',\n",
       "       'Cantina Power Bowl - Veggie', 'Cheese Quesadilla',\n",
       "       'Cheese Roll-Up', 'Chicken Quesadilla', 'Chickstar',\n",
       "       'Chipotle Crispy Chicken Griller', 'Crispy Chicken Quesadilla',\n",
       "       'Crunchwrap Supreme®', 'Double Tostada',\n",
       "       'Express Taco Salad w/ Chips', 'Loaded Potato Griller',\n",
       "       'Mexican Pizza', 'MexiMelt®', 'Steak Quesalupa',\n",
       "       'Chicken Quesalupa', 'Beef Quesalupa',\n",
       "       'Shredded Chicken Mini Quesadilla',\n",
       "       'Spicy Chicken Crunchwrap Slider', 'Spicy Tostada', 'Stacker',\n",
       "       'Steak Quesadilla', 'Original Triple Double Crunchwrap',\n",
       "       'Spicy Triple Double Crunchwrap', 'Fiesta Taco Salad-Beef',\n",
       "       'Fiesta Taco Salad-Chicken', 'Fiesta Taco Salad-Steak'],\n",
       "      dtype=object)"
      ]
     },
     "execution_count": 20,
     "metadata": {},
     "output_type": "execute_result"
    }
   ],
   "source": [
    "# Look at Menu Items\n",
    "menu_df.item.unique()"
   ]
  },
  {
   "cell_type": "code",
   "execution_count": 21,
   "id": "108957e7-62fd-4618-8489-c3718bd77159",
   "metadata": {},
   "outputs": [
    {
     "data": {
      "application/vnd.jupyter.widget-view+json": {
       "model_id": "0698dee3b4fa49e7b211c6c22e0c10f3",
       "version_major": 2,
       "version_minor": 0
      },
      "text/plain": [
       "interactive(children=(Dropdown(description='Select Item:', options=('Artisan Grilled Chicken Sandwich (Mcdonal…"
      ]
     },
     "metadata": {},
     "output_type": "display_data"
    },
    {
     "data": {
      "text/plain": [
       "<function __main__.display_item_info(selected_item)>"
      ]
     },
     "execution_count": 21,
     "metadata": {},
     "output_type": "execute_result"
    }
   ],
   "source": [
    "# Define a function to display information for the selected item\n",
    "def display_item_info(selected_item):\n",
    "    item_data = menu_df[menu_df['item_with_chain'] == selected_item].squeeze()\n",
    "    display(item_data)\n",
    "\n",
    "# Create a dropdown widget with the list of items\n",
    "item_dropdown = widgets.Dropdown(options=menu_df['item_with_chain'].unique(), description='Select Item:')\n",
    "\n",
    "# Connect the dropdown widget to the display_item_info function\n",
    "interact(display_item_info, selected_item=item_dropdown)"
   ]
  },
  {
   "cell_type": "code",
   "execution_count": 22,
   "id": "8e626d6d-e9d0-4ddd-bd12-259163fdd154",
   "metadata": {},
   "outputs": [
    {
     "data": {
      "application/vnd.jupyter.widget-view+json": {
       "model_id": "5d7ce9d7eb234e808480f77a9f58692f",
       "version_major": 2,
       "version_minor": 0
      },
      "text/plain": [
       "interactive(children=(Dropdown(description='Select Item 1:', options=('Artisan Grilled Chicken Sandwich (Mcdon…"
      ]
     },
     "metadata": {},
     "output_type": "display_data"
    },
    {
     "data": {
      "text/plain": [
       "<function __main__.display_items_info(selected_item1, selected_item2)>"
      ]
     },
     "execution_count": 22,
     "metadata": {},
     "output_type": "execute_result"
    }
   ],
   "source": [
    "# Define a function to display information for the selected items\n",
    "def display_items_info(selected_item1, selected_item2):\n",
    "    item_data1 = menu_df[menu_df['item_with_chain'] == selected_item1].squeeze()\n",
    "    item_data2 = menu_df[menu_df['item_with_chain'] == selected_item2].squeeze()\n",
    "    \n",
    "    display(pd.concat([item_data1, item_data2], axis=1, keys=['Item 1', 'Item 2']))\n",
    "\n",
    "# Create two dropdown widgets with the list of items\n",
    "item_dropdown1 = widgets.Dropdown(options=menu_df['item_with_chain'].unique(), description='Select Item 1:')\n",
    "item_dropdown2 = widgets.Dropdown(options=menu_df['item_with_chain'].unique(), description='Select Item 2:')\n",
    "\n",
    "# Connect the dropdown widgets to the display_items_info function\n",
    "interact(display_items_info, selected_item1=item_dropdown1, selected_item2=item_dropdown2)\n"
   ]
  },
  {
   "cell_type": "markdown",
   "id": "3a7b3db4-d205-4746-b086-81878e3c4d16",
   "metadata": {},
   "source": [
    "# Graphs"
   ]
  },
  {
   "cell_type": "code",
   "execution_count": 23,
   "id": "9cc05eb0-bc43-4776-bb7f-1087d6687a6d",
   "metadata": {},
   "outputs": [
    {
     "data": {
      "application/vnd.jupyter.widget-view+json": {
       "model_id": "0e8103535d754ac28fed5eab9f723b0a",
       "version_major": 2,
       "version_minor": 0
      },
      "text/plain": [
       "interactive(children=(Dropdown(description='Select Item 1:', options=('Artisan Grilled Chicken Sandwich (Mcdon…"
      ]
     },
     "metadata": {},
     "output_type": "display_data"
    },
    {
     "data": {
      "text/plain": [
       "<function __main__.display_items_info(selected_item1, selected_item2, selected_nutrient)>"
      ]
     },
     "execution_count": 23,
     "metadata": {},
     "output_type": "execute_result"
    }
   ],
   "source": [
    "\n",
    "# Define a function to display information for the selected items\n",
    "def display_items_info(selected_item1, selected_item2, selected_nutrient):\n",
    "    item_data1 = menu_df[menu_df['item_with_chain'] == selected_item1].squeeze()\n",
    "    item_data2 = menu_df[menu_df['item_with_chain'] == selected_item2].squeeze()\n",
    "    \n",
    "    comparison_df = pd.concat([item_data1, item_data2], axis=1, keys=['Item 1', 'Item 2'])\n",
    "    \n",
    "    plt.figure(figsize=(10, 6))\n",
    "    comparison_df.loc[selected_nutrient].plot(kind='bar', color=['skyblue', 'lightcoral'])\n",
    "    plt.title(f\"{selected_nutrient} Comparison between {selected_item1} and {selected_item2}\")\n",
    "    plt.xlabel(selected_nutrient)\n",
    "    plt.ylabel(\"Values\")\n",
    "    plt.show()\n",
    "\n",
    "# Create two dropdown widgets with the list of items\n",
    "item_dropdown1 = widgets.Dropdown(options=menu_df['item_with_chain'].unique(), description='Select Item 1:')\n",
    "item_dropdown2 = widgets.Dropdown(options=menu_df['item_with_chain'].unique(), description='Select Item 2:')\n",
    "\n",
    "# Create a dropdown widget with the list of nutrients\n",
    "nutrient_dropdown = widgets.Dropdown(options=menu_df.columns[3:], description='Select Nutrient:')\n",
    "\n",
    "# Connect the dropdown widgets to the display_items_info function\n",
    "interact(display_items_info, selected_item1=item_dropdown1, selected_item2=item_dropdown2, selected_nutrient=nutrient_dropdown)"
   ]
  },
  {
   "cell_type": "code",
   "execution_count": 24,
   "id": "256f1336-eeac-460b-a002-d834b09a1ef7",
   "metadata": {},
   "outputs": [
    {
     "data": {
      "application/vnd.jupyter.widget-view+json": {
       "model_id": "00e3c8c063334e9c80ffb4d3b9c386b0",
       "version_major": 2,
       "version_minor": 0
      },
      "text/plain": [
       "interactive(children=(Dropdown(description='Select Item 1:', options=('Artisan Grilled Chicken Sandwich (Mcdon…"
      ]
     },
     "metadata": {},
     "output_type": "display_data"
    },
    {
     "data": {
      "text/plain": [
       "<function __main__.display_items_info(selected_item1, selected_item2, selected_nutrient)>"
      ]
     },
     "execution_count": 24,
     "metadata": {},
     "output_type": "execute_result"
    }
   ],
   "source": [
    "# Define a function to display information for the selected items\n",
    "def display_items_info(selected_item1, selected_item2, selected_nutrient):\n",
    "    item_data1 = menu_df[menu_df['item_with_chain'] == selected_item1].squeeze()\n",
    "    item_data2 = menu_df[menu_df['item_with_chain'] == selected_item2].squeeze()\n",
    "    \n",
    "    comparison_df = pd.concat([item_data1, item_data2], axis=1, keys=['Item 1', 'Item 2'])\n",
    "    \n",
    "    plt.figure(figsize=(10, 6))\n",
    "    ax = comparison_df.loc[selected_nutrient].plot(kind='bar', color=['skyblue', 'lightcoral'])\n",
    "    \n",
    "    plt.title(f\"{selected_nutrient} Comparison between {selected_item1} and {selected_item2}\")\n",
    "    plt.xlabel(selected_nutrient)\n",
    "    plt.ylabel(\"Values\")\n",
    "\n",
    "    # Add labels on top of the bars\n",
    "    for i, v in enumerate(comparison_df.loc[selected_nutrient]):\n",
    "        ax.text(i, v + 0.1, str(round(v, 2)), ha='center', va='bottom')\n",
    "\n",
    "    plt.show()\n",
    "\n",
    "# Create two dropdown widgets with the list of items\n",
    "item_dropdown1 = widgets.Dropdown(options=menu_df['item_with_chain'].unique(), description='Select Item 1:')\n",
    "item_dropdown2 = widgets.Dropdown(options=menu_df['item_with_chain'].unique(), description='Select Item 2:')\n",
    "\n",
    "# Create a dropdown widget with the list of nutrients\n",
    "nutrient_dropdown = widgets.Dropdown(options=menu_df.columns[3:], description='Select Nutrient:')\n",
    "\n",
    "# Connect the dropdown widgets to the display_items_info function\n",
    "interact(display_items_info, selected_item1=item_dropdown1, selected_item2=item_dropdown2, selected_nutrient=nutrient_dropdown)"
   ]
  },
  {
   "cell_type": "code",
   "execution_count": 25,
   "id": "fa0f9121-42dc-4bbe-98e9-1d5f54fc18ae",
   "metadata": {},
   "outputs": [
    {
     "name": "stdout",
     "output_type": "stream",
     "text": [
      "Requirement already satisfied: altair_viewer in /Users/ericjohnson/anaconda3/envs/dev/lib/python3.10/site-packages (0.4.0)\n",
      "Requirement already satisfied: altair in /Users/ericjohnson/anaconda3/envs/dev/lib/python3.10/site-packages (from altair_viewer) (5.2.0)\n",
      "Requirement already satisfied: altair-data-server>=0.4.0 in /Users/ericjohnson/anaconda3/envs/dev/lib/python3.10/site-packages (from altair_viewer) (0.4.1)\n",
      "Requirement already satisfied: portpicker in /Users/ericjohnson/anaconda3/envs/dev/lib/python3.10/site-packages (from altair-data-server>=0.4.0->altair_viewer) (1.6.0)\n",
      "Requirement already satisfied: tornado in /Users/ericjohnson/anaconda3/envs/dev/lib/python3.10/site-packages (from altair-data-server>=0.4.0->altair_viewer) (6.3.3)\n",
      "Requirement already satisfied: jinja2 in /Users/ericjohnson/anaconda3/envs/dev/lib/python3.10/site-packages (from altair->altair_viewer) (3.1.2)\n",
      "Requirement already satisfied: jsonschema>=3.0 in /Users/ericjohnson/anaconda3/envs/dev/lib/python3.10/site-packages (from altair->altair_viewer) (4.20.0)\n",
      "Requirement already satisfied: numpy in /Users/ericjohnson/anaconda3/envs/dev/lib/python3.10/site-packages (from altair->altair_viewer) (1.23.5)\n",
      "Requirement already satisfied: packaging in /Users/ericjohnson/anaconda3/envs/dev/lib/python3.10/site-packages (from altair->altair_viewer) (23.1)\n",
      "Requirement already satisfied: pandas>=0.25 in /Users/ericjohnson/anaconda3/envs/dev/lib/python3.10/site-packages (from altair->altair_viewer) (1.5.3)\n",
      "Requirement already satisfied: toolz in /Users/ericjohnson/anaconda3/envs/dev/lib/python3.10/site-packages (from altair->altair_viewer) (0.12.0)\n",
      "Requirement already satisfied: typing-extensions>=4.0.1 in /Users/ericjohnson/anaconda3/envs/dev/lib/python3.10/site-packages (from altair->altair_viewer) (4.9.0)\n",
      "Requirement already satisfied: attrs>=22.2.0 in /Users/ericjohnson/anaconda3/envs/dev/lib/python3.10/site-packages (from jsonschema>=3.0->altair->altair_viewer) (23.1.0)\n",
      "Requirement already satisfied: jsonschema-specifications>=2023.03.6 in /Users/ericjohnson/anaconda3/envs/dev/lib/python3.10/site-packages (from jsonschema>=3.0->altair->altair_viewer) (2023.7.1)\n",
      "Requirement already satisfied: referencing>=0.28.4 in /Users/ericjohnson/anaconda3/envs/dev/lib/python3.10/site-packages (from jsonschema>=3.0->altair->altair_viewer) (0.30.2)\n",
      "Requirement already satisfied: rpds-py>=0.7.1 in /Users/ericjohnson/anaconda3/envs/dev/lib/python3.10/site-packages (from jsonschema>=3.0->altair->altair_viewer) (0.10.6)\n",
      "Requirement already satisfied: python-dateutil>=2.8.1 in /Users/ericjohnson/anaconda3/envs/dev/lib/python3.10/site-packages (from pandas>=0.25->altair->altair_viewer) (2.8.2)\n",
      "Requirement already satisfied: pytz>=2020.1 in /Users/ericjohnson/anaconda3/envs/dev/lib/python3.10/site-packages (from pandas>=0.25->altair->altair_viewer) (2023.3.post1)\n",
      "Requirement already satisfied: MarkupSafe>=2.0 in /Users/ericjohnson/anaconda3/envs/dev/lib/python3.10/site-packages (from jinja2->altair->altair_viewer) (2.1.3)\n",
      "Requirement already satisfied: psutil in /Users/ericjohnson/anaconda3/envs/dev/lib/python3.10/site-packages (from portpicker->altair-data-server>=0.4.0->altair_viewer) (5.9.0)\n",
      "Requirement already satisfied: six>=1.5 in /Users/ericjohnson/anaconda3/envs/dev/lib/python3.10/site-packages (from python-dateutil>=2.8.1->pandas>=0.25->altair->altair_viewer) (1.16.0)\n"
     ]
    }
   ],
   "source": [
    "!pip install -U altair_viewer\n"
   ]
  },
  {
   "cell_type": "code",
   "execution_count": 26,
   "id": "8cf5d8b7-44d2-4c27-8668-dd4e76baca7e",
   "metadata": {},
   "outputs": [
    {
     "data": {
      "application/vnd.jupyter.widget-view+json": {
       "model_id": "2944febd0d2b4ae1b26a0b365eb53d80",
       "version_major": 2,
       "version_minor": 0
      },
      "text/plain": [
       "interactive(children=(Dropdown(description='Select Item 1:', options=('Artisan Grilled Chicken Sandwich (Mcdon…"
      ]
     },
     "metadata": {},
     "output_type": "display_data"
    },
    {
     "data": {
      "text/plain": [
       "<function __main__.display_items_info(selected_item1, selected_item2, selected_nutrient)>"
      ]
     },
     "execution_count": 26,
     "metadata": {},
     "output_type": "execute_result"
    }
   ],
   "source": [
    "# Define a function to display information for the selected items\n",
    "def display_items_info(selected_item1, selected_item2, selected_nutrient):\n",
    "    item_data1 = menu_df[menu_df['item_with_chain'] == selected_item1].squeeze()\n",
    "    item_data2 = menu_df[menu_df['item_with_chain'] == selected_item2].squeeze()\n",
    "    \n",
    "    comparison_df = pd.concat([item_data1, item_data2], axis=1, keys=['Item 1', 'Item 2'])\n",
    "    \n",
    "    # Melt the DataFrame for Altair\n",
    "    melted_df = comparison_df.reset_index().melt(id_vars=['index'], var_name='Item', value_name=selected_nutrient)\n",
    "\n",
    "    chart = alt.Chart(melted_df).mark_bar().encode(\n",
    "        x='index:N',\n",
    "        y=alt.Y(f'{selected_nutrient}:Q', title='Values'),\n",
    "        color='Item:N',\n",
    "        tooltip=['Item:N', alt.Tooltip(f'{selected_nutrient}:Q', title=selected_nutrient)],\n",
    "    ).properties(\n",
    "        title=f\"{selected_nutrient} Comparison between {selected_item1} and {selected_item2}\"\n",
    "    )\n",
    "\n",
    "    chart.show()\n",
    "\n",
    "# Create two dropdown widgets with the list of items\n",
    "item_dropdown1 = widgets.Dropdown(options=menu_df['item_with_chain'].unique(), description='Select Item 1:')\n",
    "item_dropdown2 = widgets.Dropdown(options=menu_df['item_with_chain'].unique(), description='Select Item 2:')\n",
    "\n",
    "# Create a dropdown widget with the list of nutrients\n",
    "nutrient_dropdown = widgets.Dropdown(options=menu_df.columns[3:], description='Select Nutrient:')\n",
    "\n",
    "# Connect the dropdown widgets to the display_items_info function\n",
    "interact(display_items_info, selected_item1=item_dropdown1, selected_item2=item_dropdown2, selected_nutrient=nutrient_dropdown)"
   ]
  },
  {
   "cell_type": "code",
   "execution_count": 27,
   "id": "ae251df5-eb8f-4258-96e9-4a806680a150",
   "metadata": {},
   "outputs": [
    {
     "data": {
      "application/vnd.jupyter.widget-view+json": {
       "model_id": "7375b2102b4b4102ab51095a1029dfd3",
       "version_major": 2,
       "version_minor": 0
      },
      "text/plain": [
       "interactive(children=(Dropdown(description='Select Item 1:', options=('Artisan Grilled Chicken Sandwich (Mcdon…"
      ]
     },
     "metadata": {},
     "output_type": "display_data"
    },
    {
     "data": {
      "text/plain": [
       "<function __main__.display_items_info(selected_item1, selected_item2, selected_nutrient)>"
      ]
     },
     "execution_count": 27,
     "metadata": {},
     "output_type": "execute_result"
    }
   ],
   "source": [
    "# Enable notebook rendering for Altair\n",
    "alt.renderers.enable('default')\n",
    "\n",
    "# Define a function to display information for the selected items\n",
    "def display_items_info(selected_item1, selected_item2, selected_nutrient):\n",
    "    item_data1 = menu_df[menu_df['item_with_chain'] == selected_item1].squeeze()\n",
    "    item_data2 = menu_df[menu_df['item_with_chain'] == selected_item2].squeeze()\n",
    "    \n",
    "    comparison_df = pd.concat([item_data1, item_data2], axis=1, keys=['Item 1', 'Item 2'])\n",
    "    \n",
    "    # Melt the DataFrame for Altair\n",
    "    melted_df = comparison_df.reset_index().melt(id_vars=['index'], var_name='Item', value_name=selected_nutrient)\n",
    "\n",
    "    chart = alt.Chart(melted_df).mark_bar().encode(\n",
    "        x='index:N',\n",
    "        y=alt.Y(f'{selected_nutrient}:Q', title='Values'),\n",
    "        color='Item:N',\n",
    "        tooltip=['Item:N', alt.Tooltip(f'{selected_nutrient}:Q', title=selected_nutrient)],\n",
    "    ).properties(\n",
    "        title=f\"{selected_nutrient} Comparison between {selected_item1} and {selected_item2}\"\n",
    "    )\n",
    "\n",
    "    chart.display()\n",
    "\n",
    "# Create two dropdown widgets with the list of items\n",
    "item_dropdown1 = widgets.Dropdown(options=menu_df['item_with_chain'].unique(), description='Select Item 1:')\n",
    "item_dropdown2 = widgets.Dropdown(options=menu_df['item_with_chain'].unique(), description='Select Item 2:')\n",
    "\n",
    "# Create a dropdown widget with the list of nutrients\n",
    "nutrient_dropdown = widgets.Dropdown(options=menu_df.columns[3:], description='Select Nutrient:')\n",
    "\n",
    "# Connect the dropdown widgets to the display_items_info function\n",
    "interact(display_items_info, selected_item1=item_dropdown1, selected_item2=item_dropdown2, selected_nutrient=nutrient_dropdown)"
   ]
  },
  {
   "cell_type": "code",
   "execution_count": 28,
   "id": "a5970a6a-a73f-4c14-b230-fe007564a47d",
   "metadata": {},
   "outputs": [
    {
     "data": {
      "application/vnd.jupyter.widget-view+json": {
       "model_id": "f1813dcaf7f34ffd9ce854b792092631",
       "version_major": 2,
       "version_minor": 0
      },
      "text/plain": [
       "interactive(children=(Dropdown(description='Select Item 1:', options=('Artisan Grilled Chicken Sandwich (Mcdon…"
      ]
     },
     "metadata": {},
     "output_type": "display_data"
    },
    {
     "data": {
      "text/plain": [
       "<function __main__.display_items_info(selected_item1, selected_item2, selected_nutrient)>"
      ]
     },
     "execution_count": 28,
     "metadata": {},
     "output_type": "execute_result"
    }
   ],
   "source": [
    "# Enable notebook rendering for Altair\n",
    "alt.renderers.enable('default')\n",
    "\n",
    "# Define a function to display information for the selected items\n",
    "def display_items_info(selected_item1, selected_item2, selected_nutrient):\n",
    "    item_data1 = menu_df[menu_df['item_with_chain'] == selected_item1].squeeze()\n",
    "    item_data2 = menu_df[menu_df['item_with_chain'] == selected_item2].squeeze()\n",
    "    \n",
    "    comparison_df = pd.concat([item_data1, item_data2], axis=1, keys=['Item 1', 'Item 2'])\n",
    "    \n",
    "    # Melt the DataFrame for Altair\n",
    "    melted_df = comparison_df.reset_index().melt(id_vars=['index'], var_name='Item', value_name=selected_nutrient)\n",
    "\n",
    "    # Adjust the chart to display individual bars with transparency\n",
    "    chart = alt.Chart(melted_df).mark_bar().encode(\n",
    "        x='index:N',\n",
    "        y=alt.Y(f'{selected_nutrient}:Q', title='Values'),\n",
    "        color=alt.Color('Item:N', scale=alt.Scale(range=['#1f77b4', '#ff7f0e']), legend=None),\n",
    "        opacity=alt.condition(alt.datum.Item == 'Item 2', alt.value(0.7), alt.value(1.0)),  # Adjust transparency\n",
    "        tooltip=['Item:N', alt.Tooltip(f'{selected_nutrient}:Q', title=selected_nutrient)],\n",
    "    ).properties(\n",
    "        title=f\"{selected_nutrient} Comparison between {selected_item1} and {selected_item2}\"\n",
    "    )\n",
    "\n",
    "    chart.display()\n",
    "\n",
    "\n",
    "# Create two dropdown widgets with the list of items\n",
    "item_dropdown1 = widgets.Dropdown(options=menu_df['item_with_chain'].unique(), description='Select Item 1:')\n",
    "item_dropdown2 = widgets.Dropdown(options=menu_df['item_with_chain'].unique(), description='Select Item 2:')\n",
    "\n",
    "# Create a widget to input the selected nutrient directly\n",
    "nutrient_input = widgets.Text(value='Protein', description='Selected Nutrient:')\n",
    "\n",
    "# Connect the dropdown widgets to the display_items_info function\n",
    "interact(display_items_info, selected_item1=item_dropdown1, selected_item2=item_dropdown2, selected_nutrient=fixed('Protein'))\n"
   ]
  },
  {
   "cell_type": "code",
   "execution_count": 29,
   "id": "05e73641-a2cc-4d74-9ea8-e798f71f012e",
   "metadata": {},
   "outputs": [
    {
     "data": {
      "application/vnd.jupyter.widget-view+json": {
       "model_id": "ad902a6b53114f1081a07f9d4222a3a0",
       "version_major": 2,
       "version_minor": 0
      },
      "text/plain": [
       "interactive(children=(Dropdown(description='Select Item 1:', options=('Artisan Grilled Chicken Sandwich (Mcdon…"
      ]
     },
     "metadata": {},
     "output_type": "display_data"
    },
    {
     "data": {
      "text/plain": [
       "<function __main__.display_items_info(selected_item1, selected_item2, selected_nutrient)>"
      ]
     },
     "execution_count": 29,
     "metadata": {},
     "output_type": "execute_result"
    }
   ],
   "source": [
    "import pandas as pd\n",
    "import altair as alt\n",
    "from IPython.display import display\n",
    "from ipywidgets import interact, widgets, fixed\n",
    "\n",
    "# Assuming you have the DataFrame named menu_df\n",
    "\n",
    "# Enable notebook rendering for Altair\n",
    "alt.renderers.enable('default')\n",
    "\n",
    "# Define a function to display information for the selected items\n",
    "def display_items_info(selected_item1, selected_item2, selected_nutrient):\n",
    "    item_data1 = menu_df[menu_df['item_with_chain'] == selected_item1].squeeze()\n",
    "    item_data2 = menu_df[menu_df['item_with_chain'] == selected_item2].squeeze()\n",
    "    \n",
    "    comparison_df = pd.concat([item_data1, item_data2], axis=1, keys=['Item 1', 'Item 2'])\n",
    "    \n",
    "    # Melt the DataFrame for Altair\n",
    "    melted_df = comparison_df.reset_index().melt(id_vars=['index'], var_name='Item', value_name=selected_nutrient)\n",
    "\n",
    "    # Adjust the chart to display individual bars side by side\n",
    "    chart = alt.Chart(melted_df).mark_bar().encode(\n",
    "        x=alt.X('index:N', title='Nutrient'),\n",
    "        y=alt.Y(f'{selected_nutrient}:Q', title='Values'),\n",
    "        color=alt.Color('Item:N', scale=alt.Scale(range=['#1f77b4', '#ff7f0e']), legend=None),\n",
    "        column='Item:N',\n",
    "        tooltip=['Item:N', alt.Tooltip(f'{selected_nutrient}:Q', title=selected_nutrient)],\n",
    "    ).properties(\n",
    "        width=300,\n",
    "        title=f\"{selected_nutrient} Comparison between {selected_item1} and {selected_item2}\"\n",
    "    )\n",
    "\n",
    "    display(chart)\n",
    "\n",
    "\n",
    "# Create two dropdown widgets with the list of items\n",
    "item_dropdown1 = widgets.Dropdown(options=menu_df['item_with_chain'].unique(), description='Select Item 1:')\n",
    "item_dropdown2 = widgets.Dropdown(options=menu_df['item_with_chain'].unique(), description='Select Item 2:')\n",
    "\n",
    "# Create a widget to input the selected nutrient directly\n",
    "nutrient_input = widgets.Text(value='Protein', description='Selected Nutrient:')\n",
    "\n",
    "# Connect the dropdown widgets to the display_items_info function\n",
    "interact(display_items_info, selected_item1=item_dropdown1, selected_item2=item_dropdown2, selected_nutrient=nutrient_input)\n"
   ]
  },
  {
   "cell_type": "markdown",
   "id": "60582da2-0376-447d-9a16-849ef951707a",
   "metadata": {},
   "source": [
    "Trying to fix this one"
   ]
  },
  {
   "cell_type": "code",
   "execution_count": 30,
   "id": "d369d7e5-59ac-4769-8a29-b2439d4535af",
   "metadata": {},
   "outputs": [
    {
     "data": {
      "application/vnd.jupyter.widget-view+json": {
       "model_id": "988004710f4b4c09bdcf2532bad386f4",
       "version_major": 2,
       "version_minor": 0
      },
      "text/plain": [
       "interactive(children=(Dropdown(description='Select Item 1:', options=('Artisan Grilled Chicken Sandwich (Mcdon…"
      ]
     },
     "metadata": {},
     "output_type": "display_data"
    },
    {
     "data": {
      "text/plain": [
       "<function __main__.display_items_info(selected_item1, selected_item2)>"
      ]
     },
     "execution_count": 30,
     "metadata": {},
     "output_type": "execute_result"
    }
   ],
   "source": [
    "import pandas as pd\n",
    "import altair as alt\n",
    "from IPython.display import display\n",
    "from ipywidgets import interact, widgets, fixed\n",
    "\n",
    "# Assuming you have the DataFrame named menu_df\n",
    "\n",
    "# Enable notebook rendering for Altair\n",
    "alt.renderers.enable('default')\n",
    "\n",
    "# Define a function to display information for the selected items\n",
    "def display_items_info(selected_item1, selected_item2):\n",
    "    item_data1 = menu_df[menu_df['item_with_chain'] == selected_item1].squeeze()\n",
    "    item_data2 = menu_df[menu_df['item_with_chain'] == selected_item2].squeeze()\n",
    "    \n",
    "    comparison_df = pd.concat([item_data1, item_data2], axis=1, keys=['Item 1', 'Item 2'])\n",
    "    \n",
    "    # Melt the DataFrame for Altair\n",
    "    melted_df = comparison_df.reset_index().melt(id_vars=['index'], var_name='Item', value_name='Value')\n",
    "\n",
    "    # Adjust the chart to display individual bars side by side\n",
    "    chart = alt.Chart(melted_df).mark_bar().encode(\n",
    "        x=alt.X('index:N', title='Nutrient'),\n",
    "        y=alt.Y('Value:Q', title='Values'),\n",
    "        color=alt.Color('Item:N', scale=alt.Scale(range=['#1f77b4', '#ff7f0e']), legend=None),\n",
    "        column='Item:N',\n",
    "        tooltip=['Item:N', alt.Tooltip('Value:Q', title='Value')],\n",
    "    ).properties(\n",
    "        width=300,\n",
    "        title=f\"Nutrient Comparison between {selected_item1} and {selected_item2}\"\n",
    "    )\n",
    "\n",
    "    display(chart)\n",
    "\n",
    "\n",
    "# Create two dropdown widgets with the list of items\n",
    "item_dropdown1 = widgets.Dropdown(options=menu_df['item_with_chain'].unique(), description='Select Item 1:')\n",
    "item_dropdown2 = widgets.Dropdown(options=menu_df['item_with_chain'].unique(), description='Select Item 2:')\n",
    "\n",
    "# Connect the dropdown widgets to the display_items_info function\n",
    "interact(display_items_info, selected_item1=item_dropdown1, selected_item2=item_dropdown2)\n"
   ]
  },
  {
   "cell_type": "code",
   "execution_count": 31,
   "id": "6e5afc79-d020-4dbe-9b7a-b9637d43c939",
   "metadata": {},
   "outputs": [
    {
     "data": {
      "application/vnd.jupyter.widget-view+json": {
       "model_id": "c9cc678785d649eda6fb9f29f4d6d69d",
       "version_major": 2,
       "version_minor": 0
      },
      "text/plain": [
       "interactive(children=(Dropdown(description='Select Item 1:', options=('Artisan Grilled Chicken Sandwich (Mcdon…"
      ]
     },
     "metadata": {},
     "output_type": "display_data"
    },
    {
     "data": {
      "text/plain": [
       "<function __main__.display_items_info(selected_item1, selected_item2)>"
      ]
     },
     "execution_count": 31,
     "metadata": {},
     "output_type": "execute_result"
    }
   ],
   "source": [
    "import pandas as pd\n",
    "import altair as alt\n",
    "from IPython.display import display\n",
    "from ipywidgets import interact, widgets, fixed\n",
    "\n",
    "# Assuming you have the DataFrame named menu_df\n",
    "\n",
    "# Enable notebook rendering for Altair\n",
    "alt.renderers.enable('default')\n",
    "\n",
    "# Define a function to display information for the selected items\n",
    "def display_items_info(selected_item1, selected_item2):\n",
    "    item_data1 = menu_df[menu_df['item_with_chain'] == selected_item1].squeeze()\n",
    "    item_data2 = menu_df[menu_df['item_with_chain'] == selected_item2].squeeze()\n",
    "    \n",
    "    comparison_df = pd.concat([item_data1, item_data2], axis=1, keys=['Item 1', 'Item 2'])\n",
    "    \n",
    "    # Melt the DataFrame for Altair\n",
    "    melted_df = comparison_df.reset_index().melt(id_vars=['index'], var_name='Item', value_name='Value')\n",
    "\n",
    "    # Adjust the chart to display individual bars side by side\n",
    "    chart = alt.Chart(melted_df).mark_bar().encode(\n",
    "        x=alt.X('index:N', title='Nutrient'),\n",
    "        y=alt.Y('Value:Q', title='Values'),\n",
    "        color=alt.Color('Item:N', scale=alt.Scale(range=['#1f77b4', '#ff7f0e']), legend=None),\n",
    "        tooltip=['Item:N', alt.Tooltip('Value:Q', title='Value')],\n",
    "    ).properties(\n",
    "        width=300,\n",
    "        title=\"Comparing Nutrition\"\n",
    "    ).facet(\n",
    "        row='Item:N',\n",
    "        title=\"Comparing Nutrition\"\n",
    "    )\n",
    "\n",
    "    display(chart)\n",
    "\n",
    "\n",
    "# Create two dropdown widgets with the list of items\n",
    "item_dropdown1 = widgets.Dropdown(options=menu_df['item_with_chain'].unique(), description='Select Item 1:')\n",
    "item_dropdown2 = widgets.Dropdown(options=menu_df['item_with_chain'].unique(), description='Select Item 2:')\n",
    "\n",
    "# Connect the dropdown widgets to the display_items_info function\n",
    "interact(display_items_info, selected_item1=item_dropdown1, selected_item2=item_dropdown2)\n"
   ]
  },
  {
   "cell_type": "code",
   "execution_count": 32,
   "id": "467110c8-848b-4c23-9c49-4b8652bab902",
   "metadata": {},
   "outputs": [
    {
     "data": {
      "application/vnd.jupyter.widget-view+json": {
       "model_id": "7de92d26214140749c115669011f5aa2",
       "version_major": 2,
       "version_minor": 0
      },
      "text/plain": [
       "interactive(children=(Dropdown(description='Select Item 1:', options=('Artisan Grilled Chicken Sandwich (Mcdon…"
      ]
     },
     "metadata": {},
     "output_type": "display_data"
    },
    {
     "data": {
      "text/plain": [
       "<function __main__.display_items_info(selected_item1, selected_item2)>"
      ]
     },
     "execution_count": 32,
     "metadata": {},
     "output_type": "execute_result"
    }
   ],
   "source": [
    "import pandas as pd\n",
    "import altair as alt\n",
    "from IPython.display import display\n",
    "from ipywidgets import interact, widgets, fixed\n",
    "\n",
    "# Assuming you have the DataFrame named menu_df\n",
    "\n",
    "# Enable notebook rendering for Altair\n",
    "alt.renderers.enable('default')\n",
    "\n",
    "# Define a function to display information for the selected items\n",
    "def display_items_info(selected_item1, selected_item2):\n",
    "    item_data1 = menu_df[menu_df['item_with_chain'] == selected_item1].squeeze()\n",
    "    item_data2 = menu_df[menu_df['item_with_chain'] == selected_item2].squeeze()\n",
    "    \n",
    "    comparison_df = pd.concat([item_data1, item_data2], axis=1, keys=['Item 1', 'Item 2'])\n",
    "    \n",
    "    # Melt the DataFrame for Altair\n",
    "    melted_df = comparison_df.reset_index().melt(id_vars=['index'], var_name='Item', value_name='Value')\n",
    "\n",
    "    # Adjust the chart to display individual bars side by side\n",
    "    chart = alt.Chart(melted_df).mark_bar().encode(\n",
    "        x=alt.X('index:N', title='Nutrient'),\n",
    "        y=alt.Y('Value:Q', title='Values'),\n",
    "        color=alt.Color('Item:N', scale=alt.Scale(range=['#1f77b4', '#ff7f0e']), legend=None),\n",
    "        tooltip=['Item:N', alt.Tooltip('Value:Q', title='Value')],\n",
    "    ).properties(\n",
    "        width=300,\n",
    "        title=\"Comparing Nutrition\"\n",
    "    ).facet(\n",
    "        column='Item:N',\n",
    "        title=\"Item 2\"\n",
    "    )\n",
    "\n",
    "    display(chart)\n",
    "\n",
    "\n",
    "# Create two dropdown widgets with the list of items\n",
    "item_dropdown1 = widgets.Dropdown(options=menu_df['item_with_chain'].unique(), description='Select Item 1:')\n",
    "item_dropdown2 = widgets.Dropdown(options=menu_df['item_with_chain'].unique(), description='Select Item 2:')\n",
    "\n",
    "# Connect the dropdown widgets to the display_items_info function\n",
    "interact(display_items_info, selected_item1=item_dropdown1, selected_item2=item_dropdown2)\n"
   ]
  },
  {
   "cell_type": "code",
   "execution_count": 33,
   "id": "09651a72-036d-47da-850c-16f6578d33b3",
   "metadata": {},
   "outputs": [
    {
     "data": {
      "application/vnd.jupyter.widget-view+json": {
       "model_id": "30da95ed1e9c485c8d65e785b2054551",
       "version_major": 2,
       "version_minor": 0
      },
      "text/plain": [
       "interactive(children=(Dropdown(description='Select Item 1:', options=('Artisan Grilled Chicken Sandwich (Mcdon…"
      ]
     },
     "metadata": {},
     "output_type": "display_data"
    },
    {
     "data": {
      "text/plain": [
       "<function __main__.display_items_info(selected_item1, selected_item2)>"
      ]
     },
     "execution_count": 33,
     "metadata": {},
     "output_type": "execute_result"
    }
   ],
   "source": [
    "import pandas as pd\n",
    "import altair as alt\n",
    "from IPython.display import display\n",
    "from ipywidgets import interact, widgets, fixed\n",
    "\n",
    "# Assuming you have the DataFrame named menu_df\n",
    "\n",
    "# Enable notebook rendering for Altair\n",
    "alt.renderers.enable('default')\n",
    "\n",
    "# Define a function to display information for the selected items\n",
    "def display_items_info(selected_item1, selected_item2):\n",
    "    item_data1 = menu_df[menu_df['item_with_chain'] == selected_item1].squeeze()\n",
    "    item_data2 = menu_df[menu_df['item_with_chain'] == selected_item2].squeeze()\n",
    "    \n",
    "    comparison_df = pd.concat([item_data1, item_data2], axis=1, keys=['Item 1', 'Item 2'])\n",
    "    \n",
    "    # Melt the DataFrame for Altair\n",
    "    melted_df = comparison_df.reset_index().melt(id_vars=['index'], var_name='Item', value_name='Value')\n",
    "\n",
    "    # Adjust the chart to display individual bars side by side\n",
    "    chart = alt.Chart(melted_df).mark_bar().encode(\n",
    "        x=alt.X('index:N', title='Nutrient'),\n",
    "        y=alt.Y('Value:Q', title='Values'),\n",
    "        color=alt.Color('Item:N', scale=alt.Scale(range=['#1f77b4', '#ff7f0e']), legend=None),\n",
    "        tooltip=['Item:N', alt.Tooltip('Value:Q', title='Value')],\n",
    "    ).properties(\n",
    "        width=300,\n",
    "        title=\"Comparing Nutrition\"\n",
    "    ).facet(\n",
    "        column='Item:N',\n",
    "        title='Item'  # Set a static title for each chart\n",
    "    )\n",
    "\n",
    "    display(chart)\n",
    "\n",
    "\n",
    "# Create two dropdown widgets with the list of items\n",
    "item_dropdown1 = widgets.Dropdown(options=menu_df['item_with_chain'].unique(), description='Select Item 1:')\n",
    "item_dropdown2 = widgets.Dropdown(options=menu_df['item_with_chain'].unique(), description='Select Item 2:')\n",
    "\n",
    "# Connect the dropdown widgets to the display_items_info function\n",
    "interact(display_items_info, selected_item1=item_dropdown1, selected_item2=item_dropdown2)\n"
   ]
  },
  {
   "cell_type": "code",
   "execution_count": 34,
   "id": "fe282f3b-ef84-4694-bcb1-f11d85730b78",
   "metadata": {},
   "outputs": [
    {
     "data": {
      "application/vnd.jupyter.widget-view+json": {
       "model_id": "f132ef0ab0ad461b8c1e7ee3bfc2de10",
       "version_major": 2,
       "version_minor": 0
      },
      "text/plain": [
       "interactive(children=(Dropdown(description='Select Item 1:', options=('Artisan Grilled Chicken Sandwich (Mcdon…"
      ]
     },
     "metadata": {},
     "output_type": "display_data"
    },
    {
     "data": {
      "text/plain": [
       "<function __main__.display_items_info(selected_item1, selected_item2)>"
      ]
     },
     "execution_count": 34,
     "metadata": {},
     "output_type": "execute_result"
    }
   ],
   "source": [
    "import pandas as pd\n",
    "import altair as alt\n",
    "from IPython.display import display\n",
    "from ipywidgets import interact, widgets, fixed\n",
    "\n",
    "# Assuming you have the DataFrame named menu_df\n",
    "\n",
    "# Enable notebook rendering for Altair\n",
    "alt.renderers.enable('default')\n",
    "\n",
    "# Define a function to display information for the selected items\n",
    "def display_items_info(selected_item1, selected_item2):\n",
    "    item_data1 = menu_df[menu_df['item_with_chain'] == selected_item1].squeeze()\n",
    "    item_data2 = menu_df[menu_df['item_with_chain'] == selected_item2].squeeze()\n",
    "    \n",
    "    comparison_df = pd.concat([item_data1, item_data2], axis=1, keys=['Item 1', 'Item 2'])\n",
    "    \n",
    "    # Melt the DataFrame for Altair\n",
    "    melted_df = comparison_df.reset_index().melt(id_vars=['index'], var_name='Item', value_name='Value')\n",
    "\n",
    "    # Adjust the chart to display individual bars side by side\n",
    "    chart = alt.Chart(melted_df).mark_bar().encode(\n",
    "        x=alt.X('index:N', title='Nutrient'),\n",
    "        y=alt.Y('Value:Q', title='Values'),\n",
    "        color=alt.Color('Item:N', scale=alt.Scale(range=['#1f77b4', '#ff7f0e']), legend=None),\n",
    "        tooltip=['Item:N', alt.Tooltip('Value:Q', title='Value')],\n",
    "    ).properties(\n",
    "        width=300,\n",
    "        title=\"Comparing Nutrition\"\n",
    "    ).facet(\n",
    "        column='Item:N',\n",
    "        title=alt.TitleParams(text=selected_item1, offset=10, orient='top')  # Set dynamic title for each chart\n",
    "    )\n",
    "\n",
    "    display(chart)\n",
    "\n",
    "\n",
    "# Create two dropdown widgets with the list of items\n",
    "item_dropdown1 = widgets.Dropdown(options=menu_df['item_with_chain'].unique(), description='Select Item 1:')\n",
    "item_dropdown2 = widgets.Dropdown(options=menu_df['item_with_chain'].unique(), description='Select Item 2:')\n",
    "\n",
    "# Connect the dropdown widgets to the display_items_info function\n",
    "interact(display_items_info, selected_item1=item_dropdown1, selected_item2=item_dropdown2)\n"
   ]
  },
  {
   "cell_type": "markdown",
   "id": "d7f08e34-c0d6-4e39-8c37-9f43e3e84f73",
   "metadata": {},
   "source": [
    "Attempting to change chart titles:"
   ]
  },
  {
   "cell_type": "code",
   "execution_count": 35,
   "id": "8fb81ee3-ba02-4272-a86c-74ed7eb24cd1",
   "metadata": {},
   "outputs": [
    {
     "data": {
      "application/vnd.jupyter.widget-view+json": {
       "model_id": "dd6a8399e0b44921847849ad78c36964",
       "version_major": 2,
       "version_minor": 0
      },
      "text/plain": [
       "interactive(children=(Dropdown(description='Select Item 1:', options=('Artisan Grilled Chicken Sandwich (Mcdon…"
      ]
     },
     "metadata": {},
     "output_type": "display_data"
    },
    {
     "data": {
      "text/plain": [
       "<function __main__.display_items_info(selected_item1, selected_item2)>"
      ]
     },
     "execution_count": 35,
     "metadata": {},
     "output_type": "execute_result"
    }
   ],
   "source": [
    "import pandas as pd\n",
    "import altair as alt\n",
    "from IPython.display import display\n",
    "from ipywidgets import interact, widgets, fixed\n",
    "\n",
    "# Enable notebook rendering for Altair\n",
    "alt.renderers.enable('default')\n",
    "\n",
    "# Define a function to display information for the selected items\n",
    "def display_items_info(selected_item1, selected_item2):\n",
    "    item_data1 = menu_df[menu_df['item_with_chain'] == selected_item1].squeeze()\n",
    "    item_data2 = menu_df[menu_df['item_with_chain'] == selected_item2].squeeze()\n",
    "    \n",
    "    comparison_df = pd.concat([item_data1, item_data2], axis=1, keys=['Item 1', 'Item 2'])\n",
    "\n",
    "    # Melt the DataFrame for Altair\n",
    "    melted_df = comparison_df.reset_index().melt(id_vars=['index'], var_name='Item', value_name='Value')\n",
    "\n",
    "    # Adjust the chart to display individual bars side by side\n",
    "    chart = alt.Chart(melted_df).mark_bar().encode(\n",
    "        x=alt.X('index:N', title=' '),\n",
    "        y=alt.Y('Value:Q', title=' '),\n",
    "        color=alt.Color('Item:N', scale=alt.Scale(range=['#1f77b4', '#ff7f0e']), legend=None),\n",
    "        tooltip=['Item:N', alt.Tooltip('Value:Q', title='Value')],\n",
    "    ).properties(\n",
    "        width=300,\n",
    "        title=\" \"\n",
    "    ).facet(\n",
    "        column='Item:N',\n",
    "        title=alt.TitleParams(text=selected_item1, offset=10, orient='top')  # Set dynamic title for each chart\n",
    "    )\n",
    "\n",
    "    display(chart)\n",
    "\n",
    "\n",
    "# Create two dropdown widgets with the list of items\n",
    "item_dropdown1 = widgets.Dropdown(options=menu_df['item_with_chain'].unique(), description='Select Item 1:')\n",
    "item_dropdown2 = widgets.Dropdown(options=menu_df['item_with_chain'].unique(), description='Select Item 2:')\n",
    "\n",
    "# Connect the dropdown widgets to the display_items_info function\n",
    "interact(display_items_info, selected_item1=item_dropdown1, selected_item2=item_dropdown2)\n"
   ]
  },
  {
   "cell_type": "code",
   "execution_count": 36,
   "id": "495bca42-40c5-4fb1-8816-84918ef657de",
   "metadata": {},
   "outputs": [
    {
     "data": {
      "application/vnd.jupyter.widget-view+json": {
       "model_id": "444e6c00804b44f290079c8a91964b4d",
       "version_major": 2,
       "version_minor": 0
      },
      "text/plain": [
       "interactive(children=(Dropdown(description='Select Item 1:', options=('Artisan Grilled Chicken Sandwich (Mcdon…"
      ]
     },
     "metadata": {},
     "output_type": "display_data"
    },
    {
     "data": {
      "text/plain": [
       "<function __main__.display_items_info(selected_item1, selected_item2)>"
      ]
     },
     "execution_count": 36,
     "metadata": {},
     "output_type": "execute_result"
    }
   ],
   "source": [
    "import pandas as pd\n",
    "import altair as alt\n",
    "from IPython.display import display\n",
    "from ipywidgets import interact, widgets, fixed\n",
    "\n",
    "# Enable notebook rendering for Altair\n",
    "alt.renderers.enable('default')\n",
    "\n",
    "# Define a function to display information for the selected items\n",
    "def display_items_info(selected_item1, selected_item2):\n",
    "    item_data1 = menu_df[menu_df['item_with_chain'] == selected_item1].squeeze()\n",
    "    item_data2 = menu_df[menu_df['item_with_chain'] == selected_item2].squeeze()\n",
    "    \n",
    "    # Update the keys with the string values of the selected items\n",
    "    comparison_df = pd.concat([item_data1, item_data2], axis=1, keys=[selected_item1, selected_item2])\n",
    "\n",
    "    # Melt the DataFrame for Altair\n",
    "    melted_df = comparison_df.reset_index().melt(id_vars=['index'], var_name='Item', value_name='Value')\n",
    "\n",
    "    # Adjust the chart to display individual bars side by side\n",
    "    chart = alt.Chart(melted_df).mark_bar().encode(\n",
    "        x=alt.X('index:N', title=' '),\n",
    "        y=alt.Y('Value:Q', title=' '),\n",
    "        color=alt.Color('Item:N', scale=alt.Scale(range=['#1f77b4', '#ff7f0e']), legend=None),\n",
    "        tooltip=['Item:N', alt.Tooltip('Value:Q', title='Value')],\n",
    "    ).properties(\n",
    "        width=300,\n",
    "        title=\" \"\n",
    "    ).facet(\n",
    "        column='Item:N',\n",
    "        title=alt.TitleParams(text=\"Compare Nutrients\", offset=10, orient='top')  # Set dynamic title for each chart\n",
    "    )\n",
    "\n",
    "    display(chart)\n",
    "\n",
    "\n",
    "# Create two dropdown widgets with the list of items\n",
    "item_dropdown1 = widgets.Dropdown(options=menu_df['item_with_chain'].unique(), description='Select Item 1:')\n",
    "item_dropdown2 = widgets.Dropdown(options=menu_df['item_with_chain'].unique(), description='Select Item 2:')\n",
    "\n",
    "# Connect the dropdown widgets to the display_items_info function\n",
    "interact(display_items_info, selected_item1=item_dropdown1, selected_item2=item_dropdown2)\n"
   ]
  },
  {
   "cell_type": "markdown",
   "id": "db99a355-1823-42f0-9e1d-c0f2aa670b7b",
   "metadata": {},
   "source": [
    "## This is a good one"
   ]
  },
  {
   "cell_type": "code",
   "execution_count": 37,
   "id": "59c9c742-3bf4-4f62-9633-f8ee907ebaab",
   "metadata": {},
   "outputs": [
    {
     "data": {
      "application/vnd.jupyter.widget-view+json": {
       "model_id": "4b12da62a2c243fe871ad1182bf5bc08",
       "version_major": 2,
       "version_minor": 0
      },
      "text/plain": [
       "interactive(children=(Dropdown(description='Select Item 1:', options=('Artisan Grilled Chicken Sandwich (Mcdon…"
      ]
     },
     "metadata": {},
     "output_type": "display_data"
    },
    {
     "data": {
      "text/plain": [
       "<function __main__.display_items_info(selected_item1, selected_item2)>"
      ]
     },
     "execution_count": 37,
     "metadata": {},
     "output_type": "execute_result"
    }
   ],
   "source": [
    "import pandas as pd\n",
    "import altair as alt\n",
    "from IPython.display import display\n",
    "from ipywidgets import interact, widgets, fixed\n",
    "\n",
    "# Enable notebook rendering for Altair\n",
    "alt.renderers.enable('default')\n",
    "\n",
    "# Define a function to display information for the selected items\n",
    "def display_items_info(selected_item1, selected_item2):\n",
    "    item_data1 = menu_df[menu_df['item_with_chain'] == selected_item1].squeeze()\n",
    "    item_data2 = menu_df[menu_df['item_with_chain'] == selected_item2].squeeze()\n",
    "    \n",
    "    # Update the keys with the string values of the selected items\n",
    "    comparison_df = pd.concat([item_data1, item_data2], axis=1, keys=[selected_item1, selected_item2])\n",
    "\n",
    "    # Melt the DataFrame for Altair\n",
    "    melted_df = comparison_df.reset_index().melt(id_vars=['index'], var_name='Item', value_name='Value')\n",
    "\n",
    "    # Adjust the chart to display individual bars side by side\n",
    "    chart = alt.Chart(melted_df).mark_bar().encode(\n",
    "        x=alt.X('index:N', title=' '),\n",
    "        y=alt.Y('Value:Q', title=' '),\n",
    "        color=alt.Color('Item:N', scale=alt.Scale(range=['#6495ED', '#ADD8E6']), legend=None),\n",
    "        tooltip=['Item:N', alt.Tooltip('Value:Q', title='Value')],\n",
    "    ).properties(\n",
    "        width=300,\n",
    "        title=\" \"\n",
    "    ).facet(\n",
    "        column='Item:N',\n",
    "        title=alt.TitleParams(text=\"Comparing the Nutrients of the Two Selected Items\", offset=10, orient='top')\n",
    "    )\n",
    "\n",
    "    display(chart)\n",
    "\n",
    "\n",
    "\n",
    "# Create two dropdown widgets with the list of items\n",
    "item_dropdown1 = widgets.Dropdown(options=menu_df['item_with_chain'].unique(), description='Select Item 1:')\n",
    "item_dropdown2 = widgets.Dropdown(options=menu_df['item_with_chain'].unique(), description='Select Item 2:', value=menu_df['item_with_chain'].unique()[1])\n",
    "\n",
    "# Connect the dropdown widgets to the display_items_info function\n",
    "interact(display_items_info, selected_item1=item_dropdown1, selected_item2=item_dropdown2)\n"
   ]
  },
  {
   "cell_type": "code",
   "execution_count": 38,
   "id": "6e2d046a-c5da-4056-82c5-0ae5fc286f76",
   "metadata": {},
   "outputs": [
    {
     "data": {
      "application/vnd.jupyter.widget-view+json": {
       "model_id": "e87f602c2be240679a587a8a0b17ae74",
       "version_major": 2,
       "version_minor": 0
      },
      "text/plain": [
       "interactive(children=(Dropdown(description='Select Item 1:', options=('Artisan Grilled Chicken Sandwich (Mcdon…"
      ]
     },
     "metadata": {},
     "output_type": "display_data"
    },
    {
     "data": {
      "text/plain": [
       "<function __main__.display_items_info(selected_item1, selected_item2)>"
      ]
     },
     "execution_count": 38,
     "metadata": {},
     "output_type": "execute_result"
    }
   ],
   "source": [
    "import pandas as pd\n",
    "import altair as alt\n",
    "from IPython.display import display\n",
    "from ipywidgets import interact, widgets, fixed\n",
    "\n",
    "# Enable notebook rendering for Altair\n",
    "alt.renderers.enable('default')\n",
    "\n",
    "# Define a function to display information for the selected items\n",
    "def display_items_info(selected_item1, selected_item2):\n",
    "    item_data1 = menu_df[menu_df['item_with_chain'] == selected_item1].squeeze()\n",
    "    item_data2 = menu_df[menu_df['item_with_chain'] == selected_item2].squeeze()\n",
    "    \n",
    "    # Filter only the 'Calories' column for both items\n",
    "    item_data1 = item_data1[['calories']]\n",
    "    item_data2 = item_data2[['calories']]\n",
    "\n",
    "    # Update the keys with the string values of the selected items\n",
    "    comparison_df = pd.concat([item_data1, item_data2], axis=1, keys=[selected_item1, selected_item2])\n",
    "\n",
    "    # Melt the DataFrame for Altair\n",
    "    melted_df = comparison_df.reset_index().melt(id_vars=['index'], var_name='Item', value_name='Value')\n",
    "\n",
    "    # Adjust the chart to display individual bars side by side\n",
    "    chart = alt.Chart(melted_df).mark_bar().encode(\n",
    "        x=alt.X('index:N', title=' '),\n",
    "        y=alt.Y('Value:Q', title=' '),\n",
    "        color=alt.Color('Item:N', scale=alt.Scale(range=['#6495ED', '#ADD8E6']), legend=None),\n",
    "        tooltip=['Item:N', alt.Tooltip('Value:Q', title='Value')],\n",
    "    ).properties(\n",
    "        width=300,\n",
    "        title=\" \"\n",
    "    ).facet(\n",
    "        column='Item:N',\n",
    "        title=alt.TitleParams(text=\"Comparing the Calories of the Two Selected Items\", offset=10, orient='top')\n",
    "    )\n",
    "\n",
    "    display(chart)\n",
    "\n",
    "# Create two dropdown widgets with the list of items\n",
    "item_dropdown1 = widgets.Dropdown(options=menu_df['item_with_chain'].unique(), description='Select Item 1:')\n",
    "item_dropdown2 = widgets.Dropdown(options=menu_df['item_with_chain'].unique(), description='Select Item 2:', value=menu_df['item_with_chain'].unique()[1])\n",
    "\n",
    "# Connect the dropdown widgets to the display_items_info function\n",
    "interact(display_items_info, selected_item1=item_dropdown1, selected_item2=item_dropdown2)\n"
   ]
  },
  {
   "cell_type": "code",
   "execution_count": 39,
   "id": "d3babbef-af24-485e-9d44-285719e6b908",
   "metadata": {},
   "outputs": [
    {
     "data": {
      "application/vnd.jupyter.widget-view+json": {
       "model_id": "94193bc2ae3449c3992a555d43355afa",
       "version_major": 2,
       "version_minor": 0
      },
      "text/plain": [
       "interactive(children=(Dropdown(description='Select Item 1:', options=('Artisan Grilled Chicken Sandwich (Mcdon…"
      ]
     },
     "metadata": {},
     "output_type": "display_data"
    },
    {
     "data": {
      "text/plain": [
       "<function __main__.display_items_info(selected_item1, selected_item2, selected_column)>"
      ]
     },
     "execution_count": 39,
     "metadata": {},
     "output_type": "execute_result"
    }
   ],
   "source": [
    "import pandas as pd\n",
    "import altair as alt\n",
    "from IPython.display import display\n",
    "from ipywidgets import interact, widgets, fixed\n",
    "\n",
    "# Enable notebook rendering for Altair\n",
    "alt.renderers.enable('default')\n",
    "\n",
    "# Define a function to display information for the selected items\n",
    "def display_items_info(selected_item1, selected_item2, selected_column):\n",
    "    item_data1 = menu_df[menu_df['item_with_chain'] == selected_item1].squeeze()\n",
    "    item_data2 = menu_df[menu_df['item_with_chain'] == selected_item2].squeeze()\n",
    "\n",
    "    # Filter only the selected column for both items\n",
    "    item_data1 = item_data1[[selected_column]]\n",
    "    item_data2 = item_data2[[selected_column]]\n",
    "\n",
    "    # Update the keys with the string values of the selected items\n",
    "    comparison_df = pd.concat([item_data1, item_data2], axis=1, keys=[selected_item1, selected_item2])\n",
    "\n",
    "    # Melt the DataFrame for Altair\n",
    "    melted_df = comparison_df.reset_index().melt(id_vars=['index'], var_name='Item', value_name='Value')\n",
    "\n",
    "    # Adjust the chart to display individual bars side by side\n",
    "    chart = alt.Chart(melted_df).mark_bar().encode(\n",
    "        x=alt.X('index:N', title=' '),\n",
    "        y=alt.Y('Value:Q', title=' '),\n",
    "        color=alt.Color('Item:N', scale=alt.Scale(range=['#6495ED', '#ADD8E6']), legend=None),\n",
    "        tooltip=['Item:N', alt.Tooltip('Value:Q', title='Value')],\n",
    "    ).properties(\n",
    "        width=300,\n",
    "        title=\" \"\n",
    "    ).facet(\n",
    "        column='Item:N',\n",
    "        title=alt.TitleParams(text=f\"Comparing {selected_column} of the Two Selected Items\", offset=10, orient='top')\n",
    "    )\n",
    "\n",
    "    display(chart)\n",
    "\n",
    "# Create dropdown widgets for items and columns\n",
    "item_dropdown1 = widgets.Dropdown(options=menu_df['item_with_chain'].unique(), description='Select Item 1:')\n",
    "item_dropdown2 = widgets.Dropdown(options=menu_df['item_with_chain'].unique(), description='Select Item 2:', value=menu_df['item_with_chain'].unique()[1])\n",
    "column_dropdown = widgets.Dropdown(options=menu_df.columns[3:].tolist(), description='Select Column:', value='calories')\n",
    "\n",
    "# Connect the dropdown widgets to the display_items_info function\n",
    "interact(display_items_info, selected_item1=item_dropdown1, selected_item2=item_dropdown2, selected_column=column_dropdown)\n"
   ]
  },
  {
   "cell_type": "code",
   "execution_count": null,
   "id": "750dc8e6-2ba5-43b5-8963-aefb528fb8f4",
   "metadata": {},
   "outputs": [],
   "source": []
  },
  {
   "cell_type": "code",
   "execution_count": null,
   "id": "20d2dc86-2108-44cb-bfcb-e0f5f99d8f50",
   "metadata": {},
   "outputs": [],
   "source": []
  },
  {
   "cell_type": "code",
   "execution_count": null,
   "id": "8a674db3-ad82-4257-87f2-252875535294",
   "metadata": {},
   "outputs": [],
   "source": []
  }
 ],
 "metadata": {
  "kernelspec": {
   "display_name": "Python 3 (ipykernel)",
   "language": "python",
   "name": "python3"
  },
  "language_info": {
   "codemirror_mode": {
    "name": "ipython",
    "version": 3
   },
   "file_extension": ".py",
   "mimetype": "text/x-python",
   "name": "python",
   "nbconvert_exporter": "python",
   "pygments_lexer": "ipython3",
   "version": "3.10.8"
  }
 },
 "nbformat": 4,
 "nbformat_minor": 5
}
