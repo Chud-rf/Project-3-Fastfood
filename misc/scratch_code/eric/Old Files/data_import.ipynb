{
 "cells": [
  {
   "cell_type": "markdown",
   "id": "06a23f81-f20c-480c-9cb3-17b761eb208d",
   "metadata": {},
   "source": [
    "# Import and Cleaning"
   ]
  },
  {
   "cell_type": "code",
   "execution_count": 17,
   "id": "95a7dfbb-bd4d-4235-984f-012f465650ef",
   "metadata": {},
   "outputs": [],
   "source": [
    "# Required Libraries\n",
    "import pandas as pd\n",
    "import sqlite3\n"
   ]
  },
  {
   "cell_type": "code",
   "execution_count": 3,
   "id": "2cde2e15-223e-44c4-8f05-bedb7cdcce6d",
   "metadata": {},
   "outputs": [
    {
     "data": {
      "text/html": [
       "<div>\n",
       "<style scoped>\n",
       "    .dataframe tbody tr th:only-of-type {\n",
       "        vertical-align: middle;\n",
       "    }\n",
       "\n",
       "    .dataframe tbody tr th {\n",
       "        vertical-align: top;\n",
       "    }\n",
       "\n",
       "    .dataframe thead th {\n",
       "        text-align: right;\n",
       "    }\n",
       "</style>\n",
       "<table border=\"1\" class=\"dataframe\">\n",
       "  <thead>\n",
       "    <tr style=\"text-align: right;\">\n",
       "      <th></th>\n",
       "      <th>restaurant</th>\n",
       "      <th>item</th>\n",
       "      <th>calories</th>\n",
       "      <th>cal_fat</th>\n",
       "      <th>total_fat</th>\n",
       "      <th>sat_fat</th>\n",
       "      <th>trans_fat</th>\n",
       "      <th>cholesterol</th>\n",
       "      <th>sodium</th>\n",
       "      <th>total_carb</th>\n",
       "      <th>fiber</th>\n",
       "      <th>sugar</th>\n",
       "      <th>protein</th>\n",
       "      <th>vit_a</th>\n",
       "      <th>vit_c</th>\n",
       "      <th>calcium</th>\n",
       "      <th>salad</th>\n",
       "    </tr>\n",
       "  </thead>\n",
       "  <tbody>\n",
       "    <tr>\n",
       "      <th>0</th>\n",
       "      <td>Mcdonalds</td>\n",
       "      <td>Artisan Grilled Chicken Sandwich</td>\n",
       "      <td>380</td>\n",
       "      <td>60</td>\n",
       "      <td>7</td>\n",
       "      <td>2.0</td>\n",
       "      <td>0.0</td>\n",
       "      <td>95</td>\n",
       "      <td>1110</td>\n",
       "      <td>44</td>\n",
       "      <td>3.0</td>\n",
       "      <td>11</td>\n",
       "      <td>37.0</td>\n",
       "      <td>4.0</td>\n",
       "      <td>20.0</td>\n",
       "      <td>20.0</td>\n",
       "      <td>Other</td>\n",
       "    </tr>\n",
       "    <tr>\n",
       "      <th>1</th>\n",
       "      <td>Mcdonalds</td>\n",
       "      <td>Single Bacon Smokehouse Burger</td>\n",
       "      <td>840</td>\n",
       "      <td>410</td>\n",
       "      <td>45</td>\n",
       "      <td>17.0</td>\n",
       "      <td>1.5</td>\n",
       "      <td>130</td>\n",
       "      <td>1580</td>\n",
       "      <td>62</td>\n",
       "      <td>2.0</td>\n",
       "      <td>18</td>\n",
       "      <td>46.0</td>\n",
       "      <td>6.0</td>\n",
       "      <td>20.0</td>\n",
       "      <td>20.0</td>\n",
       "      <td>Other</td>\n",
       "    </tr>\n",
       "    <tr>\n",
       "      <th>2</th>\n",
       "      <td>Mcdonalds</td>\n",
       "      <td>Double Bacon Smokehouse Burger</td>\n",
       "      <td>1130</td>\n",
       "      <td>600</td>\n",
       "      <td>67</td>\n",
       "      <td>27.0</td>\n",
       "      <td>3.0</td>\n",
       "      <td>220</td>\n",
       "      <td>1920</td>\n",
       "      <td>63</td>\n",
       "      <td>3.0</td>\n",
       "      <td>18</td>\n",
       "      <td>70.0</td>\n",
       "      <td>10.0</td>\n",
       "      <td>20.0</td>\n",
       "      <td>50.0</td>\n",
       "      <td>Other</td>\n",
       "    </tr>\n",
       "  </tbody>\n",
       "</table>\n",
       "</div>"
      ],
      "text/plain": [
       "  restaurant                              item  calories  cal_fat  total_fat  \\\n",
       "0  Mcdonalds  Artisan Grilled Chicken Sandwich       380       60          7   \n",
       "1  Mcdonalds    Single Bacon Smokehouse Burger       840      410         45   \n",
       "2  Mcdonalds    Double Bacon Smokehouse Burger      1130      600         67   \n",
       "\n",
       "   sat_fat  trans_fat  cholesterol  sodium  total_carb  fiber  sugar  protein  \\\n",
       "0      2.0        0.0           95    1110          44    3.0     11     37.0   \n",
       "1     17.0        1.5          130    1580          62    2.0     18     46.0   \n",
       "2     27.0        3.0          220    1920          63    3.0     18     70.0   \n",
       "\n",
       "   vit_a  vit_c  calcium  salad  \n",
       "0    4.0   20.0     20.0  Other  \n",
       "1    6.0   20.0     20.0  Other  \n",
       "2   10.0   20.0     50.0  Other  "
      ]
     },
     "execution_count": 3,
     "metadata": {},
     "output_type": "execute_result"
    }
   ],
   "source": [
    "# Load CSVs\n",
    "menu_df = pd.read_csv('Data/fastfood.csv')\n",
    "menu_df.head(3)"
   ]
  },
  {
   "cell_type": "code",
   "execution_count": 4,
   "id": "3329b05e-9986-4bfa-bfc2-fbb652d47948",
   "metadata": {},
   "outputs": [
    {
     "name": "stdout",
     "output_type": "stream",
     "text": [
      "<class 'pandas.core.frame.DataFrame'>\n",
      "RangeIndex: 515 entries, 0 to 514\n",
      "Data columns (total 17 columns):\n",
      " #   Column       Non-Null Count  Dtype  \n",
      "---  ------       --------------  -----  \n",
      " 0   restaurant   515 non-null    object \n",
      " 1   item         515 non-null    object \n",
      " 2   calories     515 non-null    int64  \n",
      " 3   cal_fat      515 non-null    int64  \n",
      " 4   total_fat    515 non-null    int64  \n",
      " 5   sat_fat      515 non-null    float64\n",
      " 6   trans_fat    515 non-null    float64\n",
      " 7   cholesterol  515 non-null    int64  \n",
      " 8   sodium       515 non-null    int64  \n",
      " 9   total_carb   515 non-null    int64  \n",
      " 10  fiber        503 non-null    float64\n",
      " 11  sugar        515 non-null    int64  \n",
      " 12  protein      514 non-null    float64\n",
      " 13  vit_a        301 non-null    float64\n",
      " 14  vit_c        305 non-null    float64\n",
      " 15  calcium      305 non-null    float64\n",
      " 16  salad        515 non-null    object \n",
      "dtypes: float64(7), int64(7), object(3)\n",
      "memory usage: 68.5+ KB\n"
     ]
    }
   ],
   "source": [
    "# Get information on df\n",
    "menu_df.info()"
   ]
  },
  {
   "cell_type": "code",
   "execution_count": 5,
   "id": "a77061f9-f4dd-4f7f-b041-eadf157ba75f",
   "metadata": {},
   "outputs": [
    {
     "name": "stdout",
     "output_type": "stream",
     "text": [
      "<class 'pandas.core.frame.DataFrame'>\n",
      "RangeIndex: 515 entries, 0 to 514\n",
      "Data columns (total 13 columns):\n",
      " #   Column       Non-Null Count  Dtype  \n",
      "---  ------       --------------  -----  \n",
      " 0   restaurant   515 non-null    object \n",
      " 1   item         515 non-null    object \n",
      " 2   calories     515 non-null    int64  \n",
      " 3   cal_fat      515 non-null    int64  \n",
      " 4   total_fat    515 non-null    int64  \n",
      " 5   sat_fat      515 non-null    float64\n",
      " 6   trans_fat    515 non-null    float64\n",
      " 7   cholesterol  515 non-null    int64  \n",
      " 8   sodium       515 non-null    int64  \n",
      " 9   total_carb   515 non-null    int64  \n",
      " 10  fiber        503 non-null    float64\n",
      " 11  sugar        515 non-null    int64  \n",
      " 12  protein      514 non-null    float64\n",
      "dtypes: float64(4), int64(7), object(2)\n",
      "memory usage: 52.4+ KB\n"
     ]
    }
   ],
   "source": [
    "# Drop Columns missing several values\n",
    "# Dropping Salad because it's not a useful field\n",
    "menu_df = menu_df.drop(labels=['vit_a', 'vit_c', 'calcium', 'salad'], axis=1)\n",
    "\n",
    "# Check to ensure it worked\n",
    "menu_df.info()"
   ]
  },
  {
   "cell_type": "code",
   "execution_count": 6,
   "id": "def5552a-b5e4-4bfc-bf20-9d50ae751d0d",
   "metadata": {},
   "outputs": [
    {
     "name": "stdout",
     "output_type": "stream",
     "text": [
      "<class 'pandas.core.frame.DataFrame'>\n",
      "RangeIndex: 515 entries, 0 to 514\n",
      "Data columns (total 13 columns):\n",
      " #   Column       Non-Null Count  Dtype  \n",
      "---  ------       --------------  -----  \n",
      " 0   restaurant   515 non-null    object \n",
      " 1   item         515 non-null    object \n",
      " 2   calories     515 non-null    int64  \n",
      " 3   cal_fat      515 non-null    int64  \n",
      " 4   total_fat    515 non-null    int64  \n",
      " 5   sat_fat      515 non-null    float64\n",
      " 6   trans_fat    515 non-null    float64\n",
      " 7   cholesterol  515 non-null    int64  \n",
      " 8   sodium       515 non-null    int64  \n",
      " 9   total_carb   515 non-null    int64  \n",
      " 10  fiber        515 non-null    float64\n",
      " 11  sugar        515 non-null    int64  \n",
      " 12  protein      515 non-null    float64\n",
      "dtypes: float64(4), int64(7), object(2)\n",
      "memory usage: 52.4+ KB\n"
     ]
    }
   ],
   "source": [
    "# Clean Fiber and Protien missing values\n",
    "# Calculate column averages\n",
    "fiber_avg = menu_df['fiber'].mean()\n",
    "protein_avg = menu_df['protein'].mean()\n",
    "\n",
    "# Fill missing values with averages\n",
    "menu_df['fiber'].fillna(fiber_avg, inplace=True)\n",
    "menu_df['protein'].fillna(protein_avg, inplace=True)\n",
    "\n",
    "# Verify the changes\n",
    "menu_df.info()"
   ]
  },
  {
   "cell_type": "code",
   "execution_count": 7,
   "id": "59203930-7511-40c0-9753-8a53a8355a27",
   "metadata": {},
   "outputs": [
    {
     "name": "stdout",
     "output_type": "stream",
     "text": [
      "<class 'pandas.core.frame.DataFrame'>\n",
      "RangeIndex: 515 entries, 0 to 514\n",
      "Data columns (total 14 columns):\n",
      " #   Column           Non-Null Count  Dtype  \n",
      "---  ------           --------------  -----  \n",
      " 0   restaurant       515 non-null    object \n",
      " 1   item             515 non-null    object \n",
      " 2   item_with_chain  515 non-null    object \n",
      " 3   calories         515 non-null    float64\n",
      " 4   cal_fat          515 non-null    float64\n",
      " 5   total_fat        515 non-null    float64\n",
      " 6   sat_fat          515 non-null    float64\n",
      " 7   trans_fat        515 non-null    float64\n",
      " 8   cholesterol      515 non-null    float64\n",
      " 9   sodium           515 non-null    float64\n",
      " 10  total_carb       515 non-null    float64\n",
      " 11  fiber            515 non-null    float64\n",
      " 12  sugar            515 non-null    float64\n",
      " 13  protein          515 non-null    float64\n",
      "dtypes: float64(11), object(3)\n",
      "memory usage: 56.5+ KB\n"
     ]
    }
   ],
   "source": [
    "# Convert all integer columns to floats to make it easier to compare\n",
    "int_columns = menu_df.select_dtypes(include='int64').columns\n",
    "menu_df[int_columns] = menu_df[int_columns].astype(float)\n",
    "\n",
    "# Create a new column to display the item with the chain name after, making it easier to read the drop down menus\n",
    "menu_df.insert(2, 'item_with_chain', menu_df['item'] + ' (' + menu_df['restaurant'] + ')')\n",
    "\n",
    "# Verify the changes\n",
    "menu_df.info()"
   ]
  },
  {
   "cell_type": "code",
   "execution_count": 8,
   "id": "4b8c4abe-22de-4a56-aa08-c872fa2965fc",
   "metadata": {},
   "outputs": [
    {
     "name": "stdout",
     "output_type": "stream",
     "text": [
      "item_with_chain\n",
      "Express Taco Salad w/ Chips (Taco Bell)         2\n",
      "Chili Cheese Burrito (Taco Bell)                2\n",
      "Artisan Grilled Chicken Sandwich (Mcdonalds)    1\n",
      "6\" Sweet Onion Chicken Teriyaki (Subway)        1\n",
      "Footlong Subway Seafood Sensation (Subway)      1\n",
      "                                               ..\n",
      "Roast Turkey & Swiss Sandwich (Arbys)           1\n",
      "Roast Beef Gyro (Arbys)                         1\n",
      "Reuben Sandwich (Arbys)                         1\n",
      "5 piece Prime-Cut Chicken Tenders (Arbys)       1\n",
      "Fiesta Taco Salad-Steak (Taco Bell)             1\n",
      "Name: count, Length: 513, dtype: int64\n",
      "                             item_with_chain  calories  cal_fat  sat_fat  \\\n",
      "414         Chili Cheese Burrito (Taco Bell)     380.0    150.0      8.0   \n",
      "492         Chili Cheese Burrito (Taco Bell)     380.0    150.0      8.0   \n",
      "497  Express Taco Salad w/ Chips (Taco Bell)     580.0    260.0      9.0   \n",
      "511  Express Taco Salad w/ Chips (Taco Bell)     580.0    260.0      9.0   \n",
      "\n",
      "     trans_fat  cholesterol  sodium  total_carb  fiber  sugar  protein  \n",
      "414        1.0         35.0   930.0        41.0    5.0    2.0     16.0  \n",
      "492        1.0         35.0   930.0        41.0    5.0    2.0     16.0  \n",
      "497        1.0         60.0  1270.0        59.0    8.0    7.0     23.0  \n",
      "511        1.0         60.0  1270.0        59.0    8.0    7.0     23.0  \n"
     ]
    }
   ],
   "source": [
    "# Find duplicate items in 'item_with_chain'\n",
    "print(menu_df['item_with_chain'].value_counts())\n",
    "\n",
    "duplicate_items = menu_df[menu_df.duplicated(subset='item_with_chain', keep=False)]\n",
    "\n",
    "# Display duplicate items\n",
    "print(duplicate_items[['item_with_chain', 'calories', 'cal_fat', 'sat_fat', \\\n",
    "                       'trans_fat', 'cholesterol', 'sodium', 'total_carb', 'fiber', 'sugar', 'protein']])\n",
    "\n",
    "# Remove one of the duplicates (you can choose 'first' or 'last')\n",
    "menu_df = menu_df.drop_duplicates(subset='item_with_chain', keep='first')"
   ]
  },
  {
   "cell_type": "code",
   "execution_count": 9,
   "id": "ae8f1466-7250-4bb0-a889-172f973c2d4e",
   "metadata": {},
   "outputs": [
    {
     "name": "stdout",
     "output_type": "stream",
     "text": [
      "Empty DataFrame\n",
      "Columns: [restaurant, item, item_with_chain, calories, cal_fat, total_fat, sat_fat, trans_fat, cholesterol, sodium, total_carb, fiber, sugar, protein]\n",
      "Index: []\n"
     ]
    }
   ],
   "source": [
    "# Check again\n",
    "duplicate_items2 = menu_df[menu_df.duplicated(subset='item_with_chain', keep=False)]\n",
    "print(duplicate_items2)"
   ]
  },
  {
   "cell_type": "code",
   "execution_count": 11,
   "id": "0fe1a9a8-741b-4460-9299-29fef7888b7a",
   "metadata": {},
   "outputs": [
    {
     "data": {
      "text/plain": [
       "(513, 14)"
      ]
     },
     "execution_count": 11,
     "metadata": {},
     "output_type": "execute_result"
    }
   ],
   "source": [
    "# Look at shape\n",
    "menu_df.shape"
   ]
  },
  {
   "cell_type": "code",
   "execution_count": 12,
   "id": "3c9c1cbc-5c32-4967-a8cc-a3444122ab03",
   "metadata": {},
   "outputs": [
    {
     "data": {
      "text/plain": [
       "Index(['restaurant', 'item', 'item_with_chain', 'calories', 'cal_fat',\n",
       "       'total_fat', 'sat_fat', 'trans_fat', 'cholesterol', 'sodium',\n",
       "       'total_carb', 'fiber', 'sugar', 'protein'],\n",
       "      dtype='object')"
      ]
     },
     "execution_count": 12,
     "metadata": {},
     "output_type": "execute_result"
    }
   ],
   "source": [
    "# Look at columns\n",
    "menu_df.columns"
   ]
  },
  {
   "cell_type": "markdown",
   "id": "6cf273d7-d009-4aef-8255-b3cfc9d04f7a",
   "metadata": {},
   "source": [
    "# Export to SQLite"
   ]
  },
  {
   "cell_type": "code",
   "execution_count": 19,
   "id": "817ffa41-2244-4454-9ac7-1fec5a077a0d",
   "metadata": {},
   "outputs": [],
   "source": [
    "\n",
    "\n",
    "# Connect to SQLite database (this will create a new database file if it doesn't exist)\n",
    "conn = sqlite3.connect('Data/menu.db')\n",
    "\n",
    "# Export the DataFrame to SQLite\n",
    "menu_df.to_sql(name='menu', con=conn, index=False, if_exists='replace')\n",
    "\n",
    "# Close the connection\n",
    "conn.close()"
   ]
  },
  {
   "cell_type": "markdown",
   "id": "864f7f24-d932-4d9e-821a-5e1e5e705c47",
   "metadata": {},
   "source": [
    "## Testing importing the data again"
   ]
  },
  {
   "cell_type": "code",
   "execution_count": 22,
   "id": "96538395-5f70-4246-9edf-c5f09d987c8d",
   "metadata": {},
   "outputs": [
    {
     "data": {
      "text/html": [
       "<div>\n",
       "<style scoped>\n",
       "    .dataframe tbody tr th:only-of-type {\n",
       "        vertical-align: middle;\n",
       "    }\n",
       "\n",
       "    .dataframe tbody tr th {\n",
       "        vertical-align: top;\n",
       "    }\n",
       "\n",
       "    .dataframe thead th {\n",
       "        text-align: right;\n",
       "    }\n",
       "</style>\n",
       "<table border=\"1\" class=\"dataframe\">\n",
       "  <thead>\n",
       "    <tr style=\"text-align: right;\">\n",
       "      <th></th>\n",
       "      <th>restaurant</th>\n",
       "      <th>item</th>\n",
       "      <th>item_with_chain</th>\n",
       "      <th>calories</th>\n",
       "      <th>cal_fat</th>\n",
       "      <th>total_fat</th>\n",
       "      <th>sat_fat</th>\n",
       "      <th>trans_fat</th>\n",
       "      <th>cholesterol</th>\n",
       "      <th>sodium</th>\n",
       "      <th>total_carb</th>\n",
       "      <th>fiber</th>\n",
       "      <th>sugar</th>\n",
       "      <th>protein</th>\n",
       "    </tr>\n",
       "  </thead>\n",
       "  <tbody>\n",
       "    <tr>\n",
       "      <th>0</th>\n",
       "      <td>Mcdonalds</td>\n",
       "      <td>Artisan Grilled Chicken Sandwich</td>\n",
       "      <td>Artisan Grilled Chicken Sandwich (Mcdonalds)</td>\n",
       "      <td>380.0</td>\n",
       "      <td>60.0</td>\n",
       "      <td>7.0</td>\n",
       "      <td>2.0</td>\n",
       "      <td>0.0</td>\n",
       "      <td>95.0</td>\n",
       "      <td>1110.0</td>\n",
       "      <td>44.0</td>\n",
       "      <td>3.0</td>\n",
       "      <td>11.0</td>\n",
       "      <td>37.0</td>\n",
       "    </tr>\n",
       "    <tr>\n",
       "      <th>1</th>\n",
       "      <td>Mcdonalds</td>\n",
       "      <td>Single Bacon Smokehouse Burger</td>\n",
       "      <td>Single Bacon Smokehouse Burger (Mcdonalds)</td>\n",
       "      <td>840.0</td>\n",
       "      <td>410.0</td>\n",
       "      <td>45.0</td>\n",
       "      <td>17.0</td>\n",
       "      <td>1.5</td>\n",
       "      <td>130.0</td>\n",
       "      <td>1580.0</td>\n",
       "      <td>62.0</td>\n",
       "      <td>2.0</td>\n",
       "      <td>18.0</td>\n",
       "      <td>46.0</td>\n",
       "    </tr>\n",
       "  </tbody>\n",
       "</table>\n",
       "</div>"
      ],
      "text/plain": [
       "  restaurant                              item  \\\n",
       "0  Mcdonalds  Artisan Grilled Chicken Sandwich   \n",
       "1  Mcdonalds    Single Bacon Smokehouse Burger   \n",
       "\n",
       "                                item_with_chain  calories  cal_fat  total_fat  \\\n",
       "0  Artisan Grilled Chicken Sandwich (Mcdonalds)     380.0     60.0        7.0   \n",
       "1    Single Bacon Smokehouse Burger (Mcdonalds)     840.0    410.0       45.0   \n",
       "\n",
       "   sat_fat  trans_fat  cholesterol  sodium  total_carb  fiber  sugar  protein  \n",
       "0      2.0        0.0         95.0  1110.0        44.0    3.0   11.0     37.0  \n",
       "1     17.0        1.5        130.0  1580.0        62.0    2.0   18.0     46.0  "
      ]
     },
     "execution_count": 22,
     "metadata": {},
     "output_type": "execute_result"
    }
   ],
   "source": [
    "# Connect to SQLite database\n",
    "conn = sqlite3.connect('Data/menu.db')\n",
    "\n",
    "# Query to retrieve data from the 'menu' table\n",
    "query = 'SELECT * FROM menu'\n",
    "\n",
    "# Use Pandas to read data from SQLite into a DataFrame\n",
    "menu2_df = pd.read_sql(query, conn)\n",
    "\n",
    "# Close the connection\n",
    "conn.close()\n",
    "\n",
    "# Display the DataFrame\n",
    "menu2_df.head(2)"
   ]
  },
  {
   "cell_type": "code",
   "execution_count": 21,
   "id": "2ae7212b-afc4-4c0c-bf1b-16c846c56cf5",
   "metadata": {},
   "outputs": [
    {
     "name": "stdout",
     "output_type": "stream",
     "text": [
      "<class 'pandas.core.frame.DataFrame'>\n",
      "RangeIndex: 513 entries, 0 to 512\n",
      "Data columns (total 14 columns):\n",
      " #   Column           Non-Null Count  Dtype  \n",
      "---  ------           --------------  -----  \n",
      " 0   restaurant       513 non-null    object \n",
      " 1   item             513 non-null    object \n",
      " 2   item_with_chain  513 non-null    object \n",
      " 3   calories         513 non-null    float64\n",
      " 4   cal_fat          513 non-null    float64\n",
      " 5   total_fat        513 non-null    float64\n",
      " 6   sat_fat          513 non-null    float64\n",
      " 7   trans_fat        513 non-null    float64\n",
      " 8   cholesterol      513 non-null    float64\n",
      " 9   sodium           513 non-null    float64\n",
      " 10  total_carb       513 non-null    float64\n",
      " 11  fiber            513 non-null    float64\n",
      " 12  sugar            513 non-null    float64\n",
      " 13  protein          513 non-null    float64\n",
      "dtypes: float64(11), object(3)\n",
      "memory usage: 56.2+ KB\n"
     ]
    }
   ],
   "source": [
    "menu2_df.info()"
   ]
  },
  {
   "cell_type": "code",
   "execution_count": null,
   "id": "a8b9c30e-535c-4ee3-8980-a4702b817b09",
   "metadata": {},
   "outputs": [],
   "source": []
  }
 ],
 "metadata": {
  "kernelspec": {
   "display_name": "Python 3 (ipykernel)",
   "language": "python",
   "name": "python3"
  },
  "language_info": {
   "codemirror_mode": {
    "name": "ipython",
    "version": 3
   },
   "file_extension": ".py",
   "mimetype": "text/x-python",
   "name": "python",
   "nbconvert_exporter": "python",
   "pygments_lexer": "ipython3",
   "version": "3.10.8"
  }
 },
 "nbformat": 4,
 "nbformat_minor": 5
}
