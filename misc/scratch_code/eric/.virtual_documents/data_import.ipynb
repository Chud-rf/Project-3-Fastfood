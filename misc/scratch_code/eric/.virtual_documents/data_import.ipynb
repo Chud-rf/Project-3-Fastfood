


# Required Libraries
import pandas as pd
import sqlite3



# Load CSVs
menu_df = pd.read_csv('Data/fastfood.csv')
menu_df.head(3)


# Get information on df
menu_df.info()


# Drop Columns missing several values
# Dropping Salad because it's not a useful field
menu_df = menu_df.drop(labels=['vit_a', 'vit_c', 'calcium', 'salad'], axis=1)

# Check to ensure it worked
menu_df.info()


# Clean Fiber and Protien missing values
# Calculate column averages
fiber_avg = menu_df['fiber'].mean()
protein_avg = menu_df['protein'].mean()

# Fill missing values with averages
menu_df['fiber'].fillna(fiber_avg, inplace=True)
menu_df['protein'].fillna(protein_avg, inplace=True)

# Verify the changes
menu_df.info()


# Convert all integer columns to floats to make it easier to compare
int_columns = menu_df.select_dtypes(include='int64').columns
menu_df[int_columns] = menu_df[int_columns].astype(float)

# Create a new column to display the item with the chain name after, making it easier to read the drop down menus
menu_df.insert(2, 'item_with_chain', menu_df['item'] + ' (' + menu_df['restaurant'] + ')')

# Verify the changes
menu_df.info()


# Find duplicate items in 'item_with_chain'
print(menu_df['item_with_chain'].value_counts())

duplicate_items = menu_df[menu_df.duplicated(subset='item_with_chain', keep=False)]

# Display duplicate items
print(duplicate_items[['item_with_chain', 'calories', 'cal_fat', 'sat_fat', \
                       'trans_fat', 'cholesterol', 'sodium', 'total_carb', 'fiber', 'sugar', 'protein']])

# Remove one of the duplicates (you can choose 'first' or 'last')
menu_df = menu_df.drop_duplicates(subset='item_with_chain', keep='first')


# Check again
duplicate_items2 = menu_df[menu_df.duplicated(subset='item_with_chain', keep=False)]
print(duplicate_items2)


# Look at shape
menu_df.shape


# Look at columns
menu_df.columns







# Connect to SQLite database (this will create a new database file if it doesn't exist)
conn = sqlite3.connect('Data/menu.db')

# Export the DataFrame to SQLite
menu_df.to_sql(name='menu', con=conn, index=False, if_exists='replace')

# Close the connection
conn.close()





# Connect to SQLite database
conn = sqlite3.connect('Data/menu.db')

# Query to retrieve data from the 'menu' table
query = 'SELECT * FROM menu'

# Use Pandas to read data from SQLite into a DataFrame
menu2_df = pd.read_sql(query, conn)

# Close the connection
conn.close()

# Display the DataFrame
menu2_df.head(2)


menu2_df.info()



