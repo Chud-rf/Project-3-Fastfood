{
 "cells": [
  {
   "cell_type": "code",
   "execution_count": 1,
   "id": "fc62b803-f60a-42dd-9151-035622f9c801",
   "metadata": {},
   "outputs": [],
   "source": [
    "# Import Libraries\n",
    "import pandas as pd\n",
    "import matplotlib.pyplot as plt\n",
    "import numpy as np\n",
    "from scipy.stats import linregress, ttest_ind\n",
    "import scipy.stats as stats\n",
    "from scipy import stats\n",
    "import pygwalker as pyg\n",
    "import sys"
   ]
  },
  {
   "cell_type": "code",
   "execution_count": 2,
   "id": "6923cb5e-f734-4706-bdbb-bbe9b7e7f2d5",
   "metadata": {},
   "outputs": [],
   "source": [
    "# Load CSVs\n",
    "menu_df = pd.read_csv('Data/fastfood.csv')\n",
    "\n",
    "chains_df = pd.read_csv('Data/chains.csv')"
   ]
  },
  {
   "cell_type": "code",
   "execution_count": 3,
   "id": "8ae5d177-428d-45d4-a31d-83cad78d5a86",
   "metadata": {},
   "outputs": [
    {
     "name": "stdout",
     "output_type": "stream",
     "text": [
      "<class 'pandas.core.frame.DataFrame'>\n",
      "RangeIndex: 515 entries, 0 to 514\n",
      "Data columns (total 17 columns):\n",
      " #   Column       Non-Null Count  Dtype  \n",
      "---  ------       --------------  -----  \n",
      " 0   restaurant   515 non-null    object \n",
      " 1   item         515 non-null    object \n",
      " 2   calories     515 non-null    int64  \n",
      " 3   cal_fat      515 non-null    int64  \n",
      " 4   total_fat    515 non-null    int64  \n",
      " 5   sat_fat      515 non-null    float64\n",
      " 6   trans_fat    515 non-null    float64\n",
      " 7   cholesterol  515 non-null    int64  \n",
      " 8   sodium       515 non-null    int64  \n",
      " 9   total_carb   515 non-null    int64  \n",
      " 10  fiber        503 non-null    float64\n",
      " 11  sugar        515 non-null    int64  \n",
      " 12  protein      514 non-null    float64\n",
      " 13  vit_a        301 non-null    float64\n",
      " 14  vit_c        305 non-null    float64\n",
      " 15  calcium      305 non-null    float64\n",
      " 16  salad        515 non-null    object \n",
      "dtypes: float64(7), int64(7), object(3)\n",
      "memory usage: 68.5+ KB\n"
     ]
    }
   ],
   "source": [
    "menu_df.info()"
   ]
  },
  {
   "cell_type": "code",
   "execution_count": 4,
   "id": "3770a135-f855-4177-9aaa-6ccb9001d242",
   "metadata": {},
   "outputs": [
    {
     "name": "stdout",
     "output_type": "stream",
     "text": [
      "<class 'pandas.core.frame.DataFrame'>\n",
      "RangeIndex: 515 entries, 0 to 514\n",
      "Data columns (total 13 columns):\n",
      " #   Column       Non-Null Count  Dtype  \n",
      "---  ------       --------------  -----  \n",
      " 0   restaurant   515 non-null    object \n",
      " 1   item         515 non-null    object \n",
      " 2   calories     515 non-null    int64  \n",
      " 3   cal_fat      515 non-null    int64  \n",
      " 4   total_fat    515 non-null    int64  \n",
      " 5   sat_fat      515 non-null    float64\n",
      " 6   trans_fat    515 non-null    float64\n",
      " 7   cholesterol  515 non-null    int64  \n",
      " 8   sodium       515 non-null    int64  \n",
      " 9   total_carb   515 non-null    int64  \n",
      " 10  fiber        503 non-null    float64\n",
      " 11  sugar        515 non-null    int64  \n",
      " 12  protein      514 non-null    float64\n",
      "dtypes: float64(4), int64(7), object(2)\n",
      "memory usage: 52.4+ KB\n"
     ]
    }
   ],
   "source": [
    "# Drop Columns missing several values\n",
    "menu_df = menu_df.drop(labels=['vit_a', 'vit_c', 'calcium', 'salad'], axis=1)\n",
    "menu_df.info()"
   ]
  },
  {
   "cell_type": "code",
   "execution_count": 5,
   "id": "c6f09b36-4b51-4e9f-90ea-9a0e5cb7328c",
   "metadata": {},
   "outputs": [
    {
     "name": "stdout",
     "output_type": "stream",
     "text": [
      "<class 'pandas.core.frame.DataFrame'>\n",
      "RangeIndex: 515 entries, 0 to 514\n",
      "Data columns (total 13 columns):\n",
      " #   Column       Non-Null Count  Dtype  \n",
      "---  ------       --------------  -----  \n",
      " 0   restaurant   515 non-null    object \n",
      " 1   item         515 non-null    object \n",
      " 2   calories     515 non-null    int64  \n",
      " 3   cal_fat      515 non-null    int64  \n",
      " 4   total_fat    515 non-null    int64  \n",
      " 5   sat_fat      515 non-null    float64\n",
      " 6   trans_fat    515 non-null    float64\n",
      " 7   cholesterol  515 non-null    int64  \n",
      " 8   sodium       515 non-null    int64  \n",
      " 9   total_carb   515 non-null    int64  \n",
      " 10  fiber        515 non-null    float64\n",
      " 11  sugar        515 non-null    int64  \n",
      " 12  protein      515 non-null    float64\n",
      "dtypes: float64(4), int64(7), object(2)\n",
      "memory usage: 52.4+ KB\n"
     ]
    }
   ],
   "source": [
    "# Clean Fiber and Protien missing values\n",
    "# Calculate column averages\n",
    "fiber_avg = menu_df['fiber'].mean()\n",
    "protein_avg = menu_df['protein'].mean()\n",
    "\n",
    "# Fill missing values with averages\n",
    "menu_df['fiber'].fillna(fiber_avg, inplace=True)\n",
    "menu_df['protein'].fillna(protein_avg, inplace=True)\n",
    "\n",
    "# Verify the changes\n",
    "menu_df.info()"
   ]
  },
  {
   "cell_type": "code",
   "execution_count": 6,
   "id": "5cbeeda7-f3ad-4d15-a6b4-dc8c7dccf149",
   "metadata": {},
   "outputs": [
    {
     "data": {
      "application/vnd.jupyter.widget-view+json": {
       "model_id": "ade0fd8266a1403283c51f7a47362dfd",
       "version_major": 2,
       "version_minor": 0
      },
      "text/plain": [
       "Box(children=(HTML(value='<div id=\"ifr-pyg-0\" style=\"height: auto\">\\n    <head>\\n        <meta http-equiv=\"Con…"
      ]
     },
     "metadata": {},
     "output_type": "display_data"
    },
    {
     "data": {
      "text/html": [],
      "text/plain": [
       "<IPython.core.display.HTML object>"
      ]
     },
     "metadata": {},
     "output_type": "display_data"
    },
    {
     "data": {
      "text/plain": [
       "<pygwalker.api.pygwalker.PygWalker at 0x17ad80280>"
      ]
     },
     "execution_count": 6,
     "metadata": {},
     "output_type": "execute_result"
    }
   ],
   "source": [
    "# testing pygwalker\n",
    "pyg.walk(menu_df, dark='light')"
   ]
  },
  {
   "cell_type": "code",
   "execution_count": null,
   "id": "37229ba5-2d59-4840-a86c-71e883c64285",
   "metadata": {},
   "outputs": [],
   "source": []
  }
 ],
 "metadata": {
  "kernelspec": {
   "display_name": "Python 3 (ipykernel)",
   "language": "python",
   "name": "python3"
  },
  "language_info": {
   "codemirror_mode": {
    "name": "ipython",
    "version": 3
   },
   "file_extension": ".py",
   "mimetype": "text/x-python",
   "name": "python",
   "nbconvert_exporter": "python",
   "pygments_lexer": "ipython3",
   "version": "3.10.8"
  }
 },
 "nbformat": 4,
 "nbformat_minor": 5
}
