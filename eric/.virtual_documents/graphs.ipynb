


# Import Libraries and Dependencies 
import pandas as pd
import sqlite3
import sys
import requests
from ipywidgets import interact, widgets, fixed
from IPython.display import display
import altair as alt



# Connect to SQLite database
conn = sqlite3.connect('Data/menu.db')

# Query to retrieve data from the 'menu' table
query = 'SELECT * FROM menu'

# Use Pandas to read data from SQLite into a DataFrame
menu_df = pd.read_sql(query, conn)

# Close the connection
conn.close()

# Display the DataFrame
menu_df.head(2)




# Enable notebook rendering for Altair
alt.renderers.enable('default')

# Define a function to display information for the selected items
def display_items_info(selected_item1, selected_item2):
    item_data1 = menu_df[menu_df['item_with_chain'] == selected_item1].squeeze()
    item_data2 = menu_df[menu_df['item_with_chain'] == selected_item2].squeeze()
    
    # Update the keys with the string values of the selected items
    comparison_df = pd.concat([item_data1, item_data2], axis=1, keys=[selected_item1, selected_item2])

    # Melt the DataFrame for Altair
    melted_df = comparison_df.reset_index().melt(id_vars=['index'], var_name='Item', value_name='Value')

    # Adjust the chart to display individual bars side by side
    chart = alt.Chart(melted_df).mark_bar().encode(
        x=alt.X('index:N', title=' '),
        y=alt.Y('Value:Q', title=' '),
        color=alt.Color('Item:N', scale=alt.Scale(range=['#6495ED', '#ADD8E6']), legend=None),
        tooltip=['Item:N', alt.Tooltip('Value:Q', title='Value')],
    ).properties(
        width=300,
        title=" "
    ).facet(
        column='Item:N',
        title=alt.TitleParams(text="Comparing the Nutrients of the Two Selected Items", offset=10, orient='top')
    )

    display(chart)



# Create two dropdown widgets with the list of items
item_dropdown1 = widgets.Dropdown(options=menu_df['item_with_chain'].unique(), description='Select Item 1:')
item_dropdown2 = widgets.Dropdown(options=menu_df['item_with_chain'].unique(), description='Select Item 2:', value=menu_df['item_with_chain'].unique()[1])

# Connect the dropdown widgets to the display_items_info function
interact(display_items_info, selected_item1=item_dropdown1, selected_item2=item_dropdown2)



import pandas as pd
import altair as alt
from IPython.display import display
from ipywidgets import interact, widgets, fixed

# Enable notebook rendering for Altair
alt.renderers.enable('default')

# Define a function to display information for the selected items
def display_items_info(selected_item1, selected_item2, selected_column):
    item_data1 = menu_df[menu_df['item_with_chain'] == selected_item1].squeeze()
    item_data2 = menu_df[menu_df['item_with_chain'] == selected_item2].squeeze()

    # Filter only the selected column for both items
    item_data1 = item_data1[[selected_column]]
    item_data2 = item_data2[[selected_column]]

    # Update the keys with the string values of the selected items
    comparison_df = pd.concat([item_data1, item_data2], axis=1, keys=[selected_item1, selected_item2])

    # Melt the DataFrame for Altair
    melted_df = comparison_df.reset_index().melt(id_vars=['index'], var_name='Item', value_name='Value')

    # Adjust the chart to display individual bars side by side
    chart = alt.Chart(melted_df).mark_bar().encode(
        x=alt.X('index:N', title=' '),
        y=alt.Y('Value:Q', title=' '),
        color=alt.Color('Item:N', scale=alt.Scale(range=['#6495ED', '#ADD8E6']), legend=None),
        tooltip=['Item:N', alt.Tooltip('Value:Q', title='Value')],
    ).properties(
        width=300,
        title=" "
    ).facet(
        column='Item:N',
        title=alt.TitleParams(text=f"Comparing {selected_column} of the Two Selected Items", offset=10, orient='top')
    )

    display(chart)

# Create dropdown widgets for items and columns
item_dropdown1 = widgets.Dropdown(options=menu_df['item_with_chain'].unique(), description='Select Item 1:')
item_dropdown2 = widgets.Dropdown(options=menu_df['item_with_chain'].unique(), description='Select Item 2:', value=menu_df['item_with_chain'].unique()[1])
column_dropdown = widgets.Dropdown(options=menu_df.columns[3:].tolist(), description='Select Column:', value='calories')

# Connect the dropdown widgets to the display_items_info function
interact(display_items_info, selected_item1=item_dropdown1, selected_item2=item_dropdown2, selected_column=column_dropdown)



# Enable notebook rendering for Altair
alt.renderers.enable('default')

# Assume 'menu_df' is your DataFrame containing the nutrition data
# You can load your data using: menu_df = pd.read_csv('your_data.csv')

# Define a function to display information for the selected restaurants
def display_restaurants_info(selected_restaurant1, selected_restaurant2, selected_column):
    restaurant_data1 = menu_df[menu_df['restaurant'] == selected_restaurant1]
    restaurant_data2 = menu_df[menu_df['restaurant'] == selected_restaurant2]

    # Calculate mean values for the selected column for both restaurants
    mean_values1 = restaurant_data1[selected_column].mean()
    mean_values2 = restaurant_data2[selected_column].mean()

    # Create a DataFrame with mean values
    comparison_df = pd.DataFrame({
        selected_restaurant1: [mean_values1],
        selected_restaurant2: [mean_values2]
    })

    # Melt the DataFrame for Altair
    melted_df = comparison_df.reset_index().melt(id_vars=['index'], var_name='Restaurant', value_name='Mean Value')

    # Create the chart
    chart = alt.Chart(melted_df).mark_bar().encode(
        x=alt.X('index:N', title=' '),
        y=alt.Y('Mean Value:Q', title=' '),
        color=alt.Color('Restaurant:N', scale=alt.Scale(range=['#6495ED', '#ADD8E6']), legend=None),
        tooltip=['Restaurant:N', alt.Tooltip('Mean Value:Q', title='Mean Value')],
    ).properties(
        width=300,
        title=" "
    ).facet(
        column='Restaurant:N',
        title=alt.TitleParams(text=f"Comparing Mean {selected_column} of the Two Selected Restaurants", offset=10, orient='top')
    )

    display(chart)

# Create dropdown widgets for restaurants and columns
restaurant_dropdown1 = widgets.Dropdown(options=menu_df['restaurant'].unique(), description='Select Restaurant 1:')
restaurant_dropdown2 = widgets.Dropdown(options=menu_df['restaurant'].unique(), description='Select Restaurant 2:', value=menu_df['restaurant'].unique()[1])
column_dropdown = widgets.Dropdown(options=menu_df.columns[3:].tolist(), description='Select Column:', value='calories')

# Connect the dropdown widgets to the display_restaurants_info function
interact(display_restaurants_info, selected_restaurant1=restaurant_dropdown1, selected_restaurant2=restaurant_dropdown2, selected_column=column_dropdown)



