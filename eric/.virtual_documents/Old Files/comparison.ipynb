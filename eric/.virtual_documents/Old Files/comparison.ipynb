


# Import Libraries
import pandas as pd
import matplotlib.pyplot as plt
import numpy as np
from scipy.stats import linregress, ttest_ind
import scipy.stats as stats
from scipy import stats
import pygwalker as pyg
import sys
import requests
from ipywidgets import interact, widgets, fixed
from IPython.display import display
import matplotlib.patheffects as path_effects
import altair as alt



# Load CSVs
menu_df = pd.read_csv('Data/fastfood.csv')
menu_df.head()


# Get information on df
menu_df.info()


# Drop Columns missing several values
# Dropping Salad because it's not a useful field
menu_df = menu_df.drop(labels=['vit_a', 'vit_c', 'calcium', 'salad'], axis=1)

# Check to ensure it worked
menu_df.info()


# Clean Fiber and Protien missing values
# Calculate column averages
fiber_avg = menu_df['fiber'].mean()
protein_avg = menu_df['protein'].mean()

# Fill missing values with averages
menu_df['fiber'].fillna(fiber_avg, inplace=True)
menu_df['protein'].fillna(protein_avg, inplace=True)

# Verify the changes
menu_df.info()


# Convert all integer columns to floats to make it easier to compare
int_columns = menu_df.select_dtypes(include='int64').columns
menu_df[int_columns] = menu_df[int_columns].astype(float)

# Create a new column to display the item with the chain name after, making it easier to read the drop down menus
menu_df.insert(2, 'item_with_chain', menu_df['item'] + ' (' + menu_df['restaurant'] + ')')

# Verify the changes
menu_df.info()


menu_df.head(3)


# Find duplicate items in 'item_with_chain'
print(menu_df['item_with_chain'].value_counts())

duplicate_items = menu_df[menu_df.duplicated(subset='item_with_chain', keep=False)]

# Display duplicate items
print(duplicate_items[['item_with_chain', 'calories', 'cal_fat', 'sat_fat', \
                       'trans_fat', 'cholesterol', 'sodium', 'total_carb', 'fiber', 'sugar', 'protein']])

# Remove one of the duplicates (you can choose 'first' or 'last')
menu_df = menu_df.drop_duplicates(subset='item_with_chain', keep='first')


duplicate_items2 = menu_df[menu_df.duplicated(subset='item_with_chain', keep=False)]
print(duplicate_items2)


# Look at columns
menu_df.columns


# Look at restaurants 
menu_df.restaurant.unique()


# Look at Menu Items
menu_df.item.unique()


# Define a function to display information for the selected item
def display_item_info(selected_item):
    item_data = menu_df[menu_df['item_with_chain'] == selected_item].squeeze()
    display(item_data)

# Create a dropdown widget with the list of items
item_dropdown = widgets.Dropdown(options=menu_df['item_with_chain'].unique(), description='Select Item:')

# Connect the dropdown widget to the display_item_info function
interact(display_item_info, selected_item=item_dropdown)


# Define a function to display information for the selected items
def display_items_info(selected_item1, selected_item2):
    item_data1 = menu_df[menu_df['item_with_chain'] == selected_item1].squeeze()
    item_data2 = menu_df[menu_df['item_with_chain'] == selected_item2].squeeze()
    
    display(pd.concat([item_data1, item_data2], axis=1, keys=['Item 1', 'Item 2']))

# Create two dropdown widgets with the list of items
item_dropdown1 = widgets.Dropdown(options=menu_df['item_with_chain'].unique(), description='Select Item 1:')
item_dropdown2 = widgets.Dropdown(options=menu_df['item_with_chain'].unique(), description='Select Item 2:')

# Connect the dropdown widgets to the display_items_info function
interact(display_items_info, selected_item1=item_dropdown1, selected_item2=item_dropdown2)







# Define a function to display information for the selected items
def display_items_info(selected_item1, selected_item2, selected_nutrient):
    item_data1 = menu_df[menu_df['item_with_chain'] == selected_item1].squeeze()
    item_data2 = menu_df[menu_df['item_with_chain'] == selected_item2].squeeze()
    
    comparison_df = pd.concat([item_data1, item_data2], axis=1, keys=['Item 1', 'Item 2'])
    
    plt.figure(figsize=(10, 6))
    comparison_df.loc[selected_nutrient].plot(kind='bar', color=['skyblue', 'lightcoral'])
    plt.title(f"{selected_nutrient} Comparison between {selected_item1} and {selected_item2}")
    plt.xlabel(selected_nutrient)
    plt.ylabel("Values")
    plt.show()

# Create two dropdown widgets with the list of items
item_dropdown1 = widgets.Dropdown(options=menu_df['item_with_chain'].unique(), description='Select Item 1:')
item_dropdown2 = widgets.Dropdown(options=menu_df['item_with_chain'].unique(), description='Select Item 2:')

# Create a dropdown widget with the list of nutrients
nutrient_dropdown = widgets.Dropdown(options=menu_df.columns[3:], description='Select Nutrient:')

# Connect the dropdown widgets to the display_items_info function
interact(display_items_info, selected_item1=item_dropdown1, selected_item2=item_dropdown2, selected_nutrient=nutrient_dropdown)


# Define a function to display information for the selected items
def display_items_info(selected_item1, selected_item2, selected_nutrient):
    item_data1 = menu_df[menu_df['item_with_chain'] == selected_item1].squeeze()
    item_data2 = menu_df[menu_df['item_with_chain'] == selected_item2].squeeze()
    
    comparison_df = pd.concat([item_data1, item_data2], axis=1, keys=['Item 1', 'Item 2'])
    
    plt.figure(figsize=(10, 6))
    ax = comparison_df.loc[selected_nutrient].plot(kind='bar', color=['skyblue', 'lightcoral'])
    
    plt.title(f"{selected_nutrient} Comparison between {selected_item1} and {selected_item2}")
    plt.xlabel(selected_nutrient)
    plt.ylabel("Values")

    # Add labels on top of the bars
    for i, v in enumerate(comparison_df.loc[selected_nutrient]):
        ax.text(i, v + 0.1, str(round(v, 2)), ha='center', va='bottom')

    plt.show()

# Create two dropdown widgets with the list of items
item_dropdown1 = widgets.Dropdown(options=menu_df['item_with_chain'].unique(), description='Select Item 1:')
item_dropdown2 = widgets.Dropdown(options=menu_df['item_with_chain'].unique(), description='Select Item 2:')

# Create a dropdown widget with the list of nutrients
nutrient_dropdown = widgets.Dropdown(options=menu_df.columns[3:], description='Select Nutrient:')

# Connect the dropdown widgets to the display_items_info function
interact(display_items_info, selected_item1=item_dropdown1, selected_item2=item_dropdown2, selected_nutrient=nutrient_dropdown)


!pip install -U altair_viewer



# Define a function to display information for the selected items
def display_items_info(selected_item1, selected_item2, selected_nutrient):
    item_data1 = menu_df[menu_df['item_with_chain'] == selected_item1].squeeze()
    item_data2 = menu_df[menu_df['item_with_chain'] == selected_item2].squeeze()
    
    comparison_df = pd.concat([item_data1, item_data2], axis=1, keys=['Item 1', 'Item 2'])
    
    # Melt the DataFrame for Altair
    melted_df = comparison_df.reset_index().melt(id_vars=['index'], var_name='Item', value_name=selected_nutrient)

    chart = alt.Chart(melted_df).mark_bar().encode(
        x='index:N',
        y=alt.Y(f'{selected_nutrient}:Q', title='Values'),
        color='Item:N',
        tooltip=['Item:N', alt.Tooltip(f'{selected_nutrient}:Q', title=selected_nutrient)],
    ).properties(
        title=f"{selected_nutrient} Comparison between {selected_item1} and {selected_item2}"
    )

    chart.show()

# Create two dropdown widgets with the list of items
item_dropdown1 = widgets.Dropdown(options=menu_df['item_with_chain'].unique(), description='Select Item 1:')
item_dropdown2 = widgets.Dropdown(options=menu_df['item_with_chain'].unique(), description='Select Item 2:')

# Create a dropdown widget with the list of nutrients
nutrient_dropdown = widgets.Dropdown(options=menu_df.columns[3:], description='Select Nutrient:')

# Connect the dropdown widgets to the display_items_info function
interact(display_items_info, selected_item1=item_dropdown1, selected_item2=item_dropdown2, selected_nutrient=nutrient_dropdown)


# Enable notebook rendering for Altair
alt.renderers.enable('default')

# Define a function to display information for the selected items
def display_items_info(selected_item1, selected_item2, selected_nutrient):
    item_data1 = menu_df[menu_df['item_with_chain'] == selected_item1].squeeze()
    item_data2 = menu_df[menu_df['item_with_chain'] == selected_item2].squeeze()
    
    comparison_df = pd.concat([item_data1, item_data2], axis=1, keys=['Item 1', 'Item 2'])
    
    # Melt the DataFrame for Altair
    melted_df = comparison_df.reset_index().melt(id_vars=['index'], var_name='Item', value_name=selected_nutrient)

    chart = alt.Chart(melted_df).mark_bar().encode(
        x='index:N',
        y=alt.Y(f'{selected_nutrient}:Q', title='Values'),
        color='Item:N',
        tooltip=['Item:N', alt.Tooltip(f'{selected_nutrient}:Q', title=selected_nutrient)],
    ).properties(
        title=f"{selected_nutrient} Comparison between {selected_item1} and {selected_item2}"
    )

    chart.display()

# Create two dropdown widgets with the list of items
item_dropdown1 = widgets.Dropdown(options=menu_df['item_with_chain'].unique(), description='Select Item 1:')
item_dropdown2 = widgets.Dropdown(options=menu_df['item_with_chain'].unique(), description='Select Item 2:')

# Create a dropdown widget with the list of nutrients
nutrient_dropdown = widgets.Dropdown(options=menu_df.columns[3:], description='Select Nutrient:')

# Connect the dropdown widgets to the display_items_info function
interact(display_items_info, selected_item1=item_dropdown1, selected_item2=item_dropdown2, selected_nutrient=nutrient_dropdown)


# Enable notebook rendering for Altair
alt.renderers.enable('default')

# Define a function to display information for the selected items
def display_items_info(selected_item1, selected_item2, selected_nutrient):
    item_data1 = menu_df[menu_df['item_with_chain'] == selected_item1].squeeze()
    item_data2 = menu_df[menu_df['item_with_chain'] == selected_item2].squeeze()
    
    comparison_df = pd.concat([item_data1, item_data2], axis=1, keys=['Item 1', 'Item 2'])
    
    # Melt the DataFrame for Altair
    melted_df = comparison_df.reset_index().melt(id_vars=['index'], var_name='Item', value_name=selected_nutrient)

    # Adjust the chart to display individual bars with transparency
    chart = alt.Chart(melted_df).mark_bar().encode(
        x='index:N',
        y=alt.Y(f'{selected_nutrient}:Q', title='Values'),
        color=alt.Color('Item:N', scale=alt.Scale(range=['#1f77b4', '#ff7f0e']), legend=None),
        opacity=alt.condition(alt.datum.Item == 'Item 2', alt.value(0.7), alt.value(1.0)),  # Adjust transparency
        tooltip=['Item:N', alt.Tooltip(f'{selected_nutrient}:Q', title=selected_nutrient)],
    ).properties(
        title=f"{selected_nutrient} Comparison between {selected_item1} and {selected_item2}"
    )

    chart.display()


# Create two dropdown widgets with the list of items
item_dropdown1 = widgets.Dropdown(options=menu_df['item_with_chain'].unique(), description='Select Item 1:')
item_dropdown2 = widgets.Dropdown(options=menu_df['item_with_chain'].unique(), description='Select Item 2:')

# Create a widget to input the selected nutrient directly
nutrient_input = widgets.Text(value='Protein', description='Selected Nutrient:')

# Connect the dropdown widgets to the display_items_info function
interact(display_items_info, selected_item1=item_dropdown1, selected_item2=item_dropdown2, selected_nutrient=fixed('Protein'))



import pandas as pd
import altair as alt
from IPython.display import display
from ipywidgets import interact, widgets, fixed

# Assuming you have the DataFrame named menu_df

# Enable notebook rendering for Altair
alt.renderers.enable('default')

# Define a function to display information for the selected items
def display_items_info(selected_item1, selected_item2, selected_nutrient):
    item_data1 = menu_df[menu_df['item_with_chain'] == selected_item1].squeeze()
    item_data2 = menu_df[menu_df['item_with_chain'] == selected_item2].squeeze()
    
    comparison_df = pd.concat([item_data1, item_data2], axis=1, keys=['Item 1', 'Item 2'])
    
    # Melt the DataFrame for Altair
    melted_df = comparison_df.reset_index().melt(id_vars=['index'], var_name='Item', value_name=selected_nutrient)

    # Adjust the chart to display individual bars side by side
    chart = alt.Chart(melted_df).mark_bar().encode(
        x=alt.X('index:N', title='Nutrient'),
        y=alt.Y(f'{selected_nutrient}:Q', title='Values'),
        color=alt.Color('Item:N', scale=alt.Scale(range=['#1f77b4', '#ff7f0e']), legend=None),
        column='Item:N',
        tooltip=['Item:N', alt.Tooltip(f'{selected_nutrient}:Q', title=selected_nutrient)],
    ).properties(
        width=300,
        title=f"{selected_nutrient} Comparison between {selected_item1} and {selected_item2}"
    )

    display(chart)


# Create two dropdown widgets with the list of items
item_dropdown1 = widgets.Dropdown(options=menu_df['item_with_chain'].unique(), description='Select Item 1:')
item_dropdown2 = widgets.Dropdown(options=menu_df['item_with_chain'].unique(), description='Select Item 2:')

# Create a widget to input the selected nutrient directly
nutrient_input = widgets.Text(value='Protein', description='Selected Nutrient:')

# Connect the dropdown widgets to the display_items_info function
interact(display_items_info, selected_item1=item_dropdown1, selected_item2=item_dropdown2, selected_nutrient=nutrient_input)






import pandas as pd
import altair as alt
from IPython.display import display
from ipywidgets import interact, widgets, fixed

# Assuming you have the DataFrame named menu_df

# Enable notebook rendering for Altair
alt.renderers.enable('default')

# Define a function to display information for the selected items
def display_items_info(selected_item1, selected_item2):
    item_data1 = menu_df[menu_df['item_with_chain'] == selected_item1].squeeze()
    item_data2 = menu_df[menu_df['item_with_chain'] == selected_item2].squeeze()
    
    comparison_df = pd.concat([item_data1, item_data2], axis=1, keys=['Item 1', 'Item 2'])
    
    # Melt the DataFrame for Altair
    melted_df = comparison_df.reset_index().melt(id_vars=['index'], var_name='Item', value_name='Value')

    # Adjust the chart to display individual bars side by side
    chart = alt.Chart(melted_df).mark_bar().encode(
        x=alt.X('index:N', title='Nutrient'),
        y=alt.Y('Value:Q', title='Values'),
        color=alt.Color('Item:N', scale=alt.Scale(range=['#1f77b4', '#ff7f0e']), legend=None),
        column='Item:N',
        tooltip=['Item:N', alt.Tooltip('Value:Q', title='Value')],
    ).properties(
        width=300,
        title=f"Nutrient Comparison between {selected_item1} and {selected_item2}"
    )

    display(chart)


# Create two dropdown widgets with the list of items
item_dropdown1 = widgets.Dropdown(options=menu_df['item_with_chain'].unique(), description='Select Item 1:')
item_dropdown2 = widgets.Dropdown(options=menu_df['item_with_chain'].unique(), description='Select Item 2:')

# Connect the dropdown widgets to the display_items_info function
interact(display_items_info, selected_item1=item_dropdown1, selected_item2=item_dropdown2)



import pandas as pd
import altair as alt
from IPython.display import display
from ipywidgets import interact, widgets, fixed

# Assuming you have the DataFrame named menu_df

# Enable notebook rendering for Altair
alt.renderers.enable('default')

# Define a function to display information for the selected items
def display_items_info(selected_item1, selected_item2):
    item_data1 = menu_df[menu_df['item_with_chain'] == selected_item1].squeeze()
    item_data2 = menu_df[menu_df['item_with_chain'] == selected_item2].squeeze()
    
    comparison_df = pd.concat([item_data1, item_data2], axis=1, keys=['Item 1', 'Item 2'])
    
    # Melt the DataFrame for Altair
    melted_df = comparison_df.reset_index().melt(id_vars=['index'], var_name='Item', value_name='Value')

    # Adjust the chart to display individual bars side by side
    chart = alt.Chart(melted_df).mark_bar().encode(
        x=alt.X('index:N', title='Nutrient'),
        y=alt.Y('Value:Q', title='Values'),
        color=alt.Color('Item:N', scale=alt.Scale(range=['#1f77b4', '#ff7f0e']), legend=None),
        tooltip=['Item:N', alt.Tooltip('Value:Q', title='Value')],
    ).properties(
        width=300,
        title="Comparing Nutrition"
    ).facet(
        row='Item:N',
        title="Comparing Nutrition"
    )

    display(chart)


# Create two dropdown widgets with the list of items
item_dropdown1 = widgets.Dropdown(options=menu_df['item_with_chain'].unique(), description='Select Item 1:')
item_dropdown2 = widgets.Dropdown(options=menu_df['item_with_chain'].unique(), description='Select Item 2:')

# Connect the dropdown widgets to the display_items_info function
interact(display_items_info, selected_item1=item_dropdown1, selected_item2=item_dropdown2)



import pandas as pd
import altair as alt
from IPython.display import display
from ipywidgets import interact, widgets, fixed

# Assuming you have the DataFrame named menu_df

# Enable notebook rendering for Altair
alt.renderers.enable('default')

# Define a function to display information for the selected items
def display_items_info(selected_item1, selected_item2):
    item_data1 = menu_df[menu_df['item_with_chain'] == selected_item1].squeeze()
    item_data2 = menu_df[menu_df['item_with_chain'] == selected_item2].squeeze()
    
    comparison_df = pd.concat([item_data1, item_data2], axis=1, keys=['Item 1', 'Item 2'])
    
    # Melt the DataFrame for Altair
    melted_df = comparison_df.reset_index().melt(id_vars=['index'], var_name='Item', value_name='Value')

    # Adjust the chart to display individual bars side by side
    chart = alt.Chart(melted_df).mark_bar().encode(
        x=alt.X('index:N', title='Nutrient'),
        y=alt.Y('Value:Q', title='Values'),
        color=alt.Color('Item:N', scale=alt.Scale(range=['#1f77b4', '#ff7f0e']), legend=None),
        tooltip=['Item:N', alt.Tooltip('Value:Q', title='Value')],
    ).properties(
        width=300,
        title="Comparing Nutrition"
    ).facet(
        column='Item:N',
        title="Item 2"
    )

    display(chart)


# Create two dropdown widgets with the list of items
item_dropdown1 = widgets.Dropdown(options=menu_df['item_with_chain'].unique(), description='Select Item 1:')
item_dropdown2 = widgets.Dropdown(options=menu_df['item_with_chain'].unique(), description='Select Item 2:')

# Connect the dropdown widgets to the display_items_info function
interact(display_items_info, selected_item1=item_dropdown1, selected_item2=item_dropdown2)



import pandas as pd
import altair as alt
from IPython.display import display
from ipywidgets import interact, widgets, fixed

# Assuming you have the DataFrame named menu_df

# Enable notebook rendering for Altair
alt.renderers.enable('default')

# Define a function to display information for the selected items
def display_items_info(selected_item1, selected_item2):
    item_data1 = menu_df[menu_df['item_with_chain'] == selected_item1].squeeze()
    item_data2 = menu_df[menu_df['item_with_chain'] == selected_item2].squeeze()
    
    comparison_df = pd.concat([item_data1, item_data2], axis=1, keys=['Item 1', 'Item 2'])
    
    # Melt the DataFrame for Altair
    melted_df = comparison_df.reset_index().melt(id_vars=['index'], var_name='Item', value_name='Value')

    # Adjust the chart to display individual bars side by side
    chart = alt.Chart(melted_df).mark_bar().encode(
        x=alt.X('index:N', title='Nutrient'),
        y=alt.Y('Value:Q', title='Values'),
        color=alt.Color('Item:N', scale=alt.Scale(range=['#1f77b4', '#ff7f0e']), legend=None),
        tooltip=['Item:N', alt.Tooltip('Value:Q', title='Value')],
    ).properties(
        width=300,
        title="Comparing Nutrition"
    ).facet(
        column='Item:N',
        title='Item'  # Set a static title for each chart
    )

    display(chart)


# Create two dropdown widgets with the list of items
item_dropdown1 = widgets.Dropdown(options=menu_df['item_with_chain'].unique(), description='Select Item 1:')
item_dropdown2 = widgets.Dropdown(options=menu_df['item_with_chain'].unique(), description='Select Item 2:')

# Connect the dropdown widgets to the display_items_info function
interact(display_items_info, selected_item1=item_dropdown1, selected_item2=item_dropdown2)



import pandas as pd
import altair as alt
from IPython.display import display
from ipywidgets import interact, widgets, fixed

# Assuming you have the DataFrame named menu_df

# Enable notebook rendering for Altair
alt.renderers.enable('default')

# Define a function to display information for the selected items
def display_items_info(selected_item1, selected_item2):
    item_data1 = menu_df[menu_df['item_with_chain'] == selected_item1].squeeze()
    item_data2 = menu_df[menu_df['item_with_chain'] == selected_item2].squeeze()
    
    comparison_df = pd.concat([item_data1, item_data2], axis=1, keys=['Item 1', 'Item 2'])
    
    # Melt the DataFrame for Altair
    melted_df = comparison_df.reset_index().melt(id_vars=['index'], var_name='Item', value_name='Value')

    # Adjust the chart to display individual bars side by side
    chart = alt.Chart(melted_df).mark_bar().encode(
        x=alt.X('index:N', title='Nutrient'),
        y=alt.Y('Value:Q', title='Values'),
        color=alt.Color('Item:N', scale=alt.Scale(range=['#1f77b4', '#ff7f0e']), legend=None),
        tooltip=['Item:N', alt.Tooltip('Value:Q', title='Value')],
    ).properties(
        width=300,
        title="Comparing Nutrition"
    ).facet(
        column='Item:N',
        title=alt.TitleParams(text=selected_item1, offset=10, orient='top')  # Set dynamic title for each chart
    )

    display(chart)


# Create two dropdown widgets with the list of items
item_dropdown1 = widgets.Dropdown(options=menu_df['item_with_chain'].unique(), description='Select Item 1:')
item_dropdown2 = widgets.Dropdown(options=menu_df['item_with_chain'].unique(), description='Select Item 2:')

# Connect the dropdown widgets to the display_items_info function
interact(display_items_info, selected_item1=item_dropdown1, selected_item2=item_dropdown2)






import pandas as pd
import altair as alt
from IPython.display import display
from ipywidgets import interact, widgets, fixed

# Enable notebook rendering for Altair
alt.renderers.enable('default')

# Define a function to display information for the selected items
def display_items_info(selected_item1, selected_item2):
    item_data1 = menu_df[menu_df['item_with_chain'] == selected_item1].squeeze()
    item_data2 = menu_df[menu_df['item_with_chain'] == selected_item2].squeeze()
    
    comparison_df = pd.concat([item_data1, item_data2], axis=1, keys=['Item 1', 'Item 2'])

    # Melt the DataFrame for Altair
    melted_df = comparison_df.reset_index().melt(id_vars=['index'], var_name='Item', value_name='Value')

    # Adjust the chart to display individual bars side by side
    chart = alt.Chart(melted_df).mark_bar().encode(
        x=alt.X('index:N', title=' '),
        y=alt.Y('Value:Q', title=' '),
        color=alt.Color('Item:N', scale=alt.Scale(range=['#1f77b4', '#ff7f0e']), legend=None),
        tooltip=['Item:N', alt.Tooltip('Value:Q', title='Value')],
    ).properties(
        width=300,
        title=" "
    ).facet(
        column='Item:N',
        title=alt.TitleParams(text=selected_item1, offset=10, orient='top')  # Set dynamic title for each chart
    )

    display(chart)


# Create two dropdown widgets with the list of items
item_dropdown1 = widgets.Dropdown(options=menu_df['item_with_chain'].unique(), description='Select Item 1:')
item_dropdown2 = widgets.Dropdown(options=menu_df['item_with_chain'].unique(), description='Select Item 2:')

# Connect the dropdown widgets to the display_items_info function
interact(display_items_info, selected_item1=item_dropdown1, selected_item2=item_dropdown2)



import pandas as pd
import altair as alt
from IPython.display import display
from ipywidgets import interact, widgets, fixed

# Enable notebook rendering for Altair
alt.renderers.enable('default')

# Define a function to display information for the selected items
def display_items_info(selected_item1, selected_item2):
    item_data1 = menu_df[menu_df['item_with_chain'] == selected_item1].squeeze()
    item_data2 = menu_df[menu_df['item_with_chain'] == selected_item2].squeeze()
    
    # Update the keys with the string values of the selected items
    comparison_df = pd.concat([item_data1, item_data2], axis=1, keys=[selected_item1, selected_item2])

    # Melt the DataFrame for Altair
    melted_df = comparison_df.reset_index().melt(id_vars=['index'], var_name='Item', value_name='Value')

    # Adjust the chart to display individual bars side by side
    chart = alt.Chart(melted_df).mark_bar().encode(
        x=alt.X('index:N', title=' '),
        y=alt.Y('Value:Q', title=' '),
        color=alt.Color('Item:N', scale=alt.Scale(range=['#1f77b4', '#ff7f0e']), legend=None),
        tooltip=['Item:N', alt.Tooltip('Value:Q', title='Value')],
    ).properties(
        width=300,
        title=" "
    ).facet(
        column='Item:N',
        title=alt.TitleParams(text="Compare Nutrients", offset=10, orient='top')  # Set dynamic title for each chart
    )

    display(chart)


# Create two dropdown widgets with the list of items
item_dropdown1 = widgets.Dropdown(options=menu_df['item_with_chain'].unique(), description='Select Item 1:')
item_dropdown2 = widgets.Dropdown(options=menu_df['item_with_chain'].unique(), description='Select Item 2:')

# Connect the dropdown widgets to the display_items_info function
interact(display_items_info, selected_item1=item_dropdown1, selected_item2=item_dropdown2)






import pandas as pd
import altair as alt
from IPython.display import display
from ipywidgets import interact, widgets, fixed

# Enable notebook rendering for Altair
alt.renderers.enable('default')

# Define a function to display information for the selected items
def display_items_info(selected_item1, selected_item2):
    item_data1 = menu_df[menu_df['item_with_chain'] == selected_item1].squeeze()
    item_data2 = menu_df[menu_df['item_with_chain'] == selected_item2].squeeze()
    
    # Update the keys with the string values of the selected items
    comparison_df = pd.concat([item_data1, item_data2], axis=1, keys=[selected_item1, selected_item2])

    # Melt the DataFrame for Altair
    melted_df = comparison_df.reset_index().melt(id_vars=['index'], var_name='Item', value_name='Value')

    # Adjust the chart to display individual bars side by side
    chart = alt.Chart(melted_df).mark_bar().encode(
        x=alt.X('index:N', title=' '),
        y=alt.Y('Value:Q', title=' '),
        color=alt.Color('Item:N', scale=alt.Scale(range=['#6495ED', '#ADD8E6']), legend=None),
        tooltip=['Item:N', alt.Tooltip('Value:Q', title='Value')],
    ).properties(
        width=300,
        title=" "
    ).facet(
        column='Item:N',
        title=alt.TitleParams(text="Comparing the Nutrients of the Two Selected Items", offset=10, orient='top')
    )

    display(chart)



# Create two dropdown widgets with the list of items
item_dropdown1 = widgets.Dropdown(options=menu_df['item_with_chain'].unique(), description='Select Item 1:')
item_dropdown2 = widgets.Dropdown(options=menu_df['item_with_chain'].unique(), description='Select Item 2:', value=menu_df['item_with_chain'].unique()[1])

# Connect the dropdown widgets to the display_items_info function
interact(display_items_info, selected_item1=item_dropdown1, selected_item2=item_dropdown2)



import pandas as pd
import altair as alt
from IPython.display import display
from ipywidgets import interact, widgets, fixed

# Enable notebook rendering for Altair
alt.renderers.enable('default')

# Define a function to display information for the selected items
def display_items_info(selected_item1, selected_item2):
    item_data1 = menu_df[menu_df['item_with_chain'] == selected_item1].squeeze()
    item_data2 = menu_df[menu_df['item_with_chain'] == selected_item2].squeeze()
    
    # Filter only the 'Calories' column for both items
    item_data1 = item_data1[['calories']]
    item_data2 = item_data2[['calories']]

    # Update the keys with the string values of the selected items
    comparison_df = pd.concat([item_data1, item_data2], axis=1, keys=[selected_item1, selected_item2])

    # Melt the DataFrame for Altair
    melted_df = comparison_df.reset_index().melt(id_vars=['index'], var_name='Item', value_name='Value')

    # Adjust the chart to display individual bars side by side
    chart = alt.Chart(melted_df).mark_bar().encode(
        x=alt.X('index:N', title=' '),
        y=alt.Y('Value:Q', title=' '),
        color=alt.Color('Item:N', scale=alt.Scale(range=['#6495ED', '#ADD8E6']), legend=None),
        tooltip=['Item:N', alt.Tooltip('Value:Q', title='Value')],
    ).properties(
        width=300,
        title=" "
    ).facet(
        column='Item:N',
        title=alt.TitleParams(text="Comparing the Calories of the Two Selected Items", offset=10, orient='top')
    )

    display(chart)

# Create two dropdown widgets with the list of items
item_dropdown1 = widgets.Dropdown(options=menu_df['item_with_chain'].unique(), description='Select Item 1:')
item_dropdown2 = widgets.Dropdown(options=menu_df['item_with_chain'].unique(), description='Select Item 2:', value=menu_df['item_with_chain'].unique()[1])

# Connect the dropdown widgets to the display_items_info function
interact(display_items_info, selected_item1=item_dropdown1, selected_item2=item_dropdown2)



import pandas as pd
import altair as alt
from IPython.display import display
from ipywidgets import interact, widgets, fixed

# Enable notebook rendering for Altair
alt.renderers.enable('default')

# Define a function to display information for the selected items
def display_items_info(selected_item1, selected_item2, selected_column):
    item_data1 = menu_df[menu_df['item_with_chain'] == selected_item1].squeeze()
    item_data2 = menu_df[menu_df['item_with_chain'] == selected_item2].squeeze()

    # Filter only the selected column for both items
    item_data1 = item_data1[[selected_column]]
    item_data2 = item_data2[[selected_column]]

    # Update the keys with the string values of the selected items
    comparison_df = pd.concat([item_data1, item_data2], axis=1, keys=[selected_item1, selected_item2])

    # Melt the DataFrame for Altair
    melted_df = comparison_df.reset_index().melt(id_vars=['index'], var_name='Item', value_name='Value')

    # Adjust the chart to display individual bars side by side
    chart = alt.Chart(melted_df).mark_bar().encode(
        x=alt.X('index:N', title=' '),
        y=alt.Y('Value:Q', title=' '),
        color=alt.Color('Item:N', scale=alt.Scale(range=['#6495ED', '#ADD8E6']), legend=None),
        tooltip=['Item:N', alt.Tooltip('Value:Q', title='Value')],
    ).properties(
        width=300,
        title=" "
    ).facet(
        column='Item:N',
        title=alt.TitleParams(text=f"Comparing {selected_column} of the Two Selected Items", offset=10, orient='top')
    )

    display(chart)

# Create dropdown widgets for items and columns
item_dropdown1 = widgets.Dropdown(options=menu_df['item_with_chain'].unique(), description='Select Item 1:')
item_dropdown2 = widgets.Dropdown(options=menu_df['item_with_chain'].unique(), description='Select Item 2:', value=menu_df['item_with_chain'].unique()[1])
column_dropdown = widgets.Dropdown(options=menu_df.columns[3:].tolist(), description='Select Column:', value='calories')

# Connect the dropdown widgets to the display_items_info function
interact(display_items_info, selected_item1=item_dropdown1, selected_item2=item_dropdown2, selected_column=column_dropdown)










