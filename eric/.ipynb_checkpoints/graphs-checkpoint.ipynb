{
 "cells": [
  {
   "cell_type": "markdown",
   "id": "f0e71918-6329-42a0-9f21-f8abb61d7ab2",
   "metadata": {},
   "source": [
    "# Basic Comparison Graphs"
   ]
  },
  {
   "cell_type": "code",
   "execution_count": 1,
   "id": "e235ab6d-1047-4435-adff-3220e2d607b5",
   "metadata": {},
   "outputs": [],
   "source": [
    "# Import Libraries and Dependencies \n",
    "import pandas as pd\n",
    "import sqlite3\n",
    "import sys\n",
    "import requests\n",
    "from ipywidgets import interact, widgets, fixed\n",
    "from IPython.display import display\n",
    "import altair as alt\n"
   ]
  },
  {
   "cell_type": "code",
   "execution_count": 2,
   "id": "f5ff17d8-d39a-464a-9491-390134bc3557",
   "metadata": {},
   "outputs": [
    {
     "data": {
      "text/html": [
       "<div>\n",
       "<style scoped>\n",
       "    .dataframe tbody tr th:only-of-type {\n",
       "        vertical-align: middle;\n",
       "    }\n",
       "\n",
       "    .dataframe tbody tr th {\n",
       "        vertical-align: top;\n",
       "    }\n",
       "\n",
       "    .dataframe thead th {\n",
       "        text-align: right;\n",
       "    }\n",
       "</style>\n",
       "<table border=\"1\" class=\"dataframe\">\n",
       "  <thead>\n",
       "    <tr style=\"text-align: right;\">\n",
       "      <th></th>\n",
       "      <th>restaurant</th>\n",
       "      <th>item</th>\n",
       "      <th>item_with_chain</th>\n",
       "      <th>calories</th>\n",
       "      <th>cal_fat</th>\n",
       "      <th>total_fat</th>\n",
       "      <th>sat_fat</th>\n",
       "      <th>trans_fat</th>\n",
       "      <th>cholesterol</th>\n",
       "      <th>sodium</th>\n",
       "      <th>total_carb</th>\n",
       "      <th>fiber</th>\n",
       "      <th>sugar</th>\n",
       "      <th>protein</th>\n",
       "    </tr>\n",
       "  </thead>\n",
       "  <tbody>\n",
       "    <tr>\n",
       "      <th>0</th>\n",
       "      <td>Mcdonalds</td>\n",
       "      <td>Artisan Grilled Chicken Sandwich</td>\n",
       "      <td>Artisan Grilled Chicken Sandwich (Mcdonalds)</td>\n",
       "      <td>380.0</td>\n",
       "      <td>60.0</td>\n",
       "      <td>7.0</td>\n",
       "      <td>2.0</td>\n",
       "      <td>0.0</td>\n",
       "      <td>95.0</td>\n",
       "      <td>1110.0</td>\n",
       "      <td>44.0</td>\n",
       "      <td>3.0</td>\n",
       "      <td>11.0</td>\n",
       "      <td>37.0</td>\n",
       "    </tr>\n",
       "    <tr>\n",
       "      <th>1</th>\n",
       "      <td>Mcdonalds</td>\n",
       "      <td>Single Bacon Smokehouse Burger</td>\n",
       "      <td>Single Bacon Smokehouse Burger (Mcdonalds)</td>\n",
       "      <td>840.0</td>\n",
       "      <td>410.0</td>\n",
       "      <td>45.0</td>\n",
       "      <td>17.0</td>\n",
       "      <td>1.5</td>\n",
       "      <td>130.0</td>\n",
       "      <td>1580.0</td>\n",
       "      <td>62.0</td>\n",
       "      <td>2.0</td>\n",
       "      <td>18.0</td>\n",
       "      <td>46.0</td>\n",
       "    </tr>\n",
       "  </tbody>\n",
       "</table>\n",
       "</div>"
      ],
      "text/plain": [
       "  restaurant                              item  \\\n",
       "0  Mcdonalds  Artisan Grilled Chicken Sandwich   \n",
       "1  Mcdonalds    Single Bacon Smokehouse Burger   \n",
       "\n",
       "                                item_with_chain  calories  cal_fat  total_fat  \\\n",
       "0  Artisan Grilled Chicken Sandwich (Mcdonalds)     380.0     60.0        7.0   \n",
       "1    Single Bacon Smokehouse Burger (Mcdonalds)     840.0    410.0       45.0   \n",
       "\n",
       "   sat_fat  trans_fat  cholesterol  sodium  total_carb  fiber  sugar  protein  \n",
       "0      2.0        0.0         95.0  1110.0        44.0    3.0   11.0     37.0  \n",
       "1     17.0        1.5        130.0  1580.0        62.0    2.0   18.0     46.0  "
      ]
     },
     "execution_count": 2,
     "metadata": {},
     "output_type": "execute_result"
    }
   ],
   "source": [
    "# Connect to SQLite database\n",
    "conn = sqlite3.connect('Data/menu.db')\n",
    "\n",
    "# Query to retrieve data from the 'menu' table\n",
    "query = 'SELECT * FROM menu'\n",
    "\n",
    "# Use Pandas to read data from SQLite into a DataFrame\n",
    "menu_df = pd.read_sql(query, conn)\n",
    "\n",
    "# Close the connection\n",
    "conn.close()\n",
    "\n",
    "# Display the DataFrame\n",
    "menu_df.head(2)"
   ]
  },
  {
   "cell_type": "code",
   "execution_count": 4,
   "id": "9ed79c1a-6727-491f-acdf-3ab411d8f26d",
   "metadata": {},
   "outputs": [
    {
     "data": {
      "application/vnd.jupyter.widget-view+json": {
       "model_id": "75d7d6bd9f864ec18f9b7a06e081778b",
       "version_major": 2,
       "version_minor": 0
      },
      "text/plain": [
       "interactive(children=(Dropdown(description='Select Item 1:', options=('Artisan Grilled Chicken Sandwich (Mcdon…"
      ]
     },
     "metadata": {},
     "output_type": "display_data"
    },
    {
     "data": {
      "text/plain": [
       "<function __main__.display_items_info(selected_item1, selected_item2)>"
      ]
     },
     "execution_count": 4,
     "metadata": {},
     "output_type": "execute_result"
    }
   ],
   "source": [
    "\n",
    "\n",
    "# Enable notebook rendering for Altair\n",
    "alt.renderers.enable('default')\n",
    "\n",
    "# Define a function to display information for the selected items\n",
    "def display_items_info(selected_item1, selected_item2):\n",
    "    item_data1 = menu_df[menu_df['item_with_chain'] == selected_item1].squeeze()\n",
    "    item_data2 = menu_df[menu_df['item_with_chain'] == selected_item2].squeeze()\n",
    "    \n",
    "    # Update the keys with the string values of the selected items\n",
    "    comparison_df = pd.concat([item_data1, item_data2], axis=1, keys=[selected_item1, selected_item2])\n",
    "\n",
    "    # Melt the DataFrame for Altair\n",
    "    melted_df = comparison_df.reset_index().melt(id_vars=['index'], var_name='Item', value_name='Value')\n",
    "\n",
    "    # Adjust the chart to display individual bars side by side\n",
    "    chart = alt.Chart(melted_df).mark_bar().encode(\n",
    "        x=alt.X('index:N', title=' '),\n",
    "        y=alt.Y('Value:Q', title=' '),\n",
    "        color=alt.Color('Item:N', scale=alt.Scale(range=['#6495ED', '#ADD8E6']), legend=None),\n",
    "        tooltip=['Item:N', alt.Tooltip('Value:Q', title='Value')],\n",
    "    ).properties(\n",
    "        width=300,\n",
    "        title=\" \"\n",
    "    ).facet(\n",
    "        column='Item:N',\n",
    "        title=alt.TitleParams(text=\"Comparing the Nutrients of the Two Selected Items\", offset=10, orient='top')\n",
    "    )\n",
    "\n",
    "    display(chart)\n",
    "\n",
    "\n",
    "\n",
    "# Create two dropdown widgets with the list of items\n",
    "item_dropdown1 = widgets.Dropdown(options=menu_df['item_with_chain'].unique(), description='Select Item 1:')\n",
    "item_dropdown2 = widgets.Dropdown(options=menu_df['item_with_chain'].unique(), description='Select Item 2:', value=menu_df['item_with_chain'].unique()[1])\n",
    "\n",
    "# Connect the dropdown widgets to the display_items_info function\n",
    "interact(display_items_info, selected_item1=item_dropdown1, selected_item2=item_dropdown2)\n"
   ]
  },
  {
   "cell_type": "code",
   "execution_count": 6,
   "id": "fb2742cf-e335-4f6d-bb77-d6d8ed9448fe",
   "metadata": {},
   "outputs": [
    {
     "data": {
      "application/vnd.jupyter.widget-view+json": {
       "model_id": "2de070c44c754b58b3186701f660a0f8",
       "version_major": 2,
       "version_minor": 0
      },
      "text/plain": [
       "interactive(children=(Dropdown(description='Select Item 1:', options=('Artisan Grilled Chicken Sandwich (Mcdon…"
      ]
     },
     "metadata": {},
     "output_type": "display_data"
    },
    {
     "data": {
      "text/plain": [
       "<function __main__.display_items_info(selected_item1, selected_item2, selected_column)>"
      ]
     },
     "execution_count": 6,
     "metadata": {},
     "output_type": "execute_result"
    }
   ],
   "source": [
    "import pandas as pd\n",
    "import altair as alt\n",
    "from IPython.display import display\n",
    "from ipywidgets import interact, widgets, fixed\n",
    "\n",
    "# Enable notebook rendering for Altair\n",
    "alt.renderers.enable('default')\n",
    "\n",
    "# Define a function to display information for the selected items\n",
    "def display_items_info(selected_item1, selected_item2, selected_column):\n",
    "    item_data1 = menu_df[menu_df['item_with_chain'] == selected_item1].squeeze()\n",
    "    item_data2 = menu_df[menu_df['item_with_chain'] == selected_item2].squeeze()\n",
    "\n",
    "    # Filter only the selected column for both items\n",
    "    item_data1 = item_data1[[selected_column]]\n",
    "    item_data2 = item_data2[[selected_column]]\n",
    "\n",
    "    # Update the keys with the string values of the selected items\n",
    "    comparison_df = pd.concat([item_data1, item_data2], axis=1, keys=[selected_item1, selected_item2])\n",
    "\n",
    "    # Melt the DataFrame for Altair\n",
    "    melted_df = comparison_df.reset_index().melt(id_vars=['index'], var_name='Item', value_name='Value')\n",
    "\n",
    "    # Adjust the chart to display individual bars side by side\n",
    "    chart = alt.Chart(melted_df).mark_bar().encode(\n",
    "        x=alt.X('index:N', title=' '),\n",
    "        y=alt.Y('Value:Q', title=' '),\n",
    "        color=alt.Color('Item:N', scale=alt.Scale(range=['#6495ED', '#ADD8E6']), legend=None),\n",
    "        tooltip=['Item:N', alt.Tooltip('Value:Q', title='Value')],\n",
    "    ).properties(\n",
    "        width=300,\n",
    "        title=\" \"\n",
    "    ).facet(\n",
    "        column='Item:N',\n",
    "        title=alt.TitleParams(text=f\"Comparing {selected_column} of the Two Selected Items\", offset=10, orient='top')\n",
    "    )\n",
    "\n",
    "    display(chart)\n",
    "\n",
    "# Create dropdown widgets for items and columns\n",
    "item_dropdown1 = widgets.Dropdown(options=menu_df['item_with_chain'].unique(), description='Select Item 1:')\n",
    "item_dropdown2 = widgets.Dropdown(options=menu_df['item_with_chain'].unique(), description='Select Item 2:', value=menu_df['item_with_chain'].unique()[1])\n",
    "column_dropdown = widgets.Dropdown(options=menu_df.columns[3:].tolist(), description='Select Column:', value='calories')\n",
    "\n",
    "# Connect the dropdown widgets to the display_items_info function\n",
    "interact(display_items_info, selected_item1=item_dropdown1, selected_item2=item_dropdown2, selected_column=column_dropdown)\n"
   ]
  },
  {
   "cell_type": "code",
   "execution_count": 7,
   "id": "f7344e39-b429-4095-a331-4894ea29e686",
   "metadata": {},
   "outputs": [
    {
     "data": {
      "application/vnd.jupyter.widget-view+json": {
       "model_id": "e1c0d5cf979140f99dea86e72e331414",
       "version_major": 2,
       "version_minor": 0
      },
      "text/plain": [
       "interactive(children=(Dropdown(description='Select Restaurant 1:', options=('Mcdonalds', 'Chick Fil-A', 'Sonic…"
      ]
     },
     "metadata": {},
     "output_type": "display_data"
    },
    {
     "data": {
      "text/plain": [
       "<function __main__.display_restaurants_info(selected_restaurant1, selected_restaurant2, selected_column)>"
      ]
     },
     "execution_count": 7,
     "metadata": {},
     "output_type": "execute_result"
    }
   ],
   "source": [
    "# Enable notebook rendering for Altair\n",
    "alt.renderers.enable('default')\n",
    "\n",
    "# Assume 'menu_df' is your DataFrame containing the nutrition data\n",
    "# You can load your data using: menu_df = pd.read_csv('your_data.csv')\n",
    "\n",
    "# Define a function to display information for the selected restaurants\n",
    "def display_restaurants_info(selected_restaurant1, selected_restaurant2, selected_column):\n",
    "    restaurant_data1 = menu_df[menu_df['restaurant'] == selected_restaurant1]\n",
    "    restaurant_data2 = menu_df[menu_df['restaurant'] == selected_restaurant2]\n",
    "\n",
    "    # Calculate mean values for the selected column for both restaurants\n",
    "    mean_values1 = restaurant_data1[selected_column].mean()\n",
    "    mean_values2 = restaurant_data2[selected_column].mean()\n",
    "\n",
    "    # Create a DataFrame with mean values\n",
    "    comparison_df = pd.DataFrame({\n",
    "        selected_restaurant1: [mean_values1],\n",
    "        selected_restaurant2: [mean_values2]\n",
    "    })\n",
    "\n",
    "    # Melt the DataFrame for Altair\n",
    "    melted_df = comparison_df.reset_index().melt(id_vars=['index'], var_name='Restaurant', value_name='Mean Value')\n",
    "\n",
    "    # Create the chart\n",
    "    chart = alt.Chart(melted_df).mark_bar().encode(\n",
    "        x=alt.X('index:N', title=' '),\n",
    "        y=alt.Y('Mean Value:Q', title=' '),\n",
    "        color=alt.Color('Restaurant:N', scale=alt.Scale(range=['#6495ED', '#ADD8E6']), legend=None),\n",
    "        tooltip=['Restaurant:N', alt.Tooltip('Mean Value:Q', title='Mean Value')],\n",
    "    ).properties(\n",
    "        width=300,\n",
    "        title=\" \"\n",
    "    ).facet(\n",
    "        column='Restaurant:N',\n",
    "        title=alt.TitleParams(text=f\"Comparing Mean {selected_column} of the Two Selected Restaurants\", offset=10, orient='top')\n",
    "    )\n",
    "\n",
    "    display(chart)\n",
    "\n",
    "# Create dropdown widgets for restaurants and columns\n",
    "restaurant_dropdown1 = widgets.Dropdown(options=menu_df['restaurant'].unique(), description='Select Restaurant 1:')\n",
    "restaurant_dropdown2 = widgets.Dropdown(options=menu_df['restaurant'].unique(), description='Select Restaurant 2:', value=menu_df['restaurant'].unique()[1])\n",
    "column_dropdown = widgets.Dropdown(options=menu_df.columns[3:].tolist(), description='Select Column:', value='calories')\n",
    "\n",
    "# Connect the dropdown widgets to the display_restaurants_info function\n",
    "interact(display_restaurants_info, selected_restaurant1=restaurant_dropdown1, selected_restaurant2=restaurant_dropdown2, selected_column=column_dropdown)"
   ]
  },
  {
   "cell_type": "code",
   "execution_count": null,
   "id": "5dbe24d1-f5ad-4858-91ff-ef9df1289467",
   "metadata": {},
   "outputs": [],
   "source": []
  }
 ],
 "metadata": {
  "kernelspec": {
   "display_name": "Python 3 (ipykernel)",
   "language": "python",
   "name": "python3"
  },
  "language_info": {
   "codemirror_mode": {
    "name": "ipython",
    "version": 3
   },
   "file_extension": ".py",
   "mimetype": "text/x-python",
   "name": "python",
   "nbconvert_exporter": "python",
   "pygments_lexer": "ipython3",
   "version": "3.10.8"
  }
 },
 "nbformat": 4,
 "nbformat_minor": 5
}
