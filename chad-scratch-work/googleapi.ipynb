{
 "cells": [
  {
   "cell_type": "code",
   "execution_count": 1,
   "metadata": {},
   "outputs": [],
   "source": [
    "# Dependencies\n",
    "import json\n",
    "import requests\n",
    "import pandas as pd\n",
    "from config import api_key"
   ]
  },
  {
   "cell_type": "code",
   "execution_count": 2,
   "metadata": {},
   "outputs": [],
   "source": [
    "# List of places\n",
    "search_urls = ['Chick-fil-A', 'Sonic Drive-In', \"Arby's\", 'Dairy Queen', 'Subway', 'Taco Bell', 'Burger King', \"McDonald's\"]\n",
    "\n",
    "# API URL\n",
    "url = f'https://maps.googleapis.com/maps/api/place/nearbysearch/json?location=44.9766,-93.2432&radius=50000&keyword='\n",
    "# url2 = f'https://maps.googleapis.com/maps/api/place/nearbysearch/json?location=47.2403,-94.6482&radius=50000&keyword='\n",
    "\n",
    "# Empty List\n",
    "places = []\n"
   ]
  },
  {
   "cell_type": "code",
   "execution_count": 3,
   "metadata": {},
   "outputs": [],
   "source": [
    "# X,Y,OBJECTID,ID,Letter,Address,City,State,Zip,Phone,Lat,Long_,Restaurant"
   ]
  },
  {
   "cell_type": "code",
   "execution_count": 5,
   "metadata": {},
   "outputs": [],
   "source": [
    "# Loop through search items\n",
    "for place in search_urls:\n",
    "    \n",
    "    # Create search query, make request and store in json\n",
    "    query_url = f'{url}{place}&key={api_key}'\n",
    "    response = requests.get(query_url).json()\n",
    "    # print(query_url)\n",
    "    # Loop through results\n",
    "    for item in response['results']:\n",
    "        # Check if location is in MN\n",
    "        # print(item)\n",
    "        if 'Minnesota' in item['plus_code']['compound_code']:\n",
    "            # Assign values\n",
    "            item_dict = {\n",
    "                # 'X': item['geometry']['location']['lng'],\n",
    "                # 'Y': item['geometry']['location']['lat'],\n",
    "                'Rating': item['rating'],\n",
    "                'Total User Ratings': item['user_ratings_total'],\n",
    "                # 'Letter': 'x',\n",
    "                'Address': item['vicinity'],\n",
    "                'City': item['vicinity'],\n",
    "                'State': 'MN',\n",
    "                # 'Zip': 0,\n",
    "                # 'Phone': 000,\n",
    "                'Lat': item['geometry']['location']['lat'],\n",
    "                'Long_': item['geometry']['location']['lng'],\n",
    "                'Restaurant': item['name']\n",
    "            }\n",
    "\n",
    "            places.append(item_dict)\n",
    "\n",
    "# # Create search query, make request and store in json\n",
    "# response = requests.get(chick_url).json()"
   ]
  },
  {
   "cell_type": "code",
   "execution_count": 6,
   "metadata": {},
   "outputs": [
    {
     "data": {
      "text/plain": [
       "147"
      ]
     },
     "execution_count": 6,
     "metadata": {},
     "output_type": "execute_result"
    }
   ],
   "source": [
    "len(places)"
   ]
  },
  {
   "cell_type": "code",
   "execution_count": 7,
   "metadata": {},
   "outputs": [
    {
     "data": {
      "text/html": [
       "<div>\n",
       "<style scoped>\n",
       "    .dataframe tbody tr th:only-of-type {\n",
       "        vertical-align: middle;\n",
       "    }\n",
       "\n",
       "    .dataframe tbody tr th {\n",
       "        vertical-align: top;\n",
       "    }\n",
       "\n",
       "    .dataframe thead th {\n",
       "        text-align: right;\n",
       "    }\n",
       "</style>\n",
       "<table border=\"1\" class=\"dataframe\">\n",
       "  <thead>\n",
       "    <tr style=\"text-align: right;\">\n",
       "      <th></th>\n",
       "      <th>Rating</th>\n",
       "      <th>Total User Ratings</th>\n",
       "      <th>Address</th>\n",
       "      <th>City</th>\n",
       "      <th>State</th>\n",
       "      <th>Lat</th>\n",
       "      <th>Long_</th>\n",
       "      <th>Restaurant</th>\n",
       "    </tr>\n",
       "  </thead>\n",
       "  <tbody>\n",
       "    <tr>\n",
       "      <th>0</th>\n",
       "      <td>4.3</td>\n",
       "      <td>2167</td>\n",
       "      <td>8020 MN-7, St Louis Park</td>\n",
       "      <td>8020 MN-7, St Louis Park</td>\n",
       "      <td>MN</td>\n",
       "      <td>44.937051</td>\n",
       "      <td>-93.381334</td>\n",
       "      <td>Chick-fil-A Knollwood</td>\n",
       "    </tr>\n",
       "    <tr>\n",
       "      <th>1</th>\n",
       "      <td>4.4</td>\n",
       "      <td>1346</td>\n",
       "      <td>2090 Snelling Ave N, Roseville</td>\n",
       "      <td>2090 Snelling Ave N, Roseville</td>\n",
       "      <td>MN</td>\n",
       "      <td>45.004271</td>\n",
       "      <td>-93.165906</td>\n",
       "      <td>Chick-fil-A</td>\n",
       "    </tr>\n",
       "    <tr>\n",
       "      <th>2</th>\n",
       "      <td>4.5</td>\n",
       "      <td>4137</td>\n",
       "      <td>2500 W 79th St, Bloomington</td>\n",
       "      <td>2500 W 79th St, Bloomington</td>\n",
       "      <td>MN</td>\n",
       "      <td>44.861015</td>\n",
       "      <td>-93.310701</td>\n",
       "      <td>Chick-fil-A</td>\n",
       "    </tr>\n",
       "    <tr>\n",
       "      <th>3</th>\n",
       "      <td>4.3</td>\n",
       "      <td>138</td>\n",
       "      <td>615 Washington Ave SE, Minneapolis</td>\n",
       "      <td>615 Washington Ave SE, Minneapolis</td>\n",
       "      <td>MN</td>\n",
       "      <td>44.973977</td>\n",
       "      <td>-93.229253</td>\n",
       "      <td>Chick-fil-A</td>\n",
       "    </tr>\n",
       "    <tr>\n",
       "      <th>4</th>\n",
       "      <td>4.2</td>\n",
       "      <td>335</td>\n",
       "      <td>3005 Harbor Ln N, Plymouth</td>\n",
       "      <td>3005 Harbor Ln N, Plymouth</td>\n",
       "      <td>MN</td>\n",
       "      <td>45.013267</td>\n",
       "      <td>-93.462382</td>\n",
       "      <td>Chick-fil-A</td>\n",
       "    </tr>\n",
       "    <tr>\n",
       "      <th>...</th>\n",
       "      <td>...</td>\n",
       "      <td>...</td>\n",
       "      <td>...</td>\n",
       "      <td>...</td>\n",
       "      <td>...</td>\n",
       "      <td>...</td>\n",
       "      <td>...</td>\n",
       "      <td>...</td>\n",
       "    </tr>\n",
       "    <tr>\n",
       "      <th>142</th>\n",
       "      <td>3.6</td>\n",
       "      <td>1358</td>\n",
       "      <td>4605 Central Ave NE, Minneapolis</td>\n",
       "      <td>4605 Central Ave NE, Minneapolis</td>\n",
       "      <td>MN</td>\n",
       "      <td>45.052127</td>\n",
       "      <td>-93.246878</td>\n",
       "      <td>McDonald's</td>\n",
       "    </tr>\n",
       "    <tr>\n",
       "      <th>143</th>\n",
       "      <td>3.4</td>\n",
       "      <td>1084</td>\n",
       "      <td>3220 Southdale Cir, Edina</td>\n",
       "      <td>3220 Southdale Cir, Edina</td>\n",
       "      <td>MN</td>\n",
       "      <td>44.882146</td>\n",
       "      <td>-93.319643</td>\n",
       "      <td>McDonald's</td>\n",
       "    </tr>\n",
       "    <tr>\n",
       "      <th>144</th>\n",
       "      <td>3.3</td>\n",
       "      <td>1289</td>\n",
       "      <td>1351 Town Centre Dr, Eagan</td>\n",
       "      <td>1351 Town Centre Dr, Eagan</td>\n",
       "      <td>MN</td>\n",
       "      <td>44.829875</td>\n",
       "      <td>-93.165308</td>\n",
       "      <td>McDonald's</td>\n",
       "    </tr>\n",
       "    <tr>\n",
       "      <th>145</th>\n",
       "      <td>3.5</td>\n",
       "      <td>922</td>\n",
       "      <td>3990 Co Rd 42, Savage</td>\n",
       "      <td>3990 Co Rd 42, Savage</td>\n",
       "      <td>MN</td>\n",
       "      <td>44.747048</td>\n",
       "      <td>-93.330013</td>\n",
       "      <td>McDonald's</td>\n",
       "    </tr>\n",
       "    <tr>\n",
       "      <th>146</th>\n",
       "      <td>3.3</td>\n",
       "      <td>2022</td>\n",
       "      <td>1388 Maryland Ave E, St Paul</td>\n",
       "      <td>1388 Maryland Ave E, St Paul</td>\n",
       "      <td>MN</td>\n",
       "      <td>44.977170</td>\n",
       "      <td>-93.042657</td>\n",
       "      <td>McDonald's</td>\n",
       "    </tr>\n",
       "  </tbody>\n",
       "</table>\n",
       "<p>147 rows × 8 columns</p>\n",
       "</div>"
      ],
      "text/plain": [
       "     Rating  Total User Ratings                             Address  \\\n",
       "0       4.3                2167            8020 MN-7, St Louis Park   \n",
       "1       4.4                1346      2090 Snelling Ave N, Roseville   \n",
       "2       4.5                4137         2500 W 79th St, Bloomington   \n",
       "3       4.3                 138  615 Washington Ave SE, Minneapolis   \n",
       "4       4.2                 335          3005 Harbor Ln N, Plymouth   \n",
       "..      ...                 ...                                 ...   \n",
       "142     3.6                1358    4605 Central Ave NE, Minneapolis   \n",
       "143     3.4                1084           3220 Southdale Cir, Edina   \n",
       "144     3.3                1289          1351 Town Centre Dr, Eagan   \n",
       "145     3.5                 922               3990 Co Rd 42, Savage   \n",
       "146     3.3                2022        1388 Maryland Ave E, St Paul   \n",
       "\n",
       "                                   City State        Lat      Long_  \\\n",
       "0              8020 MN-7, St Louis Park    MN  44.937051 -93.381334   \n",
       "1        2090 Snelling Ave N, Roseville    MN  45.004271 -93.165906   \n",
       "2           2500 W 79th St, Bloomington    MN  44.861015 -93.310701   \n",
       "3    615 Washington Ave SE, Minneapolis    MN  44.973977 -93.229253   \n",
       "4            3005 Harbor Ln N, Plymouth    MN  45.013267 -93.462382   \n",
       "..                                  ...   ...        ...        ...   \n",
       "142    4605 Central Ave NE, Minneapolis    MN  45.052127 -93.246878   \n",
       "143           3220 Southdale Cir, Edina    MN  44.882146 -93.319643   \n",
       "144          1351 Town Centre Dr, Eagan    MN  44.829875 -93.165308   \n",
       "145               3990 Co Rd 42, Savage    MN  44.747048 -93.330013   \n",
       "146        1388 Maryland Ave E, St Paul    MN  44.977170 -93.042657   \n",
       "\n",
       "                Restaurant  \n",
       "0    Chick-fil-A Knollwood  \n",
       "1              Chick-fil-A  \n",
       "2              Chick-fil-A  \n",
       "3              Chick-fil-A  \n",
       "4              Chick-fil-A  \n",
       "..                     ...  \n",
       "142             McDonald's  \n",
       "143             McDonald's  \n",
       "144             McDonald's  \n",
       "145             McDonald's  \n",
       "146             McDonald's  \n",
       "\n",
       "[147 rows x 8 columns]"
      ]
     },
     "execution_count": 7,
     "metadata": {},
     "output_type": "execute_result"
    }
   ],
   "source": [
    "df = pd.DataFrame(places)\n",
    "df"
   ]
  },
  {
   "cell_type": "code",
   "execution_count": 8,
   "metadata": {},
   "outputs": [
    {
     "data": {
      "text/plain": [
       "array(['Chick-fil-A Knollwood', 'Chick-fil-A', 'Chick-fil-A Maplewood',\n",
       "       'Sonic Drive-In', 'The Drive In Restaurant', 'Minnetonka Drive In',\n",
       "       \"Arby's\", 'Dairy Queen Grill & Chill', 'Dairy Queen',\n",
       "       'Dairy Queen (Treat)', 'Dairy Queen(treat)', 'Subway',\n",
       "       'Taco Bell Defy', 'Taco Bell', 'Burger King', \"McDonald's\"],\n",
       "      dtype=object)"
      ]
     },
     "execution_count": 8,
     "metadata": {},
     "output_type": "execute_result"
    }
   ],
   "source": [
    "df['Restaurant'].unique()"
   ]
  },
  {
   "cell_type": "code",
   "execution_count": 7,
   "metadata": {},
   "outputs": [],
   "source": [
    "# df.to_csv('places.csv', index=False)"
   ]
  },
  {
   "cell_type": "code",
   "execution_count": 16,
   "metadata": {},
   "outputs": [
    {
     "data": {
      "text/plain": [
       "array([44.9370512, 45.0042709, 44.8610149, 44.9739768, 45.0132669,\n",
       "       44.9248794, 45.1339491, 45.0942304, 44.7470673, 45.0329984,\n",
       "       44.8331243, 45.1277373, 44.8591608, 44.9728086, 44.892506 ,\n",
       "       45.0580368, 45.1989606, 44.7277288, 44.8836239, 44.8564932,\n",
       "       45.0577832, 44.745869 , 44.8580794, 44.9494403, 45.3034684,\n",
       "       45.4059336, 44.9367954, 45.0537471, 44.965776 , 45.035373 ,\n",
       "       45.0556386, 44.9117886, 45.1990425, 44.8626594, 44.835821 ,\n",
       "       45.316894 , 44.984972 , 44.921734 , 44.832759 , 45.0797057,\n",
       "       45.004389 , 44.955398 , 44.8963267, 45.1577236, 44.728567 ,\n",
       "       44.7312418, 45.0118609, 45.0286094, 44.8660707, 44.7881344,\n",
       "       44.9661302, 45.0070647, 44.8632742, 44.7303024, 44.9262103,\n",
       "       45.0129993, 44.9172238, 44.8606087, 44.8838469, 44.9150765,\n",
       "       44.6951331, 45.1577662, 44.8529311, 45.0201217, 45.106004 ,\n",
       "       44.6442808, 45.0408502, 44.9522295, 44.8277083, 44.883889 ,\n",
       "       44.9211729, 44.7477468, 44.9529319, 44.9673889, 44.9408536,\n",
       "       44.8819494, 44.8643936, 44.9559805, 44.8610408, 44.8242068,\n",
       "       44.9262781, 44.97827  , 45.0159184, 44.7459118, 44.8106273,\n",
       "       44.9380631, 44.7339135, 45.1242633, 44.9582086, 44.9721289,\n",
       "       45.0561488, 45.1002212, 44.9346097, 44.7454708, 45.0037061,\n",
       "       44.9987625, 44.9717096, 45.1617307, 44.8472871, 44.7324684,\n",
       "       45.1290017, 44.8514069, 44.8318098, 44.9858446, 44.961648 ,\n",
       "       45.0203843, 44.9494131, 44.973804 , 45.0593656, 44.744872 ,\n",
       "       45.0719693, 45.0202207, 44.9187428, 44.9720859, 45.0059743,\n",
       "       44.9368604, 44.8329295, 44.8267286, 44.7842929, 45.0034343,\n",
       "       44.958552 , 45.1947609, 44.977726 , 44.8838531, 44.992145 ,\n",
       "       44.8075813, 44.8003514, 44.9589606, 44.9490949, 45.0364065,\n",
       "       44.7844779, 44.8578538, 45.0097975, 45.0027427, 44.9424074,\n",
       "       44.9998628, 44.9553975, 45.0929418, 45.1275434, 44.931823 ,\n",
       "       44.8819916, 44.830381 , 45.0521268, 44.8821464, 44.8298751,\n",
       "       44.7470477, 44.97717  ])"
      ]
     },
     "execution_count": 16,
     "metadata": {},
     "output_type": "execute_result"
    }
   ],
   "source": [
    "df['Lat'].unique()"
   ]
  },
  {
   "cell_type": "code",
   "execution_count": 10,
   "metadata": {},
   "outputs": [],
   "source": [
    "df_clean = df.drop( df.query(\" `Restaurant`=='The Drive In Restaurant' \").index)"
   ]
  },
  {
   "cell_type": "code",
   "execution_count": 11,
   "metadata": {},
   "outputs": [],
   "source": [
    "df_clean = df_clean.drop( df_clean.query(\" `Restaurant`=='Minnetonka Drive In' \").index)"
   ]
  },
  {
   "cell_type": "code",
   "execution_count": 12,
   "metadata": {},
   "outputs": [
    {
     "data": {
      "text/plain": [
       "array(['Chick-fil-A Knollwood', 'Chick-fil-A', 'Chick-fil-A Maplewood',\n",
       "       'Sonic Drive-In', \"Arby's\", 'Dairy Queen Grill & Chill',\n",
       "       'Dairy Queen', 'Dairy Queen (Treat)', 'Dairy Queen(treat)',\n",
       "       'Subway', 'Taco Bell Defy', 'Taco Bell', 'Burger King',\n",
       "       \"McDonald's\"], dtype=object)"
      ]
     },
     "execution_count": 12,
     "metadata": {},
     "output_type": "execute_result"
    }
   ],
   "source": [
    "df_clean['Restaurant'].unique()"
   ]
  },
  {
   "cell_type": "code",
   "execution_count": 13,
   "metadata": {},
   "outputs": [],
   "source": [
    "df_clean.to_csv('places_rating.csv', index=True)"
   ]
  },
  {
   "cell_type": "code",
   "execution_count": 65,
   "metadata": {},
   "outputs": [],
   "source": [
    "import sqlite3\n",
    "import pandas as pd"
   ]
  },
  {
   "cell_type": "code",
   "execution_count": 66,
   "metadata": {},
   "outputs": [],
   "source": [
    "conn = sqlite3.connect('fastfood_locations_twincities.db')"
   ]
  },
  {
   "cell_type": "code",
   "execution_count": 67,
   "metadata": {},
   "outputs": [
    {
     "data": {
      "text/plain": [
       "145"
      ]
     },
     "execution_count": 67,
     "metadata": {},
     "output_type": "execute_result"
    }
   ],
   "source": [
    "df_clean.to_sql('places', conn, if_exists='replace')"
   ]
  },
  {
   "cell_type": "code",
   "execution_count": 68,
   "metadata": {},
   "outputs": [],
   "source": [
    "conn.close()"
   ]
  },
  {
   "cell_type": "code",
   "execution_count": null,
   "metadata": {},
   "outputs": [],
   "source": []
  }
 ],
 "metadata": {
  "kernelspec": {
   "display_name": "dev",
   "language": "python",
   "name": "python3"
  },
  "language_info": {
   "codemirror_mode": {
    "name": "ipython",
    "version": 3
   },
   "file_extension": ".py",
   "mimetype": "text/x-python",
   "name": "python",
   "nbconvert_exporter": "python",
   "pygments_lexer": "ipython3",
   "version": "3.10.13"
  }
 },
 "nbformat": 4,
 "nbformat_minor": 2
}
