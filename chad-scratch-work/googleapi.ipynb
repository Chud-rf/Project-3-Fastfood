{
 "cells": [
  {
   "cell_type": "code",
   "execution_count": 1,
   "metadata": {},
   "outputs": [],
   "source": [
    "# Dependencies\n",
    "import json\n",
    "import requests\n",
    "import pandas as pd\n",
    "from config import api_key"
   ]
  },
  {
   "cell_type": "code",
   "execution_count": 2,
   "metadata": {},
   "outputs": [],
   "source": [
    "# List of places\n",
    "search_urls = ['Chick-fil-A', 'Sonic Drive-In', \"Arby's\", 'Dairy Queen', 'Subway', 'Taco Bell', 'Burger King', \"McDonald's\"]\n",
    "\n",
    "# API URL\n",
    "url = f'https://maps.googleapis.com/maps/api/place/nearbysearch/json?location=44.9766,-93.2432&radius=50000&keyword='\n",
    "# url2 = f'https://maps.googleapis.com/maps/api/place/nearbysearch/json?location=47.2403,-94.6482&radius=50000&keyword='\n",
    "\n",
    "# Empty List\n",
    "places = []\n"
   ]
  },
  {
   "cell_type": "code",
   "execution_count": 3,
   "metadata": {},
   "outputs": [],
   "source": [
    "# X,Y,OBJECTID,ID,Letter,Address,City,State,Zip,Phone,Lat,Long_,Restaurant"
   ]
  },
  {
   "cell_type": "code",
   "execution_count": 4,
   "metadata": {},
   "outputs": [],
   "source": [
    "# Loop through search items\n",
    "for place in search_urls:\n",
    "    \n",
    "    # Create search query, make request and store in json\n",
    "    query_url = f'{url}{place}&key={api_key}'\n",
    "    response = requests.get(query_url).json()\n",
    "    # print(query_url)\n",
    "    # Loop through results\n",
    "    for item in response['results']:\n",
    "        # Check if location is in MN\n",
    "        # print(item)\n",
    "        if 'Minnesota' in item['plus_code']['compound_code']:\n",
    "            # Assign values\n",
    "            item_dict = {\n",
    "                # 'X': item['geometry']['location']['lng'],\n",
    "                # 'Y': item['geometry']['location']['lat'],\n",
    "                # 'OBJECTID': 0,\n",
    "                # 'ID': 0,\n",
    "                # 'Letter': 'x',\n",
    "                'Address': item['vicinity'],\n",
    "                'City': item['vicinity'],\n",
    "                'State': 'MN',\n",
    "                # 'Zip': 0,\n",
    "                # 'Phone': 000,\n",
    "                'Lat': item['geometry']['location']['lat'],\n",
    "                'Long_': item['geometry']['location']['lng'],\n",
    "                'Restaurant': item['name']\n",
    "            }\n",
    "\n",
    "            places.append(item_dict)\n",
    "\n",
    "# # Create search query, make request and store in json\n",
    "# response = requests.get(chick_url).json()"
   ]
  },
  {
   "cell_type": "code",
   "execution_count": 55,
   "metadata": {},
   "outputs": [
    {
     "data": {
      "text/plain": [
       "147"
      ]
     },
     "execution_count": 55,
     "metadata": {},
     "output_type": "execute_result"
    }
   ],
   "source": [
    "len(places)"
   ]
  },
  {
   "cell_type": "code",
   "execution_count": 5,
   "metadata": {},
   "outputs": [
    {
     "data": {
      "text/html": [
       "<div>\n",
       "<style scoped>\n",
       "    .dataframe tbody tr th:only-of-type {\n",
       "        vertical-align: middle;\n",
       "    }\n",
       "\n",
       "    .dataframe tbody tr th {\n",
       "        vertical-align: top;\n",
       "    }\n",
       "\n",
       "    .dataframe thead th {\n",
       "        text-align: right;\n",
       "    }\n",
       "</style>\n",
       "<table border=\"1\" class=\"dataframe\">\n",
       "  <thead>\n",
       "    <tr style=\"text-align: right;\">\n",
       "      <th></th>\n",
       "      <th>Address</th>\n",
       "      <th>City</th>\n",
       "      <th>State</th>\n",
       "      <th>Lat</th>\n",
       "      <th>Long_</th>\n",
       "      <th>Restaurant</th>\n",
       "    </tr>\n",
       "  </thead>\n",
       "  <tbody>\n",
       "    <tr>\n",
       "      <th>0</th>\n",
       "      <td>8020 MN-7, St Louis Park</td>\n",
       "      <td>8020 MN-7, St Louis Park</td>\n",
       "      <td>MN</td>\n",
       "      <td>44.937051</td>\n",
       "      <td>-93.381334</td>\n",
       "      <td>Chick-fil-A Knollwood</td>\n",
       "    </tr>\n",
       "    <tr>\n",
       "      <th>1</th>\n",
       "      <td>2090 Snelling Ave N, Roseville</td>\n",
       "      <td>2090 Snelling Ave N, Roseville</td>\n",
       "      <td>MN</td>\n",
       "      <td>45.004271</td>\n",
       "      <td>-93.165906</td>\n",
       "      <td>Chick-fil-A</td>\n",
       "    </tr>\n",
       "    <tr>\n",
       "      <th>2</th>\n",
       "      <td>2500 W 79th St, Bloomington</td>\n",
       "      <td>2500 W 79th St, Bloomington</td>\n",
       "      <td>MN</td>\n",
       "      <td>44.861015</td>\n",
       "      <td>-93.310701</td>\n",
       "      <td>Chick-fil-A</td>\n",
       "    </tr>\n",
       "    <tr>\n",
       "      <th>3</th>\n",
       "      <td>615 Washington Ave SE, Minneapolis</td>\n",
       "      <td>615 Washington Ave SE, Minneapolis</td>\n",
       "      <td>MN</td>\n",
       "      <td>44.973977</td>\n",
       "      <td>-93.229253</td>\n",
       "      <td>Chick-fil-A</td>\n",
       "    </tr>\n",
       "    <tr>\n",
       "      <th>4</th>\n",
       "      <td>3005 Harbor Ln N, Plymouth</td>\n",
       "      <td>3005 Harbor Ln N, Plymouth</td>\n",
       "      <td>MN</td>\n",
       "      <td>45.013267</td>\n",
       "      <td>-93.462382</td>\n",
       "      <td>Chick-fil-A</td>\n",
       "    </tr>\n",
       "    <tr>\n",
       "      <th>...</th>\n",
       "      <td>...</td>\n",
       "      <td>...</td>\n",
       "      <td>...</td>\n",
       "      <td>...</td>\n",
       "      <td>...</td>\n",
       "      <td>...</td>\n",
       "    </tr>\n",
       "    <tr>\n",
       "      <th>142</th>\n",
       "      <td>4605 Central Ave NE, Minneapolis</td>\n",
       "      <td>4605 Central Ave NE, Minneapolis</td>\n",
       "      <td>MN</td>\n",
       "      <td>45.052127</td>\n",
       "      <td>-93.246878</td>\n",
       "      <td>McDonald's</td>\n",
       "    </tr>\n",
       "    <tr>\n",
       "      <th>143</th>\n",
       "      <td>3220 Southdale Cir, Edina</td>\n",
       "      <td>3220 Southdale Cir, Edina</td>\n",
       "      <td>MN</td>\n",
       "      <td>44.882146</td>\n",
       "      <td>-93.319643</td>\n",
       "      <td>McDonald's</td>\n",
       "    </tr>\n",
       "    <tr>\n",
       "      <th>144</th>\n",
       "      <td>1351 Town Centre Dr, Eagan</td>\n",
       "      <td>1351 Town Centre Dr, Eagan</td>\n",
       "      <td>MN</td>\n",
       "      <td>44.829875</td>\n",
       "      <td>-93.165308</td>\n",
       "      <td>McDonald's</td>\n",
       "    </tr>\n",
       "    <tr>\n",
       "      <th>145</th>\n",
       "      <td>3990 Co Rd 42, Savage</td>\n",
       "      <td>3990 Co Rd 42, Savage</td>\n",
       "      <td>MN</td>\n",
       "      <td>44.747048</td>\n",
       "      <td>-93.330013</td>\n",
       "      <td>McDonald's</td>\n",
       "    </tr>\n",
       "    <tr>\n",
       "      <th>146</th>\n",
       "      <td>1388 Maryland Ave E, St Paul</td>\n",
       "      <td>1388 Maryland Ave E, St Paul</td>\n",
       "      <td>MN</td>\n",
       "      <td>44.977170</td>\n",
       "      <td>-93.042657</td>\n",
       "      <td>McDonald's</td>\n",
       "    </tr>\n",
       "  </tbody>\n",
       "</table>\n",
       "<p>147 rows × 6 columns</p>\n",
       "</div>"
      ],
      "text/plain": [
       "                                Address                                City  \\\n",
       "0              8020 MN-7, St Louis Park            8020 MN-7, St Louis Park   \n",
       "1        2090 Snelling Ave N, Roseville      2090 Snelling Ave N, Roseville   \n",
       "2           2500 W 79th St, Bloomington         2500 W 79th St, Bloomington   \n",
       "3    615 Washington Ave SE, Minneapolis  615 Washington Ave SE, Minneapolis   \n",
       "4            3005 Harbor Ln N, Plymouth          3005 Harbor Ln N, Plymouth   \n",
       "..                                  ...                                 ...   \n",
       "142    4605 Central Ave NE, Minneapolis    4605 Central Ave NE, Minneapolis   \n",
       "143           3220 Southdale Cir, Edina           3220 Southdale Cir, Edina   \n",
       "144          1351 Town Centre Dr, Eagan          1351 Town Centre Dr, Eagan   \n",
       "145               3990 Co Rd 42, Savage               3990 Co Rd 42, Savage   \n",
       "146        1388 Maryland Ave E, St Paul        1388 Maryland Ave E, St Paul   \n",
       "\n",
       "    State        Lat      Long_             Restaurant  \n",
       "0      MN  44.937051 -93.381334  Chick-fil-A Knollwood  \n",
       "1      MN  45.004271 -93.165906            Chick-fil-A  \n",
       "2      MN  44.861015 -93.310701            Chick-fil-A  \n",
       "3      MN  44.973977 -93.229253            Chick-fil-A  \n",
       "4      MN  45.013267 -93.462382            Chick-fil-A  \n",
       "..    ...        ...        ...                    ...  \n",
       "142    MN  45.052127 -93.246878             McDonald's  \n",
       "143    MN  44.882146 -93.319643             McDonald's  \n",
       "144    MN  44.829875 -93.165308             McDonald's  \n",
       "145    MN  44.747048 -93.330013             McDonald's  \n",
       "146    MN  44.977170 -93.042657             McDonald's  \n",
       "\n",
       "[147 rows x 6 columns]"
      ]
     },
     "execution_count": 5,
     "metadata": {},
     "output_type": "execute_result"
    }
   ],
   "source": [
    "df = pd.DataFrame(places)\n",
    "df"
   ]
  },
  {
   "cell_type": "code",
   "execution_count": 57,
   "metadata": {},
   "outputs": [
    {
     "data": {
      "text/plain": [
       "array(['Chick-fil-A Knollwood', 'Chick-fil-A', 'Chick-fil-A Maplewood',\n",
       "       'Sonic Drive-In', 'The Drive In Restaurant', 'Minnetonka Drive In',\n",
       "       \"Arby's\", 'Dairy Queen Grill & Chill', 'Dairy Queen',\n",
       "       'Dairy Queen (Treat)', 'Dairy Queen(treat)', 'Subway',\n",
       "       'Taco Bell Defy', 'Taco Bell', 'Burger King', \"McDonald's\"],\n",
       "      dtype=object)"
      ]
     },
     "execution_count": 57,
     "metadata": {},
     "output_type": "execute_result"
    }
   ],
   "source": [
    "df['Restaurant'].unique()"
   ]
  },
  {
   "cell_type": "code",
   "execution_count": 7,
   "metadata": {},
   "outputs": [],
   "source": [
    "# df.to_csv('places.csv', index=False)"
   ]
  },
  {
   "cell_type": "code",
   "execution_count": 58,
   "metadata": {},
   "outputs": [
    {
     "data": {
      "text/plain": [
       "array(['Chick-fil-A Knollwood', 'Chick-fil-A', 'Chick-fil-A Maplewood',\n",
       "       'Sonic Drive-In', 'The Drive In Restaurant', 'Minnetonka Drive In',\n",
       "       \"Arby's\", 'Dairy Queen Grill & Chill', 'Dairy Queen',\n",
       "       'Dairy Queen (Treat)', 'Dairy Queen(treat)', 'Subway',\n",
       "       'Taco Bell Defy', 'Taco Bell', 'Burger King', \"McDonald's\"],\n",
       "      dtype=object)"
      ]
     },
     "execution_count": 58,
     "metadata": {},
     "output_type": "execute_result"
    }
   ],
   "source": [
    "df['Restaurant'].unique()"
   ]
  },
  {
   "cell_type": "code",
   "execution_count": 6,
   "metadata": {},
   "outputs": [],
   "source": [
    "df_clean = df.drop( df.query(\" `Restaurant`=='The Drive In Restaurant' \").index)"
   ]
  },
  {
   "cell_type": "code",
   "execution_count": 7,
   "metadata": {},
   "outputs": [],
   "source": [
    "df_clean = df_clean.drop( df_clean.query(\" `Restaurant`=='Minnetonka Drive In' \").index)"
   ]
  },
  {
   "cell_type": "code",
   "execution_count": 8,
   "metadata": {},
   "outputs": [
    {
     "data": {
      "text/plain": [
       "array(['Chick-fil-A Knollwood', 'Chick-fil-A', 'Chick-fil-A Maplewood',\n",
       "       'Sonic Drive-In', \"Arby's\", 'Dairy Queen Grill & Chill',\n",
       "       'Dairy Queen', 'Dairy Queen (Treat)', 'Dairy Queen(treat)',\n",
       "       'Subway', 'Taco Bell Defy', 'Taco Bell', 'Burger King',\n",
       "       \"McDonald's\"], dtype=object)"
      ]
     },
     "execution_count": 8,
     "metadata": {},
     "output_type": "execute_result"
    }
   ],
   "source": [
    "df_clean['Restaurant'].unique()"
   ]
  },
  {
   "cell_type": "code",
   "execution_count": 63,
   "metadata": {},
   "outputs": [],
   "source": [
    "df_clean.to_csv('new_places.csv', index=True)"
   ]
  },
  {
   "cell_type": "code",
   "execution_count": 65,
   "metadata": {},
   "outputs": [],
   "source": [
    "import sqlite3\n",
    "import pandas as pd"
   ]
  },
  {
   "cell_type": "code",
   "execution_count": 66,
   "metadata": {},
   "outputs": [],
   "source": [
    "conn = sqlite3.connect('fastfood_locations_twincities.db')"
   ]
  },
  {
   "cell_type": "code",
   "execution_count": 67,
   "metadata": {},
   "outputs": [
    {
     "data": {
      "text/plain": [
       "145"
      ]
     },
     "execution_count": 67,
     "metadata": {},
     "output_type": "execute_result"
    }
   ],
   "source": [
    "df_clean.to_sql('places', conn, if_exists='replace')"
   ]
  },
  {
   "cell_type": "code",
   "execution_count": 68,
   "metadata": {},
   "outputs": [],
   "source": [
    "conn.close()"
   ]
  },
  {
   "cell_type": "code",
   "execution_count": null,
   "metadata": {},
   "outputs": [],
   "source": []
  }
 ],
 "metadata": {
  "kernelspec": {
   "display_name": "dev",
   "language": "python",
   "name": "python3"
  },
  "language_info": {
   "codemirror_mode": {
    "name": "ipython",
    "version": 3
   },
   "file_extension": ".py",
   "mimetype": "text/x-python",
   "name": "python",
   "nbconvert_exporter": "python",
   "pygments_lexer": "ipython3",
   "version": "3.10.13"
  }
 },
 "nbformat": 4,
 "nbformat_minor": 2
}
