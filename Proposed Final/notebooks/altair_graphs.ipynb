{
 "cells": [
  {
   "cell_type": "markdown",
   "id": "f0e71918-6329-42a0-9f21-f8abb61d7ab2",
   "metadata": {},
   "source": [
    "# Comparing the data using altair"
   ]
  },
  {
   "cell_type": "code",
   "execution_count": 1,
   "id": "e235ab6d-1047-4435-adff-3220e2d607b5",
   "metadata": {},
   "outputs": [],
   "source": [
    "# Import Libraries and Dependencies \n",
    "import pandas as pd\n",
    "import sqlite3\n",
    "import sys\n",
    "import requests\n",
    "from ipywidgets import interact, widgets, fixed\n",
    "from IPython.display import display\n",
    "import altair as alt\n"
   ]
  },
  {
   "cell_type": "code",
   "execution_count": 2,
   "id": "f5ff17d8-d39a-464a-9491-390134bc3557",
   "metadata": {},
   "outputs": [],
   "source": [
    "# Connect to the SQLite database\n",
    "conn = sqlite3.connect('../database/db.sqlite')\n",
    "\n",
    "# Query to select data from the nutrition table\n",
    "query = \"SELECT * FROM nutrition;\"\n",
    "\n",
    "# Read data into a DataFrame\n",
    "menu_df = pd.read_sql_query(query, conn)\n",
    "\n",
    "# Close the connection\n",
    "conn.close()"
   ]
  },
  {
   "cell_type": "code",
   "execution_count": 3,
   "id": "dbc5c043",
   "metadata": {},
   "outputs": [
    {
     "data": {
      "text/html": [
       "<div>\n",
       "<style scoped>\n",
       "    .dataframe tbody tr th:only-of-type {\n",
       "        vertical-align: middle;\n",
       "    }\n",
       "\n",
       "    .dataframe tbody tr th {\n",
       "        vertical-align: top;\n",
       "    }\n",
       "\n",
       "    .dataframe thead th {\n",
       "        text-align: right;\n",
       "    }\n",
       "</style>\n",
       "<table border=\"1\" class=\"dataframe\">\n",
       "  <thead>\n",
       "    <tr style=\"text-align: right;\">\n",
       "      <th></th>\n",
       "      <th>id</th>\n",
       "      <th>Restaurant</th>\n",
       "      <th>Item</th>\n",
       "      <th>item_with_chain</th>\n",
       "      <th>Calories</th>\n",
       "      <th>Calories From Fat</th>\n",
       "      <th>Total Fat</th>\n",
       "      <th>Saturated Fat</th>\n",
       "      <th>Trans Fat</th>\n",
       "      <th>Cholesterol</th>\n",
       "      <th>Sodium</th>\n",
       "      <th>Total Carbohydrates</th>\n",
       "      <th>Fiber</th>\n",
       "      <th>Sugar</th>\n",
       "      <th>Protein</th>\n",
       "    </tr>\n",
       "  </thead>\n",
       "  <tbody>\n",
       "    <tr>\n",
       "      <th>0</th>\n",
       "      <td>1</td>\n",
       "      <td>Mcdonalds</td>\n",
       "      <td>Artisan Grilled Chicken Sandwich</td>\n",
       "      <td>Artisan Grilled Chicken Sandwich (Mcdonalds)</td>\n",
       "      <td>380.0</td>\n",
       "      <td>60.0</td>\n",
       "      <td>7.0</td>\n",
       "      <td>2.0</td>\n",
       "      <td>0.0</td>\n",
       "      <td>95.0</td>\n",
       "      <td>1110.0</td>\n",
       "      <td>44.0</td>\n",
       "      <td>3.0</td>\n",
       "      <td>11.0</td>\n",
       "      <td>37.0</td>\n",
       "    </tr>\n",
       "    <tr>\n",
       "      <th>1</th>\n",
       "      <td>2</td>\n",
       "      <td>Mcdonalds</td>\n",
       "      <td>Single Bacon Smokehouse Burger</td>\n",
       "      <td>Single Bacon Smokehouse Burger (Mcdonalds)</td>\n",
       "      <td>840.0</td>\n",
       "      <td>410.0</td>\n",
       "      <td>45.0</td>\n",
       "      <td>17.0</td>\n",
       "      <td>1.5</td>\n",
       "      <td>130.0</td>\n",
       "      <td>1580.0</td>\n",
       "      <td>62.0</td>\n",
       "      <td>2.0</td>\n",
       "      <td>18.0</td>\n",
       "      <td>46.0</td>\n",
       "    </tr>\n",
       "    <tr>\n",
       "      <th>2</th>\n",
       "      <td>3</td>\n",
       "      <td>Mcdonalds</td>\n",
       "      <td>Double Bacon Smokehouse Burger</td>\n",
       "      <td>Double Bacon Smokehouse Burger (Mcdonalds)</td>\n",
       "      <td>1130.0</td>\n",
       "      <td>600.0</td>\n",
       "      <td>67.0</td>\n",
       "      <td>27.0</td>\n",
       "      <td>3.0</td>\n",
       "      <td>220.0</td>\n",
       "      <td>1920.0</td>\n",
       "      <td>63.0</td>\n",
       "      <td>3.0</td>\n",
       "      <td>18.0</td>\n",
       "      <td>70.0</td>\n",
       "    </tr>\n",
       "    <tr>\n",
       "      <th>3</th>\n",
       "      <td>4</td>\n",
       "      <td>Mcdonalds</td>\n",
       "      <td>Grilled Bacon Smokehouse Chicken Sandwich</td>\n",
       "      <td>Grilled Bacon Smokehouse Chicken Sandwich (Mcd...</td>\n",
       "      <td>750.0</td>\n",
       "      <td>280.0</td>\n",
       "      <td>31.0</td>\n",
       "      <td>10.0</td>\n",
       "      <td>0.5</td>\n",
       "      <td>155.0</td>\n",
       "      <td>1940.0</td>\n",
       "      <td>62.0</td>\n",
       "      <td>2.0</td>\n",
       "      <td>18.0</td>\n",
       "      <td>55.0</td>\n",
       "    </tr>\n",
       "    <tr>\n",
       "      <th>4</th>\n",
       "      <td>5</td>\n",
       "      <td>Mcdonalds</td>\n",
       "      <td>Crispy Bacon Smokehouse Chicken Sandwich</td>\n",
       "      <td>Crispy Bacon Smokehouse Chicken Sandwich (Mcdo...</td>\n",
       "      <td>920.0</td>\n",
       "      <td>410.0</td>\n",
       "      <td>45.0</td>\n",
       "      <td>12.0</td>\n",
       "      <td>0.5</td>\n",
       "      <td>120.0</td>\n",
       "      <td>1980.0</td>\n",
       "      <td>81.0</td>\n",
       "      <td>4.0</td>\n",
       "      <td>18.0</td>\n",
       "      <td>46.0</td>\n",
       "    </tr>\n",
       "  </tbody>\n",
       "</table>\n",
       "</div>"
      ],
      "text/plain": [
       "   id Restaurant                                       Item  \\\n",
       "0   1  Mcdonalds           Artisan Grilled Chicken Sandwich   \n",
       "1   2  Mcdonalds             Single Bacon Smokehouse Burger   \n",
       "2   3  Mcdonalds             Double Bacon Smokehouse Burger   \n",
       "3   4  Mcdonalds  Grilled Bacon Smokehouse Chicken Sandwich   \n",
       "4   5  Mcdonalds   Crispy Bacon Smokehouse Chicken Sandwich   \n",
       "\n",
       "                                     item_with_chain  Calories  \\\n",
       "0       Artisan Grilled Chicken Sandwich (Mcdonalds)     380.0   \n",
       "1         Single Bacon Smokehouse Burger (Mcdonalds)     840.0   \n",
       "2         Double Bacon Smokehouse Burger (Mcdonalds)    1130.0   \n",
       "3  Grilled Bacon Smokehouse Chicken Sandwich (Mcd...     750.0   \n",
       "4  Crispy Bacon Smokehouse Chicken Sandwich (Mcdo...     920.0   \n",
       "\n",
       "   Calories From Fat  Total Fat  Saturated Fat  Trans Fat  Cholesterol  \\\n",
       "0               60.0        7.0            2.0        0.0         95.0   \n",
       "1              410.0       45.0           17.0        1.5        130.0   \n",
       "2              600.0       67.0           27.0        3.0        220.0   \n",
       "3              280.0       31.0           10.0        0.5        155.0   \n",
       "4              410.0       45.0           12.0        0.5        120.0   \n",
       "\n",
       "   Sodium  Total Carbohydrates  Fiber  Sugar  Protein  \n",
       "0  1110.0                 44.0    3.0   11.0     37.0  \n",
       "1  1580.0                 62.0    2.0   18.0     46.0  \n",
       "2  1920.0                 63.0    3.0   18.0     70.0  \n",
       "3  1940.0                 62.0    2.0   18.0     55.0  \n",
       "4  1980.0                 81.0    4.0   18.0     46.0  "
      ]
     },
     "execution_count": 3,
     "metadata": {},
     "output_type": "execute_result"
    }
   ],
   "source": [
    "# preview the df\n",
    "menu_df.head()"
   ]
  },
  {
   "cell_type": "code",
   "execution_count": 15,
   "id": "9e503c9d",
   "metadata": {},
   "outputs": [
    {
     "name": "stdout",
     "output_type": "stream",
     "text": [
      "<class 'pandas.core.frame.DataFrame'>\n",
      "RangeIndex: 513 entries, 0 to 512\n",
      "Data columns (total 15 columns):\n",
      " #   Column               Non-Null Count  Dtype  \n",
      "---  ------               --------------  -----  \n",
      " 0   id                   513 non-null    int64  \n",
      " 1   Restaurant           513 non-null    object \n",
      " 2   Item                 513 non-null    object \n",
      " 3   item_with_chain      513 non-null    object \n",
      " 4   Calories             513 non-null    float64\n",
      " 5   Calories From Fat    513 non-null    float64\n",
      " 6   Total Fat            513 non-null    float64\n",
      " 7   Saturated Fat        513 non-null    float64\n",
      " 8   Trans Fat            513 non-null    float64\n",
      " 9   Cholesterol          513 non-null    float64\n",
      " 10  Sodium               513 non-null    float64\n",
      " 11  Total Carbohydrates  513 non-null    float64\n",
      " 12  Fiber                513 non-null    float64\n",
      " 13  Sugar                513 non-null    float64\n",
      " 14  Protein              513 non-null    float64\n",
      "dtypes: float64(11), int64(1), object(3)\n",
      "memory usage: 60.2+ KB\n"
     ]
    }
   ],
   "source": [
    "menu_df.info()"
   ]
  },
  {
   "cell_type": "code",
   "execution_count": 4,
   "id": "9ed79c1a-6727-491f-acdf-3ab411d8f26d",
   "metadata": {},
   "outputs": [
    {
     "data": {
      "application/vnd.jupyter.widget-view+json": {
       "model_id": "cf1399b51b744fb69f92dc8ceb02f0ae",
       "version_major": 2,
       "version_minor": 0
      },
      "text/plain": [
       "interactive(children=(Dropdown(description='Select Item 1:', options=('Artisan Grilled Chicken Sandwich (Mcdon…"
      ]
     },
     "metadata": {},
     "output_type": "display_data"
    },
    {
     "data": {
      "text/plain": [
       "<function __main__.display_items_info(selected_item1, selected_item2)>"
      ]
     },
     "execution_count": 4,
     "metadata": {},
     "output_type": "execute_result"
    }
   ],
   "source": [
    "# Using altair to compare two items\n",
    "\n",
    "# Enable notebook rendering for Altair\n",
    "# https://altair-viz.github.io/user_guide/display_frontends.html\n",
    "# https://stackoverflow.com/questions/59705914/not-able-to-display-altair-charts-in-jupyter-notebook\n",
    "alt.renderers.enable('default')\n",
    "\n",
    "# Define a function to display information for the selected items\n",
    "def display_items_info(selected_item1, selected_item2):\n",
    "    item_data1 = menu_df[menu_df['item_with_chain'] == selected_item1].squeeze()\n",
    "    item_data2 = menu_df[menu_df['item_with_chain'] == selected_item2].squeeze()\n",
    "    \n",
    "    # Update the keys with the string values of the selected items\n",
    "    comparison_df = pd.concat([item_data1, item_data2], axis=1, keys=[selected_item1, selected_item2])\n",
    "\n",
    "    # Melt the DataFrame for Altair\n",
    "    melted_df = comparison_df.reset_index().melt(id_vars=['index'], var_name='Item', value_name='Value')\n",
    "\n",
    "    # Adjust the chart to display individual bars side by side\n",
    "    chart = alt.Chart(melted_df).mark_bar().encode(\n",
    "        x=alt.X('index:N', title=' '),\n",
    "        y=alt.Y('Value:Q', title=' '),\n",
    "        color=alt.Color('Item:N', scale=alt.Scale(range=['#6495ED', '#ADD8E6']), legend=None),\n",
    "        tooltip=['Item:N', alt.Tooltip('Value:Q', title='Value')],\n",
    "    ).properties(\n",
    "        width=300,\n",
    "        title=\" \"\n",
    "    ).facet(\n",
    "        column='Item:N',\n",
    "        title=alt.TitleParams(text=\"Comparing the Nutrients of the Two Selected Items\", offset=10, orient='top')\n",
    "    )\n",
    "\n",
    "    display(chart)\n",
    "\n",
    "\n",
    "\n",
    "# Create two dropdown widgets with the list of items\n",
    "item_dropdown1 = widgets.Dropdown(options=menu_df['item_with_chain'].unique(), description='Select Item 1:')\n",
    "item_dropdown2 = widgets.Dropdown(options=menu_df['item_with_chain'].unique(), description='Select Item 2:', value=menu_df['item_with_chain'].unique()[1])\n",
    "\n",
    "# Connect the dropdown widgets to the display_items_info function\n",
    "interact(display_items_info, selected_item1=item_dropdown1, selected_item2=item_dropdown2)\n"
   ]
  },
  {
   "cell_type": "code",
   "execution_count": 16,
   "id": "fb2742cf-e335-4f6d-bb77-d6d8ed9448fe",
   "metadata": {},
   "outputs": [
    {
     "data": {
      "application/vnd.jupyter.widget-view+json": {
       "model_id": "1c297e256ef5475ab6c9dfba1d055399",
       "version_major": 2,
       "version_minor": 0
      },
      "text/plain": [
       "interactive(children=(Dropdown(description='Select Item 1:', options=('Artisan Grilled Chicken Sandwich (Mcdon…"
      ]
     },
     "metadata": {},
     "output_type": "display_data"
    },
    {
     "data": {
      "text/plain": [
       "<function __main__.display_items_info(selected_item1, selected_item2, selected_column)>"
      ]
     },
     "execution_count": 16,
     "metadata": {},
     "output_type": "execute_result"
    }
   ],
   "source": [
    "\n",
    "\n",
    "# Enable notebook rendering for Altair\n",
    "alt.renderers.enable('default')\n",
    "\n",
    "# Define a function to display information for the selected items\n",
    "def display_items_info(selected_item1, selected_item2, selected_column):\n",
    "    item_data1 = menu_df[menu_df['item_with_chain'] == selected_item1].squeeze()\n",
    "    item_data2 = menu_df[menu_df['item_with_chain'] == selected_item2].squeeze()\n",
    "\n",
    "    # Filter only the selected column for both items\n",
    "    item_data1 = item_data1[[selected_column]]\n",
    "    item_data2 = item_data2[[selected_column]]\n",
    "\n",
    "    # Update the keys with the string values of the selected items\n",
    "    comparison_df = pd.concat([item_data1, item_data2], axis=1, keys=[selected_item1, selected_item2])\n",
    "\n",
    "    # Melt the DataFrame for Altair\n",
    "    melted_df = comparison_df.reset_index().melt(id_vars=['index'], var_name='Item', value_name='Value')\n",
    "\n",
    "    # Adjust the chart to display individual bars side by side\n",
    "    chart = alt.Chart(melted_df).mark_bar().encode(\n",
    "        x=alt.X('index:N', title=' '),\n",
    "        y=alt.Y('Value:Q', title=' '),\n",
    "        color=alt.Color('Item:N', scale=alt.Scale(range=['#6495ED', '#ADD8E6']), legend=None),\n",
    "        tooltip=['Item:N', alt.Tooltip('Value:Q', title='Value')],\n",
    "    ).properties(\n",
    "        width=300,\n",
    "        title=\" \"\n",
    "    ).facet(\n",
    "        column='Item:N',\n",
    "        title=alt.TitleParams(text=f\"Comparing {selected_column} of the Two Selected Items\", offset=10, orient='top')\n",
    "    )\n",
    "\n",
    "    display(chart)\n",
    "\n",
    "# Create dropdown widgets for items and columns\n",
    "item_dropdown1 = widgets.Dropdown(options=menu_df['item_with_chain'].unique(), description='Select Item 1:')\n",
    "item_dropdown2 = widgets.Dropdown(options=menu_df['item_with_chain'].unique(), description='Select Item 2:', value=menu_df['item_with_chain'].unique()[1])\n",
    "column_dropdown = widgets.Dropdown(options=menu_df.columns[3:].tolist(), description='Select Column:', value='Calories')\n",
    "\n",
    "# Connect the dropdown widgets to the display_items_info function\n",
    "interact(display_items_info, selected_item1=item_dropdown1, selected_item2=item_dropdown2, selected_column=column_dropdown)\n"
   ]
  },
  {
   "cell_type": "code",
   "execution_count": 17,
   "id": "f7344e39-b429-4095-a331-4894ea29e686",
   "metadata": {},
   "outputs": [
    {
     "data": {
      "application/vnd.jupyter.widget-view+json": {
       "model_id": "2a3677948fb34fe0954a3ebedcc4d132",
       "version_major": 2,
       "version_minor": 0
      },
      "text/plain": [
       "interactive(children=(Dropdown(description='Select Restaurant 1:', options=('Mcdonalds', 'Chick Fil-A', 'Sonic…"
      ]
     },
     "metadata": {},
     "output_type": "display_data"
    },
    {
     "data": {
      "text/plain": [
       "<function __main__.display_restaurants_info(selected_restaurant1, selected_restaurant2, selected_column)>"
      ]
     },
     "execution_count": 17,
     "metadata": {},
     "output_type": "execute_result"
    }
   ],
   "source": [
    "# Enable notebook rendering for Altair\n",
    "alt.renderers.enable('default')\n",
    "\n",
    "# Assume 'menu_df' is your DataFrame containing the nutrition data\n",
    "# You can load your data using: menu_df = pd.read_csv('your_data.csv')\n",
    "\n",
    "# Define a function to display information for the selected restaurants\n",
    "def display_restaurants_info(selected_restaurant1, selected_restaurant2, selected_column):\n",
    "    restaurant_data1 = menu_df[menu_df['Restaurant'] == selected_restaurant1]\n",
    "    restaurant_data2 = menu_df[menu_df['Restaurant'] == selected_restaurant2]\n",
    "\n",
    "    # Calculate mean values for the selected column for both restaurants\n",
    "    mean_values1 = restaurant_data1[selected_column].mean()\n",
    "    mean_values2 = restaurant_data2[selected_column].mean()\n",
    "\n",
    "    # Create a DataFrame with mean values\n",
    "    comparison_df = pd.DataFrame({\n",
    "        selected_restaurant1: [mean_values1],\n",
    "        selected_restaurant2: [mean_values2]\n",
    "    })\n",
    "\n",
    "    # Melt the DataFrame for Altair\n",
    "    melted_df = comparison_df.reset_index().melt(id_vars=['index'], var_name='Restaurant', value_name='Mean Value')\n",
    "\n",
    "    # Create the chart\n",
    "    chart = alt.Chart(melted_df).mark_bar().encode(\n",
    "        x=alt.X('index:N', title=' '),\n",
    "        y=alt.Y('Mean Value:Q', title=' '),\n",
    "        color=alt.Color('Restaurant:N', scale=alt.Scale(range=['#6495ED', '#ADD8E6']), legend=None),\n",
    "        tooltip=['Restaurant:N', alt.Tooltip('Mean Value:Q', title='Mean Value')],\n",
    "    ).properties(\n",
    "        width=300,\n",
    "        title=\" \"\n",
    "    ).facet(\n",
    "        column='Restaurant:N',\n",
    "        title=alt.TitleParams(text=f\"Comparing Mean {selected_column} of the Two Selected Restaurants\", offset=10, orient='top')\n",
    "    )\n",
    "\n",
    "    display(chart)\n",
    "\n",
    "# Create dropdown widgets for restaurants and columns\n",
    "restaurant_dropdown1 = widgets.Dropdown(options=menu_df['Restaurant'].unique(), description='Select Restaurant 1:')\n",
    "restaurant_dropdown2 = widgets.Dropdown(options=menu_df['Restaurant'].unique(), description='Select Restaurant 2:', value=menu_df['Restaurant'].unique()[1])\n",
    "column_dropdown = widgets.Dropdown(options=menu_df.columns[3:].tolist(), description='Select Column:', value='Calories')\n",
    "\n",
    "# Connect the dropdown widgets to the display_restaurants_info function\n",
    "interact(display_restaurants_info, selected_restaurant1=restaurant_dropdown1, selected_restaurant2=restaurant_dropdown2, selected_column=column_dropdown)"
   ]
  }
 ],
 "metadata": {
  "kernelspec": {
   "display_name": "Python 3 (ipykernel)",
   "language": "python",
   "name": "python3"
  },
  "language_info": {
   "codemirror_mode": {
    "name": "ipython",
    "version": 3
   },
   "file_extension": ".py",
   "mimetype": "text/x-python",
   "name": "python",
   "nbconvert_exporter": "python",
   "pygments_lexer": "ipython3",
   "version": "3.10.8"
  }
 },
 "nbformat": 4,
 "nbformat_minor": 5
}
