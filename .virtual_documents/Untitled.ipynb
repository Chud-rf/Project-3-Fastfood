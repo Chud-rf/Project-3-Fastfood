# Import Libraries
import pandas as pd
import matplotlib.pyplot as plt
import numpy as np
from scipy.stats import linregress, ttest_ind
import scipy.stats as stats
from scipy import stats
import pygwalker as pyg
import sys


# Load CSVs
menu_df = pd.read_csv('Data/fastfood.csv')

chains_df = pd.read_csv('Data/chains.csv')


menu_df.info()


# Drop Columns missing several values
menu_df = menu_df.drop(labels=['vit_a', 'vit_c', 'calcium', 'salad'], axis=1)
menu_df.info()


# Clean Fiber and Protien missing values
# Calculate column averages
fiber_avg = menu_df['fiber'].mean()
protein_avg = menu_df['protein'].mean()

# Fill missing values with averages
menu_df['fiber'].fillna(fiber_avg, inplace=True)
menu_df['protein'].fillna(protein_avg, inplace=True)

# Verify the changes
menu_df.info()


# testing pygwalker
pyg.walk(menu_df, dark='light')



