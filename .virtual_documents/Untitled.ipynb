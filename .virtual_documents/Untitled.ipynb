


# Import Libraries
import pandas as pd
import matplotlib.pyplot as plt
import numpy as np
from scipy.stats import linregress, ttest_ind
import scipy.stats as stats
from scipy import stats
import pygwalker as pyg
import sys
import requests






# Ensure the correct conda enviornment is selected
!conda activate dev

# Ensure Conda is up to date
!conda update --all

# Install pygwalker
!conda install -c conda-forge pygwalker

#This code was used to ensure it would display properly in Jupyter Lab
!pip install --upgrade jupyterlab ipywidgets
!pip install --upgrade gw-dsl-parser==0.1.8a0 duckdb==0.9.2 segment-analytics-python==2.2.3
!jupyter labextension install @jupyter-widgets/jupyterlab-manager


# Load CSVs
menu_df = pd.read_csv('Data/fastfood.csv')

chains_df = pd.read_csv('Data/chains.csv')


menu_df.info()


# Drop Columns missing several values
# Dropping Salad because it's not a useful field
menu_df = menu_df.drop(labels=['vit_a', 'vit_c', 'calcium', 'salad'], axis=1)
menu_df.info()


# Clean Fiber and Protien missing values
# Calculate column averages
fiber_avg = menu_df['fiber'].mean()
protein_avg = menu_df['protein'].mean()

# Fill missing values with averages
menu_df['fiber'].fillna(fiber_avg, inplace=True)
menu_df['protein'].fillna(protein_avg, inplace=True)

# Verify the changes
menu_df.info()


# testing pygwalker
pyg.walk(menu_df, dark='light')






