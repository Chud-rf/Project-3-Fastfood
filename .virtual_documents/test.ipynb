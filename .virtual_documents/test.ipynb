# Import Libraries
import altair as alt
from vega_datasets import data
import pandas as pd
import matplotlib.pyplot as plt
import numpy as np
from scipy.stats import linregress, ttest_ind
import scipy.stats as stats
from scipy import stats
import seaborn as sns
from bokeh.core.enums import MarkerType
from bokeh.plotting import figure, show
from numpy.random import random
import matplotlib.pyplot as plt, mpld3
import pygwalker as pyg
import sys


# Load CSVs
menu_df = pd.read_csv('Data/fastfood.csv')

chains_df = pd.read_csv('Data/chains.csv')


menu_df.head()


menu_df.info()


menu_df = menu_df.drop(labels=['vit_a', 'vit_c', 'calcium', 'salad'], axis=1)
menu_df.info()


# Calculate column averages
fiber_avg = menu_df['fiber'].mean()
protein_avg = menu_df['protein'].mean()

# Fill missing values with averages
menu_df['fiber'].fillna(fiber_avg, inplace=True)
menu_df['protein'].fillna(protein_avg, inplace=True)

# Verify the changes
menu_df.info()


menu_df[['restaurant']].describe()


menu_df[['restaurant']].value_counts()


restaurant_calories = menu_df.groupby('restaurant')[['calories']].mean().sort_values(by = 'calories', ascending=False)
restaurant_calories


restaurant_sodium = menu_df.groupby('restaurant')[['sodium']].mean().sort_values(by = 'sodium', ascending=False)
restaurant_sodium


mcdonalds = menu_df[menu_df['restaurant'] == 'Mcdonalds']
mcdonalds.head()


chart = alt.Chart(menu_df).transform_fold(
    ['calories', 'sodium'],
    as_=['Measurement', 'Value']
).mark_bar(
    opacity=0.3,
    binSpacing=0
).encode(
    alt.X('Value:Q', bin=alt.Bin(maxbins=100)),
    alt.Y('count()'),
    alt.Color('Measurement:N')
)

chart



plt.plot([3,1,4,1,5], 'ks-', mec='w', mew=5, ms=20)
mpld3.show()



pyg.walk(menu_df, dark='light')



