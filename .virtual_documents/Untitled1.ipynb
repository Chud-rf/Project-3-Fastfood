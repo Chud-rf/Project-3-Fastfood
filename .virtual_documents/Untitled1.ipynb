


!pip install overpy folium



from pyproj import crs
import geopandas as gpd
import matplotlib.pyplot as plt


# Create a Map instance
m = folium.Map(location=[60.25, 24.8], zoom_start=10, control_scale=True)
m


outfp = "base_map.html"
m.save(outfp)


# Create a Map instance
#     map_center = [44.9778, -93.2650]
m = folium.Map(location=[44.9778, -93.2650],
    zoom_start=12, control_scale=True)

# Add marker
# Run: help(folium.Icon) for more info about icons
folium.Marker(
    location=[44.95897, -93.27782],
    popup='McD',
    icon=folium.Icon(color='red', icon="ok-sign"),
).add_to(m)

folium.Marker(
    location=[44.99878, -93.2854],
    popup='Taco Bell',
    icon=folium.Icon(color='purple', icon='bell'),
).add_to(m)

#Show map
m



